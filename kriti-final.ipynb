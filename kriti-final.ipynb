{
 "cells": [
  {
   "cell_type": "code",
   "execution_count": 1,
   "id": "94057dc8",
   "metadata": {
    "_cell_guid": "b1076dfc-b9ad-4769-8c92-a6c4dae69d19",
    "_uuid": "8f2839f25d086af736a60e9eeb907d3b93b6e0e5",
    "execution": {
     "iopub.execute_input": "2023-02-19T10:59:52.746794Z",
     "iopub.status.busy": "2023-02-19T10:59:52.746229Z",
     "iopub.status.idle": "2023-02-19T10:59:57.725951Z",
     "shell.execute_reply": "2023-02-19T10:59:57.724152Z"
    },
    "papermill": {
     "duration": 5.001551,
     "end_time": "2023-02-19T10:59:57.728981",
     "exception": false,
     "start_time": "2023-02-19T10:59:52.727430",
     "status": "completed"
    },
    "tags": []
   },
   "outputs": [
    {
     "name": "stderr",
     "output_type": "stream",
     "text": [
      "/opt/conda/lib/python3.7/site-packages/ipykernel_launcher.py:5: FutureWarning: The pandas.datetime class is deprecated and will be removed from pandas in a future version. Import from datetime module instead.\n",
      "  \"\"\"\n"
     ]
    },
    {
     "name": "stdout",
     "output_type": "stream",
     "text": [
      "/kaggle/input/kaggle-stock-market-prediction/1_train.csv\n",
      "/kaggle/input/kaggle-stock-market-prediction/4_train.csv\n",
      "/kaggle/input/kaggle-stock-market-prediction/3_train.csv\n",
      "/kaggle/input/kaggle-stock-market-prediction/test.csv\n",
      "/kaggle/input/kaggle-stock-market-prediction/2_train.csv\n"
     ]
    }
   ],
   "source": [
    "import numpy as np \n",
    "import pandas as pd \n",
    "import matplotlib.pyplot as plt\n",
    "from pandas.plotting import lag_plot\n",
    "from pandas import datetime\n",
    "from statsmodels.tsa.arima.model import ARIMA\n",
    "from sklearn.metrics import mean_squared_error\n",
    "import seaborn as sns\n",
    "import math\n",
    "import tensorflow as tf\n",
    "import warnings\n",
    "from sklearn.metrics import mean_squared_error, mean_absolute_error\n",
    "\n",
    "# Input data files are available in the read-only \"../input/\" directory\n",
    "# For example, running this (by clicking run or pressing Shift+Enter) will list all files under the input directory\n",
    "\n",
    "import os\n",
    "for dirname, _, filenames in os.walk('/kaggle/input'):\n",
    "    for filename in filenames:\n",
    "        print(os.path.join(dirname, filename))\n",
    "\n",
    "# You can write up to 20GB to the current directory (/kaggle/working/) that gets preserved as output when you create a version using \"Save & Run All\" \n",
    "# You can also write temporary files to /kaggle/temp/, but they won't be saved outside of the current session"
   ]
  },
  {
   "cell_type": "code",
   "execution_count": 2,
   "id": "afe2d5ac",
   "metadata": {
    "execution": {
     "iopub.execute_input": "2023-02-19T10:59:57.758179Z",
     "iopub.status.busy": "2023-02-19T10:59:57.757676Z",
     "iopub.status.idle": "2023-02-19T10:59:57.828450Z",
     "shell.execute_reply": "2023-02-19T10:59:57.827356Z"
    },
    "papermill": {
     "duration": 0.087495,
     "end_time": "2023-02-19T10:59:57.830455",
     "exception": false,
     "start_time": "2023-02-19T10:59:57.742960",
     "status": "completed"
    },
    "tags": []
   },
   "outputs": [
    {
     "data": {
      "text/html": [
       "<div>\n",
       "<style scoped>\n",
       "    .dataframe tbody tr th:only-of-type {\n",
       "        vertical-align: middle;\n",
       "    }\n",
       "\n",
       "    .dataframe tbody tr th {\n",
       "        vertical-align: top;\n",
       "    }\n",
       "\n",
       "    .dataframe thead th {\n",
       "        text-align: right;\n",
       "    }\n",
       "</style>\n",
       "<table border=\"1\" class=\"dataframe\">\n",
       "  <thead>\n",
       "    <tr style=\"text-align: right;\">\n",
       "      <th></th>\n",
       "      <th>Date</th>\n",
       "      <th>Open</th>\n",
       "      <th>High</th>\n",
       "      <th>Low</th>\n",
       "      <th>Close</th>\n",
       "      <th>Adj Close</th>\n",
       "      <th>Volume</th>\n",
       "    </tr>\n",
       "  </thead>\n",
       "  <tbody>\n",
       "    <tr>\n",
       "      <th>0</th>\n",
       "      <td>2010-06-29</td>\n",
       "      <td>9.50</td>\n",
       "      <td>9.47</td>\n",
       "      <td>9.23</td>\n",
       "      <td>9.04</td>\n",
       "      <td>7.93</td>\n",
       "      <td>1.133345e+09</td>\n",
       "    </tr>\n",
       "    <tr>\n",
       "      <th>1</th>\n",
       "      <td>2010-06-30</td>\n",
       "      <td>9.25</td>\n",
       "      <td>9.22</td>\n",
       "      <td>9.00</td>\n",
       "      <td>8.70</td>\n",
       "      <td>7.52</td>\n",
       "      <td>7.394520e+08</td>\n",
       "    </tr>\n",
       "    <tr>\n",
       "      <th>2</th>\n",
       "      <td>2010-07-01</td>\n",
       "      <td>9.01</td>\n",
       "      <td>9.02</td>\n",
       "      <td>8.63</td>\n",
       "      <td>8.94</td>\n",
       "      <td>7.45</td>\n",
       "      <td>1.022896e+09</td>\n",
       "    </tr>\n",
       "    <tr>\n",
       "      <th>3</th>\n",
       "      <td>2010-07-02</td>\n",
       "      <td>8.98</td>\n",
       "      <td>8.96</td>\n",
       "      <td>8.74</td>\n",
       "      <td>8.85</td>\n",
       "      <td>7.68</td>\n",
       "      <td>6.938428e+08</td>\n",
       "    </tr>\n",
       "    <tr>\n",
       "      <th>4</th>\n",
       "      <td>2010-07-06</td>\n",
       "      <td>9.13</td>\n",
       "      <td>9.13</td>\n",
       "      <td>8.61</td>\n",
       "      <td>9.36</td>\n",
       "      <td>7.68</td>\n",
       "      <td>6.152356e+08</td>\n",
       "    </tr>\n",
       "  </tbody>\n",
       "</table>\n",
       "</div>"
      ],
      "text/plain": [
       "         Date  Open  High   Low  Close  Adj Close        Volume\n",
       "0  2010-06-29  9.50  9.47  9.23   9.04       7.93  1.133345e+09\n",
       "1  2010-06-30  9.25  9.22  9.00   8.70       7.52  7.394520e+08\n",
       "2  2010-07-01  9.01  9.02  8.63   8.94       7.45  1.022896e+09\n",
       "3  2010-07-02  8.98  8.96  8.74   8.85       7.68  6.938428e+08\n",
       "4  2010-07-06  9.13  9.13  8.61   9.36       7.68  6.152356e+08"
      ]
     },
     "execution_count": 2,
     "metadata": {},
     "output_type": "execute_result"
    }
   ],
   "source": [
    "df1 = pd.read_csv(\"/kaggle/input/kaggle-stock-market-prediction/1_train.csv\")\n",
    "df2 = pd.read_csv(\"/kaggle/input/kaggle-stock-market-prediction/2_train.csv\")\n",
    "df3 = pd.read_csv(\"/kaggle/input/kaggle-stock-market-prediction/3_train.csv\")\n",
    "df4 = pd.read_csv(\"/kaggle/input/kaggle-stock-market-prediction/4_train.csv\")\n",
    "df1.head(5)"
   ]
  },
  {
   "cell_type": "code",
   "execution_count": 3,
   "id": "c2b10758",
   "metadata": {
    "execution": {
     "iopub.execute_input": "2023-02-19T10:59:57.861136Z",
     "iopub.status.busy": "2023-02-19T10:59:57.860408Z",
     "iopub.status.idle": "2023-02-19T10:59:57.873550Z",
     "shell.execute_reply": "2023-02-19T10:59:57.872566Z"
    },
    "papermill": {
     "duration": 0.030538,
     "end_time": "2023-02-19T10:59:57.875538",
     "exception": false,
     "start_time": "2023-02-19T10:59:57.845000",
     "status": "completed"
    },
    "tags": []
   },
   "outputs": [
    {
     "data": {
      "text/plain": [
       "<bound method DataFrame.info of             Date   Open   High    Low  Close  Adj Close        Volume\n",
       "0     2010-06-29   9.50   9.47   9.23   9.04       7.93  1.133345e+09\n",
       "1     2010-06-30   9.25   9.22   9.00   8.70       7.52  7.394520e+08\n",
       "2     2010-07-01   9.01   9.02   8.63   8.94       7.45  1.022896e+09\n",
       "3     2010-07-02   8.98   8.96   8.74   8.85       7.68  6.938428e+08\n",
       "4     2010-07-06   9.13   9.13   8.61   9.36       7.68  6.152356e+08\n",
       "...          ...    ...    ...    ...    ...        ...           ...\n",
       "2525  2020-07-10  95.36  95.86  94.83  95.53      94.51  9.025720e+07\n",
       "2526  2020-07-13  97.41  99.85  95.33  97.02      93.98  1.916492e+08\n",
       "2527  2020-07-14  94.81  97.15  93.66  97.58      95.63  1.709892e+08\n",
       "2528  2020-07-15  99.06  99.18  96.41  96.67      96.28  1.531980e+08\n",
       "2529  2020-07-16  96.49  97.55  95.94  96.17      95.18  1.105776e+08\n",
       "\n",
       "[2530 rows x 7 columns]>"
      ]
     },
     "execution_count": 3,
     "metadata": {},
     "output_type": "execute_result"
    }
   ],
   "source": [
    "df1.info"
   ]
  },
  {
   "cell_type": "code",
   "execution_count": 4,
   "id": "bed77218",
   "metadata": {
    "execution": {
     "iopub.execute_input": "2023-02-19T10:59:57.904718Z",
     "iopub.status.busy": "2023-02-19T10:59:57.904374Z",
     "iopub.status.idle": "2023-02-19T10:59:57.914696Z",
     "shell.execute_reply": "2023-02-19T10:59:57.913750Z"
    },
    "papermill": {
     "duration": 0.02729,
     "end_time": "2023-02-19T10:59:57.916914",
     "exception": false,
     "start_time": "2023-02-19T10:59:57.889624",
     "status": "completed"
    },
    "tags": []
   },
   "outputs": [],
   "source": [
    "df1.dropna(inplace=True)"
   ]
  },
  {
   "cell_type": "code",
   "execution_count": 5,
   "id": "b174a53b",
   "metadata": {
    "execution": {
     "iopub.execute_input": "2023-02-19T10:59:57.950643Z",
     "iopub.status.busy": "2023-02-19T10:59:57.949706Z",
     "iopub.status.idle": "2023-02-19T10:59:57.961233Z",
     "shell.execute_reply": "2023-02-19T10:59:57.960420Z"
    },
    "papermill": {
     "duration": 0.031838,
     "end_time": "2023-02-19T10:59:57.963143",
     "exception": false,
     "start_time": "2023-02-19T10:59:57.931305",
     "status": "completed"
    },
    "tags": []
   },
   "outputs": [],
   "source": [
    "df1[\"Date\"] = pd.to_datetime(df1[\"Date\"])\n",
    "df1 = df1.astype({\"Open\": float, \"Volume\": float, \"Close\":float, \"High\":float, \"Low\":float, \"Adj Close\":float})"
   ]
  },
  {
   "cell_type": "code",
   "execution_count": 6,
   "id": "16d04419",
   "metadata": {
    "execution": {
     "iopub.execute_input": "2023-02-19T10:59:57.992015Z",
     "iopub.status.busy": "2023-02-19T10:59:57.991135Z",
     "iopub.status.idle": "2023-02-19T10:59:57.999523Z",
     "shell.execute_reply": "2023-02-19T10:59:57.998694Z"
    },
    "papermill": {
     "duration": 0.024633,
     "end_time": "2023-02-19T10:59:58.001454",
     "exception": false,
     "start_time": "2023-02-19T10:59:57.976821",
     "status": "completed"
    },
    "tags": []
   },
   "outputs": [],
   "source": [
    "df1 = df1.sort_values(by = 'Date', ignore_index = True)\n",
    "df4 = df4.sort_values(by = 'Date', ignore_index = True)"
   ]
  },
  {
   "cell_type": "code",
   "execution_count": 7,
   "id": "c266d3bb",
   "metadata": {
    "execution": {
     "iopub.execute_input": "2023-02-19T10:59:58.030630Z",
     "iopub.status.busy": "2023-02-19T10:59:58.029819Z",
     "iopub.status.idle": "2023-02-19T10:59:58.058338Z",
     "shell.execute_reply": "2023-02-19T10:59:58.057238Z"
    },
    "papermill": {
     "duration": 0.044975,
     "end_time": "2023-02-19T10:59:58.060308",
     "exception": false,
     "start_time": "2023-02-19T10:59:58.015333",
     "status": "completed"
    },
    "tags": []
   },
   "outputs": [
    {
     "data": {
      "text/html": [
       "<div>\n",
       "<style scoped>\n",
       "    .dataframe tbody tr th:only-of-type {\n",
       "        vertical-align: middle;\n",
       "    }\n",
       "\n",
       "    .dataframe tbody tr th {\n",
       "        vertical-align: top;\n",
       "    }\n",
       "\n",
       "    .dataframe thead th {\n",
       "        text-align: right;\n",
       "    }\n",
       "</style>\n",
       "<table border=\"1\" class=\"dataframe\">\n",
       "  <thead>\n",
       "    <tr style=\"text-align: right;\">\n",
       "      <th></th>\n",
       "      <th>Open</th>\n",
       "      <th>High</th>\n",
       "      <th>Low</th>\n",
       "      <th>Close</th>\n",
       "      <th>Adj Close</th>\n",
       "      <th>Volume</th>\n",
       "    </tr>\n",
       "  </thead>\n",
       "  <tbody>\n",
       "    <tr>\n",
       "      <th>count</th>\n",
       "      <td>2530.000000</td>\n",
       "      <td>2530.000000</td>\n",
       "      <td>2530.000000</td>\n",
       "      <td>2530.000000</td>\n",
       "      <td>2530.000000</td>\n",
       "      <td>2.530000e+03</td>\n",
       "    </tr>\n",
       "    <tr>\n",
       "      <th>mean</th>\n",
       "      <td>31.157111</td>\n",
       "      <td>31.464870</td>\n",
       "      <td>30.864387</td>\n",
       "      <td>31.211336</td>\n",
       "      <td>29.075569</td>\n",
       "      <td>2.740761e+08</td>\n",
       "    </tr>\n",
       "    <tr>\n",
       "      <th>std</th>\n",
       "      <td>17.325480</td>\n",
       "      <td>17.545733</td>\n",
       "      <td>17.151493</td>\n",
       "      <td>17.413014</td>\n",
       "      <td>17.584420</td>\n",
       "      <td>2.121083e+08</td>\n",
       "    </tr>\n",
       "    <tr>\n",
       "      <th>min</th>\n",
       "      <td>8.330000</td>\n",
       "      <td>8.580000</td>\n",
       "      <td>8.290000</td>\n",
       "      <td>8.490000</td>\n",
       "      <td>7.270000</td>\n",
       "      <td>4.544800e+07</td>\n",
       "    </tr>\n",
       "    <tr>\n",
       "      <th>25%</th>\n",
       "      <td>18.470000</td>\n",
       "      <td>18.642500</td>\n",
       "      <td>18.355000</td>\n",
       "      <td>18.482500</td>\n",
       "      <td>16.052500</td>\n",
       "      <td>1.194368e+08</td>\n",
       "    </tr>\n",
       "    <tr>\n",
       "      <th>50%</th>\n",
       "      <td>26.985000</td>\n",
       "      <td>27.230000</td>\n",
       "      <td>26.795000</td>\n",
       "      <td>27.065000</td>\n",
       "      <td>24.745000</td>\n",
       "      <td>2.004314e+08</td>\n",
       "    </tr>\n",
       "    <tr>\n",
       "      <th>75%</th>\n",
       "      <td>41.597500</td>\n",
       "      <td>42.175000</td>\n",
       "      <td>41.097500</td>\n",
       "      <td>41.677500</td>\n",
       "      <td>39.787500</td>\n",
       "      <td>3.727283e+08</td>\n",
       "    </tr>\n",
       "    <tr>\n",
       "      <th>max</th>\n",
       "      <td>99.060000</td>\n",
       "      <td>99.850000</td>\n",
       "      <td>96.410000</td>\n",
       "      <td>97.580000</td>\n",
       "      <td>96.280000</td>\n",
       "      <td>1.880998e+09</td>\n",
       "    </tr>\n",
       "  </tbody>\n",
       "</table>\n",
       "</div>"
      ],
      "text/plain": [
       "              Open         High          Low        Close    Adj Close  \\\n",
       "count  2530.000000  2530.000000  2530.000000  2530.000000  2530.000000   \n",
       "mean     31.157111    31.464870    30.864387    31.211336    29.075569   \n",
       "std      17.325480    17.545733    17.151493    17.413014    17.584420   \n",
       "min       8.330000     8.580000     8.290000     8.490000     7.270000   \n",
       "25%      18.470000    18.642500    18.355000    18.482500    16.052500   \n",
       "50%      26.985000    27.230000    26.795000    27.065000    24.745000   \n",
       "75%      41.597500    42.175000    41.097500    41.677500    39.787500   \n",
       "max      99.060000    99.850000    96.410000    97.580000    96.280000   \n",
       "\n",
       "             Volume  \n",
       "count  2.530000e+03  \n",
       "mean   2.740761e+08  \n",
       "std    2.121083e+08  \n",
       "min    4.544800e+07  \n",
       "25%    1.194368e+08  \n",
       "50%    2.004314e+08  \n",
       "75%    3.727283e+08  \n",
       "max    1.880998e+09  "
      ]
     },
     "execution_count": 7,
     "metadata": {},
     "output_type": "execute_result"
    }
   ],
   "source": [
    "df1.describe()"
   ]
  },
  {
   "cell_type": "code",
   "execution_count": 8,
   "id": "27516fc3",
   "metadata": {
    "execution": {
     "iopub.execute_input": "2023-02-19T10:59:58.089807Z",
     "iopub.status.busy": "2023-02-19T10:59:58.089117Z",
     "iopub.status.idle": "2023-02-19T10:59:58.102507Z",
     "shell.execute_reply": "2023-02-19T10:59:58.101557Z"
    },
    "papermill": {
     "duration": 0.02997,
     "end_time": "2023-02-19T10:59:58.104504",
     "exception": false,
     "start_time": "2023-02-19T10:59:58.074534",
     "status": "completed"
    },
    "tags": []
   },
   "outputs": [
    {
     "data": {
      "text/html": [
       "<div>\n",
       "<style scoped>\n",
       "    .dataframe tbody tr th:only-of-type {\n",
       "        vertical-align: middle;\n",
       "    }\n",
       "\n",
       "    .dataframe tbody tr th {\n",
       "        vertical-align: top;\n",
       "    }\n",
       "\n",
       "    .dataframe thead th {\n",
       "        text-align: right;\n",
       "    }\n",
       "</style>\n",
       "<table border=\"1\" class=\"dataframe\">\n",
       "  <thead>\n",
       "    <tr style=\"text-align: right;\">\n",
       "      <th></th>\n",
       "      <th>Date</th>\n",
       "      <th>Open</th>\n",
       "      <th>High</th>\n",
       "      <th>Low</th>\n",
       "      <th>Close</th>\n",
       "      <th>Adj Close</th>\n",
       "      <th>Volume</th>\n",
       "    </tr>\n",
       "  </thead>\n",
       "  <tbody>\n",
       "    <tr>\n",
       "      <th>0</th>\n",
       "      <td>2010-06-29</td>\n",
       "      <td>5.73</td>\n",
       "      <td>5.94</td>\n",
       "      <td>5.19</td>\n",
       "      <td>5.49</td>\n",
       "      <td>5.52</td>\n",
       "      <td>257326000.0</td>\n",
       "    </tr>\n",
       "    <tr>\n",
       "      <th>1</th>\n",
       "      <td>2010-06-30</td>\n",
       "      <td>5.49</td>\n",
       "      <td>5.73</td>\n",
       "      <td>5.28</td>\n",
       "      <td>5.38</td>\n",
       "      <td>5.36</td>\n",
       "      <td>194814000.0</td>\n",
       "    </tr>\n",
       "    <tr>\n",
       "      <th>2</th>\n",
       "      <td>2010-07-01</td>\n",
       "      <td>5.48</td>\n",
       "      <td>5.61</td>\n",
       "      <td>5.47</td>\n",
       "      <td>5.45</td>\n",
       "      <td>5.65</td>\n",
       "      <td>170596000.0</td>\n",
       "    </tr>\n",
       "    <tr>\n",
       "      <th>3</th>\n",
       "      <td>2010-07-02</td>\n",
       "      <td>5.64</td>\n",
       "      <td>5.45</td>\n",
       "      <td>5.56</td>\n",
       "      <td>5.54</td>\n",
       "      <td>5.42</td>\n",
       "      <td>89542000.0</td>\n",
       "    </tr>\n",
       "    <tr>\n",
       "      <th>4</th>\n",
       "      <td>2010-07-06</td>\n",
       "      <td>5.58</td>\n",
       "      <td>5.49</td>\n",
       "      <td>5.44</td>\n",
       "      <td>5.67</td>\n",
       "      <td>5.61</td>\n",
       "      <td>104386000.0</td>\n",
       "    </tr>\n",
       "  </tbody>\n",
       "</table>\n",
       "</div>"
      ],
      "text/plain": [
       "         Date  Open  High   Low  Close  Adj Close       Volume\n",
       "0  2010-06-29  5.73  5.94  5.19   5.49       5.52  257326000.0\n",
       "1  2010-06-30  5.49  5.73  5.28   5.38       5.36  194814000.0\n",
       "2  2010-07-01  5.48  5.61  5.47   5.45       5.65  170596000.0\n",
       "3  2010-07-02  5.64  5.45  5.56   5.54       5.42   89542000.0\n",
       "4  2010-07-06  5.58  5.49  5.44   5.67       5.61  104386000.0"
      ]
     },
     "execution_count": 8,
     "metadata": {},
     "output_type": "execute_result"
    }
   ],
   "source": [
    "df2.head(5)"
   ]
  },
  {
   "cell_type": "code",
   "execution_count": 9,
   "id": "79d18462",
   "metadata": {
    "execution": {
     "iopub.execute_input": "2023-02-19T10:59:58.135647Z",
     "iopub.status.busy": "2023-02-19T10:59:58.134890Z",
     "iopub.status.idle": "2023-02-19T10:59:58.147320Z",
     "shell.execute_reply": "2023-02-19T10:59:58.146371Z"
    },
    "papermill": {
     "duration": 0.030526,
     "end_time": "2023-02-19T10:59:58.149494",
     "exception": false,
     "start_time": "2023-02-19T10:59:58.118968",
     "status": "completed"
    },
    "tags": []
   },
   "outputs": [
    {
     "data": {
      "text/plain": [
       "<bound method DataFrame.info of             Date    Open    High     Low   Close  Adj Close       Volume\n",
       "0     2010-06-29    5.73    5.94    5.19    5.49       5.52  257326000.0\n",
       "1     2010-06-30    5.49    5.73    5.28    5.38       5.36  194814000.0\n",
       "2     2010-07-01    5.48    5.61    5.47    5.45       5.65  170596000.0\n",
       "3     2010-07-02    5.64    5.45    5.56    5.54       5.42   89542000.0\n",
       "4     2010-07-06    5.58    5.49    5.44    5.67       5.61  104386000.0\n",
       "...          ...     ...     ...     ...     ...        ...          ...\n",
       "2525  2020-07-10  159.46  160.78  156.69  155.17     159.99  109720000.0\n",
       "2526  2020-07-13  162.51  167.29  153.21  154.22     155.16  154408000.0\n",
       "2527  2020-07-14  154.55  156.58  147.63  150.41     154.21  144638000.0\n",
       "2528  2020-07-15  154.06  154.82  148.73  150.04     150.39  115778000.0\n",
       "2529  2020-07-16  148.37  151.63  145.88  148.01     150.01  127884000.0\n",
       "\n",
       "[2530 rows x 7 columns]>"
      ]
     },
     "execution_count": 9,
     "metadata": {},
     "output_type": "execute_result"
    }
   ],
   "source": [
    "df2.info"
   ]
  },
  {
   "cell_type": "code",
   "execution_count": 10,
   "id": "2a238b44",
   "metadata": {
    "execution": {
     "iopub.execute_input": "2023-02-19T10:59:58.180512Z",
     "iopub.status.busy": "2023-02-19T10:59:58.179844Z",
     "iopub.status.idle": "2023-02-19T10:59:58.212090Z",
     "shell.execute_reply": "2023-02-19T10:59:58.211113Z"
    },
    "papermill": {
     "duration": 0.049862,
     "end_time": "2023-02-19T10:59:58.214170",
     "exception": false,
     "start_time": "2023-02-19T10:59:58.164308",
     "status": "completed"
    },
    "tags": []
   },
   "outputs": [
    {
     "data": {
      "text/html": [
       "<div>\n",
       "<style scoped>\n",
       "    .dataframe tbody tr th:only-of-type {\n",
       "        vertical-align: middle;\n",
       "    }\n",
       "\n",
       "    .dataframe tbody tr th {\n",
       "        vertical-align: top;\n",
       "    }\n",
       "\n",
       "    .dataframe thead th {\n",
       "        text-align: right;\n",
       "    }\n",
       "</style>\n",
       "<table border=\"1\" class=\"dataframe\">\n",
       "  <thead>\n",
       "    <tr style=\"text-align: right;\">\n",
       "      <th></th>\n",
       "      <th>Open</th>\n",
       "      <th>High</th>\n",
       "      <th>Low</th>\n",
       "      <th>Close</th>\n",
       "      <th>Adj Close</th>\n",
       "      <th>Volume</th>\n",
       "    </tr>\n",
       "  </thead>\n",
       "  <tbody>\n",
       "    <tr>\n",
       "      <th>count</th>\n",
       "      <td>2530.000000</td>\n",
       "      <td>2530.000000</td>\n",
       "      <td>2530.000000</td>\n",
       "      <td>2530.000000</td>\n",
       "      <td>2530.000000</td>\n",
       "      <td>2.530000e+03</td>\n",
       "    </tr>\n",
       "    <tr>\n",
       "      <th>mean</th>\n",
       "      <td>39.350929</td>\n",
       "      <td>39.758130</td>\n",
       "      <td>38.901684</td>\n",
       "      <td>39.411652</td>\n",
       "      <td>39.353498</td>\n",
       "      <td>8.756023e+07</td>\n",
       "    </tr>\n",
       "    <tr>\n",
       "      <th>std</th>\n",
       "      <td>33.464502</td>\n",
       "      <td>33.837726</td>\n",
       "      <td>33.069605</td>\n",
       "      <td>33.542876</td>\n",
       "      <td>33.478299</td>\n",
       "      <td>5.100261e+07</td>\n",
       "    </tr>\n",
       "    <tr>\n",
       "      <th>min</th>\n",
       "      <td>5.230000</td>\n",
       "      <td>5.450000</td>\n",
       "      <td>5.190000</td>\n",
       "      <td>5.380000</td>\n",
       "      <td>5.360000</td>\n",
       "      <td>1.762600e+07</td>\n",
       "    </tr>\n",
       "    <tr>\n",
       "      <th>25%</th>\n",
       "      <td>12.870000</td>\n",
       "      <td>12.992500</td>\n",
       "      <td>12.730000</td>\n",
       "      <td>12.882500</td>\n",
       "      <td>12.890000</td>\n",
       "      <td>5.549100e+07</td>\n",
       "    </tr>\n",
       "    <tr>\n",
       "      <th>50%</th>\n",
       "      <td>22.140000</td>\n",
       "      <td>22.420000</td>\n",
       "      <td>21.975000</td>\n",
       "      <td>22.280000</td>\n",
       "      <td>22.120000</td>\n",
       "      <td>7.474000e+07</td>\n",
       "    </tr>\n",
       "    <tr>\n",
       "      <th>75%</th>\n",
       "      <td>62.852500</td>\n",
       "      <td>62.967500</td>\n",
       "      <td>62.055000</td>\n",
       "      <td>63.465000</td>\n",
       "      <td>62.630000</td>\n",
       "      <td>1.033310e+08</td>\n",
       "    </tr>\n",
       "    <tr>\n",
       "      <th>max</th>\n",
       "      <td>162.510000</td>\n",
       "      <td>167.290000</td>\n",
       "      <td>156.690000</td>\n",
       "      <td>160.160000</td>\n",
       "      <td>159.990000</td>\n",
       "      <td>8.484220e+08</td>\n",
       "    </tr>\n",
       "  </tbody>\n",
       "</table>\n",
       "</div>"
      ],
      "text/plain": [
       "              Open         High          Low        Close    Adj Close  \\\n",
       "count  2530.000000  2530.000000  2530.000000  2530.000000  2530.000000   \n",
       "mean     39.350929    39.758130    38.901684    39.411652    39.353498   \n",
       "std      33.464502    33.837726    33.069605    33.542876    33.478299   \n",
       "min       5.230000     5.450000     5.190000     5.380000     5.360000   \n",
       "25%      12.870000    12.992500    12.730000    12.882500    12.890000   \n",
       "50%      22.140000    22.420000    21.975000    22.280000    22.120000   \n",
       "75%      62.852500    62.967500    62.055000    63.465000    62.630000   \n",
       "max     162.510000   167.290000   156.690000   160.160000   159.990000   \n",
       "\n",
       "             Volume  \n",
       "count  2.530000e+03  \n",
       "mean   8.756023e+07  \n",
       "std    5.100261e+07  \n",
       "min    1.762600e+07  \n",
       "25%    5.549100e+07  \n",
       "50%    7.474000e+07  \n",
       "75%    1.033310e+08  \n",
       "max    8.484220e+08  "
      ]
     },
     "execution_count": 10,
     "metadata": {},
     "output_type": "execute_result"
    }
   ],
   "source": [
    "df2.dropna(inplace=True)\n",
    "df2[\"Date\"] = pd.to_datetime(df2[\"Date\"])\n",
    "df2 = df2.astype({\"Open\": float, \"Volume\": float, \"Close\":float, \"High\":float, \"Low\":float, \"Adj Close\":float})\n",
    "df2.describe()"
   ]
  },
  {
   "cell_type": "code",
   "execution_count": 11,
   "id": "6d46121c",
   "metadata": {
    "execution": {
     "iopub.execute_input": "2023-02-19T10:59:58.244868Z",
     "iopub.status.busy": "2023-02-19T10:59:58.244291Z",
     "iopub.status.idle": "2023-02-19T10:59:58.257581Z",
     "shell.execute_reply": "2023-02-19T10:59:58.256676Z"
    },
    "papermill": {
     "duration": 0.030941,
     "end_time": "2023-02-19T10:59:58.259699",
     "exception": false,
     "start_time": "2023-02-19T10:59:58.228758",
     "status": "completed"
    },
    "tags": []
   },
   "outputs": [
    {
     "data": {
      "text/html": [
       "<div>\n",
       "<style scoped>\n",
       "    .dataframe tbody tr th:only-of-type {\n",
       "        vertical-align: middle;\n",
       "    }\n",
       "\n",
       "    .dataframe tbody tr th {\n",
       "        vertical-align: top;\n",
       "    }\n",
       "\n",
       "    .dataframe thead th {\n",
       "        text-align: right;\n",
       "    }\n",
       "</style>\n",
       "<table border=\"1\" class=\"dataframe\">\n",
       "  <thead>\n",
       "    <tr style=\"text-align: right;\">\n",
       "      <th></th>\n",
       "      <th>Date</th>\n",
       "      <th>Open</th>\n",
       "      <th>High</th>\n",
       "      <th>Low</th>\n",
       "      <th>Close</th>\n",
       "      <th>Adj Close</th>\n",
       "      <th>Volume</th>\n",
       "    </tr>\n",
       "  </thead>\n",
       "  <tbody>\n",
       "    <tr>\n",
       "      <th>0</th>\n",
       "      <td>2010-06-29</td>\n",
       "      <td>2.76</td>\n",
       "      <td>2.63</td>\n",
       "      <td>2.48</td>\n",
       "      <td>2.59</td>\n",
       "      <td>2.38</td>\n",
       "      <td>66080800.0</td>\n",
       "    </tr>\n",
       "    <tr>\n",
       "      <th>1</th>\n",
       "      <td>2010-06-30</td>\n",
       "      <td>2.62</td>\n",
       "      <td>2.54</td>\n",
       "      <td>2.73</td>\n",
       "      <td>2.46</td>\n",
       "      <td>2.15</td>\n",
       "      <td>62307200.0</td>\n",
       "    </tr>\n",
       "    <tr>\n",
       "      <th>2</th>\n",
       "      <td>2010-07-01</td>\n",
       "      <td>2.48</td>\n",
       "      <td>2.46</td>\n",
       "      <td>2.55</td>\n",
       "      <td>2.66</td>\n",
       "      <td>2.46</td>\n",
       "      <td>73700800.0</td>\n",
       "    </tr>\n",
       "    <tr>\n",
       "      <th>3</th>\n",
       "      <td>2010-07-02</td>\n",
       "      <td>2.79</td>\n",
       "      <td>2.74</td>\n",
       "      <td>2.52</td>\n",
       "      <td>2.41</td>\n",
       "      <td>2.41</td>\n",
       "      <td>73709600.0</td>\n",
       "    </tr>\n",
       "    <tr>\n",
       "      <th>4</th>\n",
       "      <td>2010-07-06</td>\n",
       "      <td>2.34</td>\n",
       "      <td>2.60</td>\n",
       "      <td>2.69</td>\n",
       "      <td>2.60</td>\n",
       "      <td>2.26</td>\n",
       "      <td>71202000.0</td>\n",
       "    </tr>\n",
       "  </tbody>\n",
       "</table>\n",
       "</div>"
      ],
      "text/plain": [
       "         Date  Open  High   Low  Close  Adj Close      Volume\n",
       "0  2010-06-29  2.76  2.63  2.48   2.59       2.38  66080800.0\n",
       "1  2010-06-30  2.62  2.54  2.73   2.46       2.15  62307200.0\n",
       "2  2010-07-01  2.48  2.46  2.55   2.66       2.46  73700800.0\n",
       "3  2010-07-02  2.79  2.74  2.52   2.41       2.41  73709600.0\n",
       "4  2010-07-06  2.34  2.60  2.69   2.60       2.26  71202000.0"
      ]
     },
     "execution_count": 11,
     "metadata": {},
     "output_type": "execute_result"
    }
   ],
   "source": [
    "df3.head()"
   ]
  },
  {
   "cell_type": "markdown",
   "id": "90fef493",
   "metadata": {
    "papermill": {
     "duration": 0.014782,
     "end_time": "2023-02-19T10:59:58.289925",
     "exception": false,
     "start_time": "2023-02-19T10:59:58.275143",
     "status": "completed"
    },
    "tags": []
   },
   "source": [
    "### "
   ]
  },
  {
   "cell_type": "code",
   "execution_count": 12,
   "id": "bd211317",
   "metadata": {
    "execution": {
     "iopub.execute_input": "2023-02-19T10:59:58.320732Z",
     "iopub.status.busy": "2023-02-19T10:59:58.320376Z",
     "iopub.status.idle": "2023-02-19T10:59:58.333647Z",
     "shell.execute_reply": "2023-02-19T10:59:58.332650Z"
    },
    "papermill": {
     "duration": 0.031207,
     "end_time": "2023-02-19T10:59:58.335808",
     "exception": false,
     "start_time": "2023-02-19T10:59:58.304601",
     "status": "completed"
    },
    "tags": []
   },
   "outputs": [
    {
     "data": {
      "text/plain": [
       "<bound method DataFrame.info of             Date    Open    High     Low   Close  Adj Close      Volume\n",
       "0     2010-06-29    2.76    2.63    2.48    2.59       2.38  66080800.0\n",
       "1     2010-06-30    2.62    2.54    2.73    2.46       2.15  62307200.0\n",
       "2     2010-07-01    2.48    2.46    2.55    2.66       2.46  73700800.0\n",
       "3     2010-07-02    2.79    2.74    2.52    2.41       2.41  73709600.0\n",
       "4     2010-07-06    2.34    2.60    2.69    2.60       2.26  71202000.0\n",
       "...          ...     ...     ...     ...     ...        ...         ...\n",
       "2525  2020-07-10  105.69  106.60  103.97  100.45     104.59  49767600.0\n",
       "2526  2020-07-13  105.84  107.91  100.30  103.76     100.22  45707600.0\n",
       "2527  2020-07-14  100.73  104.00   98.05  102.24     103.65  54267600.0\n",
       "2528  2020-07-15  103.92  104.38  100.59  101.27     102.09  40398400.0\n",
       "2529  2020-07-16  100.10  101.90   98.99  102.13     101.25  34496400.0\n",
       "\n",
       "[2530 rows x 7 columns]>"
      ]
     },
     "execution_count": 12,
     "metadata": {},
     "output_type": "execute_result"
    }
   ],
   "source": [
    "df3.info"
   ]
  },
  {
   "cell_type": "code",
   "execution_count": 13,
   "id": "b056f0c4",
   "metadata": {
    "execution": {
     "iopub.execute_input": "2023-02-19T10:59:58.367151Z",
     "iopub.status.busy": "2023-02-19T10:59:58.366423Z",
     "iopub.status.idle": "2023-02-19T10:59:58.397770Z",
     "shell.execute_reply": "2023-02-19T10:59:58.396738Z"
    },
    "papermill": {
     "duration": 0.048769,
     "end_time": "2023-02-19T10:59:58.399859",
     "exception": false,
     "start_time": "2023-02-19T10:59:58.351090",
     "status": "completed"
    },
    "tags": []
   },
   "outputs": [
    {
     "data": {
      "text/html": [
       "<div>\n",
       "<style scoped>\n",
       "    .dataframe tbody tr th:only-of-type {\n",
       "        vertical-align: middle;\n",
       "    }\n",
       "\n",
       "    .dataframe tbody tr th {\n",
       "        vertical-align: top;\n",
       "    }\n",
       "\n",
       "    .dataframe thead th {\n",
       "        text-align: right;\n",
       "    }\n",
       "</style>\n",
       "<table border=\"1\" class=\"dataframe\">\n",
       "  <thead>\n",
       "    <tr style=\"text-align: right;\">\n",
       "      <th></th>\n",
       "      <th>Open</th>\n",
       "      <th>High</th>\n",
       "      <th>Low</th>\n",
       "      <th>Close</th>\n",
       "      <th>Adj Close</th>\n",
       "      <th>Volume</th>\n",
       "    </tr>\n",
       "  </thead>\n",
       "  <tbody>\n",
       "    <tr>\n",
       "      <th>count</th>\n",
       "      <td>2530.000000</td>\n",
       "      <td>2530.000000</td>\n",
       "      <td>2530.000000</td>\n",
       "      <td>2530.000000</td>\n",
       "      <td>2530.000000</td>\n",
       "      <td>2.530000e+03</td>\n",
       "    </tr>\n",
       "    <tr>\n",
       "      <th>mean</th>\n",
       "      <td>21.464719</td>\n",
       "      <td>21.807889</td>\n",
       "      <td>21.111696</td>\n",
       "      <td>21.512372</td>\n",
       "      <td>21.184036</td>\n",
       "      <td>5.128641e+07</td>\n",
       "    </tr>\n",
       "    <tr>\n",
       "      <th>std</th>\n",
       "      <td>23.724395</td>\n",
       "      <td>24.113423</td>\n",
       "      <td>23.311978</td>\n",
       "      <td>23.785553</td>\n",
       "      <td>23.677313</td>\n",
       "      <td>3.419648e+07</td>\n",
       "    </tr>\n",
       "    <tr>\n",
       "      <th>min</th>\n",
       "      <td>2.080000</td>\n",
       "      <td>2.230000</td>\n",
       "      <td>1.990000</td>\n",
       "      <td>2.110000</td>\n",
       "      <td>1.940000</td>\n",
       "      <td>4.564400e+06</td>\n",
       "    </tr>\n",
       "    <tr>\n",
       "      <th>25%</th>\n",
       "      <td>3.770000</td>\n",
       "      <td>3.840000</td>\n",
       "      <td>3.730000</td>\n",
       "      <td>3.790000</td>\n",
       "      <td>3.492500</td>\n",
       "      <td>2.995540e+07</td>\n",
       "    </tr>\n",
       "    <tr>\n",
       "      <th>50%</th>\n",
       "      <td>5.710000</td>\n",
       "      <td>5.755000</td>\n",
       "      <td>5.600000</td>\n",
       "      <td>5.730000</td>\n",
       "      <td>5.480000</td>\n",
       "      <td>4.229940e+07</td>\n",
       "    </tr>\n",
       "    <tr>\n",
       "      <th>75%</th>\n",
       "      <td>40.502500</td>\n",
       "      <td>41.227500</td>\n",
       "      <td>39.820000</td>\n",
       "      <td>40.497500</td>\n",
       "      <td>40.150000</td>\n",
       "      <td>6.252820e+07</td>\n",
       "    </tr>\n",
       "    <tr>\n",
       "      <th>max</th>\n",
       "      <td>105.840000</td>\n",
       "      <td>107.910000</td>\n",
       "      <td>103.970000</td>\n",
       "      <td>105.230000</td>\n",
       "      <td>104.660000</td>\n",
       "      <td>3.692928e+08</td>\n",
       "    </tr>\n",
       "  </tbody>\n",
       "</table>\n",
       "</div>"
      ],
      "text/plain": [
       "              Open         High          Low        Close    Adj Close  \\\n",
       "count  2530.000000  2530.000000  2530.000000  2530.000000  2530.000000   \n",
       "mean     21.464719    21.807889    21.111696    21.512372    21.184036   \n",
       "std      23.724395    24.113423    23.311978    23.785553    23.677313   \n",
       "min       2.080000     2.230000     1.990000     2.110000     1.940000   \n",
       "25%       3.770000     3.840000     3.730000     3.790000     3.492500   \n",
       "50%       5.710000     5.755000     5.600000     5.730000     5.480000   \n",
       "75%      40.502500    41.227500    39.820000    40.497500    40.150000   \n",
       "max     105.840000   107.910000   103.970000   105.230000   104.660000   \n",
       "\n",
       "             Volume  \n",
       "count  2.530000e+03  \n",
       "mean   5.128641e+07  \n",
       "std    3.419648e+07  \n",
       "min    4.564400e+06  \n",
       "25%    2.995540e+07  \n",
       "50%    4.229940e+07  \n",
       "75%    6.252820e+07  \n",
       "max    3.692928e+08  "
      ]
     },
     "execution_count": 13,
     "metadata": {},
     "output_type": "execute_result"
    }
   ],
   "source": [
    "df3.dropna(inplace=True)\n",
    "df3[\"Date\"] = pd.to_datetime(df3[\"Date\"])\n",
    "df3 = df3.astype({\"Open\": float, \"Volume\": float, \"Close\":float, \"High\":float, \"Low\":float, \"Adj Close\":float})\n",
    "df3.describe()"
   ]
  },
  {
   "cell_type": "code",
   "execution_count": 14,
   "id": "f5583112",
   "metadata": {
    "execution": {
     "iopub.execute_input": "2023-02-19T10:59:58.432357Z",
     "iopub.status.busy": "2023-02-19T10:59:58.431374Z",
     "iopub.status.idle": "2023-02-19T10:59:58.445325Z",
     "shell.execute_reply": "2023-02-19T10:59:58.444303Z"
    },
    "papermill": {
     "duration": 0.031817,
     "end_time": "2023-02-19T10:59:58.447381",
     "exception": false,
     "start_time": "2023-02-19T10:59:58.415564",
     "status": "completed"
    },
    "tags": []
   },
   "outputs": [
    {
     "data": {
      "text/html": [
       "<div>\n",
       "<style scoped>\n",
       "    .dataframe tbody tr th:only-of-type {\n",
       "        vertical-align: middle;\n",
       "    }\n",
       "\n",
       "    .dataframe tbody tr th {\n",
       "        vertical-align: top;\n",
       "    }\n",
       "\n",
       "    .dataframe thead th {\n",
       "        text-align: right;\n",
       "    }\n",
       "</style>\n",
       "<table border=\"1\" class=\"dataframe\">\n",
       "  <thead>\n",
       "    <tr style=\"text-align: right;\">\n",
       "      <th></th>\n",
       "      <th>Date</th>\n",
       "      <th>Open</th>\n",
       "      <th>High</th>\n",
       "      <th>Low</th>\n",
       "      <th>Close</th>\n",
       "      <th>Adj Close</th>\n",
       "      <th>Volume</th>\n",
       "    </tr>\n",
       "  </thead>\n",
       "  <tbody>\n",
       "    <tr>\n",
       "      <th>0</th>\n",
       "      <td>01-02-2011</td>\n",
       "      <td>1.74</td>\n",
       "      <td>1.73</td>\n",
       "      <td>1.62</td>\n",
       "      <td>1.53</td>\n",
       "      <td>1.51</td>\n",
       "      <td>10617000.0</td>\n",
       "    </tr>\n",
       "    <tr>\n",
       "      <th>1</th>\n",
       "      <td>01-02-2012</td>\n",
       "      <td>2.04</td>\n",
       "      <td>1.95</td>\n",
       "      <td>1.85</td>\n",
       "      <td>2.13</td>\n",
       "      <td>1.97</td>\n",
       "      <td>7848000.0</td>\n",
       "    </tr>\n",
       "    <tr>\n",
       "      <th>2</th>\n",
       "      <td>01-02-2013</td>\n",
       "      <td>2.41</td>\n",
       "      <td>2.39</td>\n",
       "      <td>2.48</td>\n",
       "      <td>2.49</td>\n",
       "      <td>2.57</td>\n",
       "      <td>16509000.0</td>\n",
       "    </tr>\n",
       "    <tr>\n",
       "      <th>3</th>\n",
       "      <td>01-02-2016</td>\n",
       "      <td>12.65</td>\n",
       "      <td>13.27</td>\n",
       "      <td>12.25</td>\n",
       "      <td>12.04</td>\n",
       "      <td>13.19</td>\n",
       "      <td>79464000.0</td>\n",
       "    </tr>\n",
       "    <tr>\n",
       "      <th>4</th>\n",
       "      <td>01-02-2017</td>\n",
       "      <td>16.90</td>\n",
       "      <td>16.84</td>\n",
       "      <td>16.59</td>\n",
       "      <td>16.89</td>\n",
       "      <td>16.47</td>\n",
       "      <td>59382000.0</td>\n",
       "    </tr>\n",
       "  </tbody>\n",
       "</table>\n",
       "</div>"
      ],
      "text/plain": [
       "         Date   Open   High    Low  Close  Adj Close      Volume\n",
       "0  01-02-2011   1.74   1.73   1.62   1.53       1.51  10617000.0\n",
       "1  01-02-2012   2.04   1.95   1.85   2.13       1.97   7848000.0\n",
       "2  01-02-2013   2.41   2.39   2.48   2.49       2.57  16509000.0\n",
       "3  01-02-2016  12.65  13.27  12.25  12.04      13.19  79464000.0\n",
       "4  01-02-2017  16.90  16.84  16.59  16.89      16.47  59382000.0"
      ]
     },
     "execution_count": 14,
     "metadata": {},
     "output_type": "execute_result"
    }
   ],
   "source": [
    "df4.head()"
   ]
  },
  {
   "cell_type": "code",
   "execution_count": 15,
   "id": "be801b62",
   "metadata": {
    "execution": {
     "iopub.execute_input": "2023-02-19T10:59:58.478606Z",
     "iopub.status.busy": "2023-02-19T10:59:58.478300Z",
     "iopub.status.idle": "2023-02-19T10:59:58.489743Z",
     "shell.execute_reply": "2023-02-19T10:59:58.488863Z"
    },
    "papermill": {
     "duration": 0.029128,
     "end_time": "2023-02-19T10:59:58.491626",
     "exception": false,
     "start_time": "2023-02-19T10:59:58.462498",
     "status": "completed"
    },
    "tags": []
   },
   "outputs": [
    {
     "data": {
      "text/plain": [
       "<bound method DataFrame.info of             Date   Open   High    Low  Close  Adj Close       Volume\n",
       "0     01-02-2011   1.74   1.73   1.62   1.53       1.51   10617000.0\n",
       "1     01-02-2012   2.04   1.95   1.85   2.13       1.97    7848000.0\n",
       "2     01-02-2013   2.41   2.39   2.48   2.49       2.57   16509000.0\n",
       "3     01-02-2016  12.65  13.27  12.25  12.04      13.19   79464000.0\n",
       "4     01-02-2017  16.90  16.84  16.59  16.89      16.47   59382000.0\n",
       "...          ...    ...    ...    ...    ...        ...          ...\n",
       "2525  31-12-2013  10.23  10.26  10.03  10.06      10.10   63936000.0\n",
       "2526  31-12-2014  14.68  14.96  14.81  14.70      14.74   34462500.0\n",
       "2527  31-12-2015  15.82  16.26  15.79  14.95      15.96   40725000.0\n",
       "2528  31-12-2018  22.49  22.57  21.72  20.66      22.17   94534500.0\n",
       "2529  31-12-2019  26.97  28.08  26.75  28.49      27.97  154285500.0\n",
       "\n",
       "[2530 rows x 7 columns]>"
      ]
     },
     "execution_count": 15,
     "metadata": {},
     "output_type": "execute_result"
    }
   ],
   "source": [
    "df4.info\n"
   ]
  },
  {
   "cell_type": "code",
   "execution_count": 16,
   "id": "6691bf25",
   "metadata": {
    "execution": {
     "iopub.execute_input": "2023-02-19T10:59:58.523269Z",
     "iopub.status.busy": "2023-02-19T10:59:58.522497Z",
     "iopub.status.idle": "2023-02-19T10:59:58.555540Z",
     "shell.execute_reply": "2023-02-19T10:59:58.554469Z"
    },
    "papermill": {
     "duration": 0.051197,
     "end_time": "2023-02-19T10:59:58.557928",
     "exception": false,
     "start_time": "2023-02-19T10:59:58.506731",
     "status": "completed"
    },
    "tags": []
   },
   "outputs": [
    {
     "data": {
      "text/html": [
       "<div>\n",
       "<style scoped>\n",
       "    .dataframe tbody tr th:only-of-type {\n",
       "        vertical-align: middle;\n",
       "    }\n",
       "\n",
       "    .dataframe tbody tr th {\n",
       "        vertical-align: top;\n",
       "    }\n",
       "\n",
       "    .dataframe thead th {\n",
       "        text-align: right;\n",
       "    }\n",
       "</style>\n",
       "<table border=\"1\" class=\"dataframe\">\n",
       "  <thead>\n",
       "    <tr style=\"text-align: right;\">\n",
       "      <th></th>\n",
       "      <th>Open</th>\n",
       "      <th>High</th>\n",
       "      <th>Low</th>\n",
       "      <th>Close</th>\n",
       "      <th>Adj Close</th>\n",
       "      <th>Volume</th>\n",
       "    </tr>\n",
       "  </thead>\n",
       "  <tbody>\n",
       "    <tr>\n",
       "      <th>count</th>\n",
       "      <td>2530.000000</td>\n",
       "      <td>2530.000000</td>\n",
       "      <td>2530.000000</td>\n",
       "      <td>2530.000000</td>\n",
       "      <td>2530.000000</td>\n",
       "      <td>2.530000e+03</td>\n",
       "    </tr>\n",
       "    <tr>\n",
       "      <th>mean</th>\n",
       "      <td>14.314937</td>\n",
       "      <td>14.603198</td>\n",
       "      <td>14.020731</td>\n",
       "      <td>14.360336</td>\n",
       "      <td>14.323581</td>\n",
       "      <td>9.152483e+07</td>\n",
       "    </tr>\n",
       "    <tr>\n",
       "      <th>std</th>\n",
       "      <td>12.196837</td>\n",
       "      <td>12.543394</td>\n",
       "      <td>11.836304</td>\n",
       "      <td>12.328137</td>\n",
       "      <td>12.214683</td>\n",
       "      <td>8.572465e+07</td>\n",
       "    </tr>\n",
       "    <tr>\n",
       "      <th>min</th>\n",
       "      <td>0.970000</td>\n",
       "      <td>1.070000</td>\n",
       "      <td>1.000000</td>\n",
       "      <td>0.920000</td>\n",
       "      <td>1.050000</td>\n",
       "      <td>1.777500e+06</td>\n",
       "    </tr>\n",
       "    <tr>\n",
       "      <th>25%</th>\n",
       "      <td>2.380000</td>\n",
       "      <td>2.410000</td>\n",
       "      <td>2.340000</td>\n",
       "      <td>2.370000</td>\n",
       "      <td>2.400000</td>\n",
       "      <td>3.054338e+07</td>\n",
       "    </tr>\n",
       "    <tr>\n",
       "      <th>50%</th>\n",
       "      <td>14.545000</td>\n",
       "      <td>14.775000</td>\n",
       "      <td>14.255000</td>\n",
       "      <td>14.490000</td>\n",
       "      <td>14.570000</td>\n",
       "      <td>7.201575e+07</td>\n",
       "    </tr>\n",
       "    <tr>\n",
       "      <th>75%</th>\n",
       "      <td>19.027500</td>\n",
       "      <td>19.407500</td>\n",
       "      <td>18.667500</td>\n",
       "      <td>19.077500</td>\n",
       "      <td>19.080000</td>\n",
       "      <td>1.185364e+08</td>\n",
       "    </tr>\n",
       "    <tr>\n",
       "      <th>max</th>\n",
       "      <td>110.600000</td>\n",
       "      <td>119.640000</td>\n",
       "      <td>98.110000</td>\n",
       "      <td>102.980000</td>\n",
       "      <td>102.990000</td>\n",
       "      <td>9.140820e+08</td>\n",
       "    </tr>\n",
       "  </tbody>\n",
       "</table>\n",
       "</div>"
      ],
      "text/plain": [
       "              Open         High          Low        Close    Adj Close  \\\n",
       "count  2530.000000  2530.000000  2530.000000  2530.000000  2530.000000   \n",
       "mean     14.314937    14.603198    14.020731    14.360336    14.323581   \n",
       "std      12.196837    12.543394    11.836304    12.328137    12.214683   \n",
       "min       0.970000     1.070000     1.000000     0.920000     1.050000   \n",
       "25%       2.380000     2.410000     2.340000     2.370000     2.400000   \n",
       "50%      14.545000    14.775000    14.255000    14.490000    14.570000   \n",
       "75%      19.027500    19.407500    18.667500    19.077500    19.080000   \n",
       "max     110.600000   119.640000    98.110000   102.980000   102.990000   \n",
       "\n",
       "             Volume  \n",
       "count  2.530000e+03  \n",
       "mean   9.152483e+07  \n",
       "std    8.572465e+07  \n",
       "min    1.777500e+06  \n",
       "25%    3.054338e+07  \n",
       "50%    7.201575e+07  \n",
       "75%    1.185364e+08  \n",
       "max    9.140820e+08  "
      ]
     },
     "execution_count": 16,
     "metadata": {},
     "output_type": "execute_result"
    }
   ],
   "source": [
    "df4.dropna(inplace=True)\n",
    "df4[\"Date\"] = pd.to_datetime(df4[\"Date\"])\n",
    "df4 = df4.astype({\"Open\": float, \"Volume\": float, \"Close\":float, \"High\":float, \"Low\":float, \"Adj Close\":float})\n",
    "df4.describe()"
   ]
  },
  {
   "cell_type": "code",
   "execution_count": 17,
   "id": "908c2f54",
   "metadata": {
    "execution": {
     "iopub.execute_input": "2023-02-19T10:59:58.590144Z",
     "iopub.status.busy": "2023-02-19T10:59:58.589315Z",
     "iopub.status.idle": "2023-02-19T10:59:58.602321Z",
     "shell.execute_reply": "2023-02-19T10:59:58.600623Z"
    },
    "papermill": {
     "duration": 0.031033,
     "end_time": "2023-02-19T10:59:58.604447",
     "exception": false,
     "start_time": "2023-02-19T10:59:58.573414",
     "status": "completed"
    },
    "tags": []
   },
   "outputs": [
    {
     "name": "stdout",
     "output_type": "stream",
     "text": [
      "          Date   Open   High    Low  Close  Adj Close       Volume\n",
      "36  2010-01-07   1.85   1.83   1.24   1.46       1.26  123282000.0\n",
      "52  2010-01-09   1.38   1.33   1.34   1.42       1.24    7423500.0\n",
      "57  2010-01-10   1.30   1.36   1.32   1.37       1.42    8965500.0\n",
      "64  2010-01-11   1.50   1.52   1.43   1.26       1.32    6837000.0\n",
      "72  2010-01-12   2.33   2.45   2.11   1.93       2.40   19488000.0\n",
      "..         ...    ...    ...    ...    ...        ...          ...\n",
      "871 2020-11-06  66.09  68.04  64.80  62.24      64.81  238747500.0\n",
      "927 2020-12-02  51.70  52.78  50.85  53.50      51.19  180337500.0\n",
      "934 2020-12-03  38.72  39.54  36.42  36.45      37.13  283636500.0\n",
      "947 2020-12-05  55.25  56.33  53.84  52.72      53.89  238603500.0\n",
      "955 2020-12-06  65.34  66.06  60.80  66.10      62.38  251451000.0\n",
      "\n",
      "[2530 rows x 7 columns]\n"
     ]
    }
   ],
   "source": [
    "Companies = [df1,df2,df3,df4]\n",
    "Companies_Title = [\"Company 1\", \"Company 2\", \"Company 3\", \"Company 4\"]\n",
    "df4.sort_values(\"Date\", inplace=True)\n",
    "print(df4)"
   ]
  },
  {
   "cell_type": "code",
   "execution_count": 18,
   "id": "cc3ca42e",
   "metadata": {
    "execution": {
     "iopub.execute_input": "2023-02-19T10:59:58.637373Z",
     "iopub.status.busy": "2023-02-19T10:59:58.636548Z",
     "iopub.status.idle": "2023-02-19T10:59:58.647557Z",
     "shell.execute_reply": "2023-02-19T10:59:58.646706Z"
    },
    "papermill": {
     "duration": 0.029754,
     "end_time": "2023-02-19T10:59:58.650044",
     "exception": false,
     "start_time": "2023-02-19T10:59:58.620290",
     "status": "completed"
    },
    "tags": []
   },
   "outputs": [],
   "source": [
    "a = []\n",
    "# print(df4[\"Date\"])\n",
    "dates = np.array(df4[\"Date\"])\n",
    "dates_final = []\n",
    "prices = np.array(df4['Close'])\n",
    "index = 0\n",
    "a.append(prices[0])\n",
    "beta = 0.93\n",
    "for i in range(1, len(dates)):\n",
    "    a.append(a[-1]*beta+(1-beta)*prices[i])\n",
    "#Companies[3] = pd.DataFrame({\"Date\":dates, \"Close\": a})    \n",
    "# print(df4[\"Date\"])\n",
    "opens = np.array(df4[\"Open\"])\n",
    "High = np.array(df4[\"High\"])\n",
    "Low = np.array(df4[\"Low\"])\n",
    "Adj = np.array(df4[\"Adj Close\"])\n",
    "Volume = np.array(df4[\"Volume\"])\n",
    "Companies[3] = pd.DataFrame({\"Date\":dates,\"Open\":opens, \"High\":High, \"Low\":Low,\"Adj Close\":Adj,\"Volume\":Volume, \"Close\": a})\n"
   ]
  },
  {
   "cell_type": "code",
   "execution_count": 19,
   "id": "ff75cf0e",
   "metadata": {
    "execution": {
     "iopub.execute_input": "2023-02-19T10:59:58.683475Z",
     "iopub.status.busy": "2023-02-19T10:59:58.681908Z",
     "iopub.status.idle": "2023-02-19T10:59:58.701564Z",
     "shell.execute_reply": "2023-02-19T10:59:58.700445Z"
    },
    "papermill": {
     "duration": 0.038439,
     "end_time": "2023-02-19T10:59:58.703872",
     "exception": false,
     "start_time": "2023-02-19T10:59:58.665433",
     "status": "completed"
    },
    "tags": []
   },
   "outputs": [
    {
     "data": {
      "text/html": [
       "<div>\n",
       "<style scoped>\n",
       "    .dataframe tbody tr th:only-of-type {\n",
       "        vertical-align: middle;\n",
       "    }\n",
       "\n",
       "    .dataframe tbody tr th {\n",
       "        vertical-align: top;\n",
       "    }\n",
       "\n",
       "    .dataframe thead th {\n",
       "        text-align: right;\n",
       "    }\n",
       "</style>\n",
       "<table border=\"1\" class=\"dataframe\">\n",
       "  <thead>\n",
       "    <tr style=\"text-align: right;\">\n",
       "      <th></th>\n",
       "      <th>Date</th>\n",
       "      <th>Open</th>\n",
       "      <th>High</th>\n",
       "      <th>Low</th>\n",
       "      <th>Adj Close</th>\n",
       "      <th>Volume</th>\n",
       "      <th>Close</th>\n",
       "    </tr>\n",
       "  </thead>\n",
       "  <tbody>\n",
       "    <tr>\n",
       "      <th>0</th>\n",
       "      <td>2010-01-07</td>\n",
       "      <td>1.85</td>\n",
       "      <td>1.83</td>\n",
       "      <td>1.24</td>\n",
       "      <td>1.26</td>\n",
       "      <td>123282000.0</td>\n",
       "      <td>1.460000</td>\n",
       "    </tr>\n",
       "    <tr>\n",
       "      <th>1</th>\n",
       "      <td>2010-01-09</td>\n",
       "      <td>1.38</td>\n",
       "      <td>1.33</td>\n",
       "      <td>1.34</td>\n",
       "      <td>1.24</td>\n",
       "      <td>7423500.0</td>\n",
       "      <td>1.457200</td>\n",
       "    </tr>\n",
       "    <tr>\n",
       "      <th>2</th>\n",
       "      <td>2010-01-10</td>\n",
       "      <td>1.30</td>\n",
       "      <td>1.36</td>\n",
       "      <td>1.32</td>\n",
       "      <td>1.42</td>\n",
       "      <td>8965500.0</td>\n",
       "      <td>1.451096</td>\n",
       "    </tr>\n",
       "    <tr>\n",
       "      <th>3</th>\n",
       "      <td>2010-01-11</td>\n",
       "      <td>1.50</td>\n",
       "      <td>1.52</td>\n",
       "      <td>1.43</td>\n",
       "      <td>1.32</td>\n",
       "      <td>6837000.0</td>\n",
       "      <td>1.437719</td>\n",
       "    </tr>\n",
       "    <tr>\n",
       "      <th>4</th>\n",
       "      <td>2010-01-12</td>\n",
       "      <td>2.33</td>\n",
       "      <td>2.45</td>\n",
       "      <td>2.11</td>\n",
       "      <td>2.40</td>\n",
       "      <td>19488000.0</td>\n",
       "      <td>1.472179</td>\n",
       "    </tr>\n",
       "    <tr>\n",
       "      <th>...</th>\n",
       "      <td>...</td>\n",
       "      <td>...</td>\n",
       "      <td>...</td>\n",
       "      <td>...</td>\n",
       "      <td>...</td>\n",
       "      <td>...</td>\n",
       "      <td>...</td>\n",
       "    </tr>\n",
       "    <tr>\n",
       "      <th>2525</th>\n",
       "      <td>2020-11-06</td>\n",
       "      <td>66.09</td>\n",
       "      <td>68.04</td>\n",
       "      <td>64.80</td>\n",
       "      <td>64.81</td>\n",
       "      <td>238747500.0</td>\n",
       "      <td>60.420793</td>\n",
       "    </tr>\n",
       "    <tr>\n",
       "      <th>2526</th>\n",
       "      <td>2020-12-02</td>\n",
       "      <td>51.70</td>\n",
       "      <td>52.78</td>\n",
       "      <td>50.85</td>\n",
       "      <td>51.19</td>\n",
       "      <td>180337500.0</td>\n",
       "      <td>59.936338</td>\n",
       "    </tr>\n",
       "    <tr>\n",
       "      <th>2527</th>\n",
       "      <td>2020-12-03</td>\n",
       "      <td>38.72</td>\n",
       "      <td>39.54</td>\n",
       "      <td>36.42</td>\n",
       "      <td>37.13</td>\n",
       "      <td>283636500.0</td>\n",
       "      <td>58.292294</td>\n",
       "    </tr>\n",
       "    <tr>\n",
       "      <th>2528</th>\n",
       "      <td>2020-12-05</td>\n",
       "      <td>55.25</td>\n",
       "      <td>56.33</td>\n",
       "      <td>53.84</td>\n",
       "      <td>53.89</td>\n",
       "      <td>238603500.0</td>\n",
       "      <td>57.902233</td>\n",
       "    </tr>\n",
       "    <tr>\n",
       "      <th>2529</th>\n",
       "      <td>2020-12-06</td>\n",
       "      <td>65.34</td>\n",
       "      <td>66.06</td>\n",
       "      <td>60.80</td>\n",
       "      <td>62.38</td>\n",
       "      <td>251451000.0</td>\n",
       "      <td>58.476077</td>\n",
       "    </tr>\n",
       "  </tbody>\n",
       "</table>\n",
       "<p>2530 rows × 7 columns</p>\n",
       "</div>"
      ],
      "text/plain": [
       "           Date   Open   High    Low  Adj Close       Volume      Close\n",
       "0    2010-01-07   1.85   1.83   1.24       1.26  123282000.0   1.460000\n",
       "1    2010-01-09   1.38   1.33   1.34       1.24    7423500.0   1.457200\n",
       "2    2010-01-10   1.30   1.36   1.32       1.42    8965500.0   1.451096\n",
       "3    2010-01-11   1.50   1.52   1.43       1.32    6837000.0   1.437719\n",
       "4    2010-01-12   2.33   2.45   2.11       2.40   19488000.0   1.472179\n",
       "...         ...    ...    ...    ...        ...          ...        ...\n",
       "2525 2020-11-06  66.09  68.04  64.80      64.81  238747500.0  60.420793\n",
       "2526 2020-12-02  51.70  52.78  50.85      51.19  180337500.0  59.936338\n",
       "2527 2020-12-03  38.72  39.54  36.42      37.13  283636500.0  58.292294\n",
       "2528 2020-12-05  55.25  56.33  53.84      53.89  238603500.0  57.902233\n",
       "2529 2020-12-06  65.34  66.06  60.80      62.38  251451000.0  58.476077\n",
       "\n",
       "[2530 rows x 7 columns]"
      ]
     },
     "execution_count": 19,
     "metadata": {},
     "output_type": "execute_result"
    }
   ],
   "source": [
    "Companies[3]"
   ]
  },
  {
   "cell_type": "code",
   "execution_count": 20,
   "id": "8ede8d9e",
   "metadata": {
    "execution": {
     "iopub.execute_input": "2023-02-19T10:59:58.738242Z",
     "iopub.status.busy": "2023-02-19T10:59:58.737490Z",
     "iopub.status.idle": "2023-02-19T10:59:58.746227Z",
     "shell.execute_reply": "2023-02-19T10:59:58.745065Z"
    },
    "papermill": {
     "duration": 0.027782,
     "end_time": "2023-02-19T10:59:58.748532",
     "exception": false,
     "start_time": "2023-02-19T10:59:58.720750",
     "status": "completed"
    },
    "tags": []
   },
   "outputs": [
    {
     "data": {
      "text/plain": [
       "0        1.460000\n",
       "1        1.457200\n",
       "2        1.451096\n",
       "3        1.437719\n",
       "4        1.472179\n",
       "          ...    \n",
       "2525    60.420793\n",
       "2526    59.936338\n",
       "2527    58.292294\n",
       "2528    57.902233\n",
       "2529    58.476077\n",
       "Name: Close, Length: 2530, dtype: float64"
      ]
     },
     "execution_count": 20,
     "metadata": {},
     "output_type": "execute_result"
    }
   ],
   "source": [
    "Companies[3][\"Close\"]"
   ]
  },
  {
   "cell_type": "markdown",
   "id": "fd3819f7",
   "metadata": {
    "execution": {
     "iopub.execute_input": "2023-02-17T04:31:37.896810Z",
     "iopub.status.busy": "2023-02-17T04:31:37.895526Z",
     "iopub.status.idle": "2023-02-17T04:31:37.905380Z",
     "shell.execute_reply": "2023-02-17T04:31:37.904140Z",
     "shell.execute_reply.started": "2023-02-17T04:31:37.896747Z"
    },
    "papermill": {
     "duration": 0.015585,
     "end_time": "2023-02-19T10:59:58.779475",
     "exception": false,
     "start_time": "2023-02-19T10:59:58.763890",
     "status": "completed"
    },
    "tags": []
   },
   "source": [
    "df4[\"Close\"]=Companies[3][\"Close\"]"
   ]
  },
  {
   "cell_type": "code",
   "execution_count": 21,
   "id": "32ccaa2d",
   "metadata": {
    "execution": {
     "iopub.execute_input": "2023-02-19T10:59:58.813234Z",
     "iopub.status.busy": "2023-02-19T10:59:58.812264Z",
     "iopub.status.idle": "2023-02-19T10:59:58.821535Z",
     "shell.execute_reply": "2023-02-19T10:59:58.819922Z"
    },
    "papermill": {
     "duration": 0.028518,
     "end_time": "2023-02-19T10:59:58.823534",
     "exception": false,
     "start_time": "2023-02-19T10:59:58.795016",
     "status": "completed"
    },
    "tags": []
   },
   "outputs": [
    {
     "data": {
      "text/plain": [
       "0        1.460000\n",
       "1        1.457200\n",
       "2        1.451096\n",
       "3        1.437719\n",
       "4        1.472179\n",
       "          ...    \n",
       "2525    60.420793\n",
       "2526    59.936338\n",
       "2527    58.292294\n",
       "2528    57.902233\n",
       "2529    58.476077\n",
       "Name: Close, Length: 2530, dtype: float64"
      ]
     },
     "execution_count": 21,
     "metadata": {},
     "output_type": "execute_result"
    }
   ],
   "source": [
    "Companies[3][\"Close\"]"
   ]
  },
  {
   "cell_type": "raw",
   "id": "1b73ede1",
   "metadata": {
    "execution": {
     "iopub.execute_input": "2023-02-16T17:48:08.282156Z",
     "iopub.status.busy": "2023-02-16T17:48:08.281810Z",
     "iopub.status.idle": "2023-02-16T17:48:08.294581Z",
     "shell.execute_reply": "2023-02-16T17:48:08.293208Z",
     "shell.execute_reply.started": "2023-02-16T17:48:08.282126Z"
    },
    "papermill": {
     "duration": 0.015524,
     "end_time": "2023-02-19T10:59:58.855379",
     "exception": false,
     "start_time": "2023-02-19T10:59:58.839855",
     "status": "completed"
    },
    "tags": []
   },
   "source": [
    "plt.plot\n"
   ]
  },
  {
   "cell_type": "code",
   "execution_count": 22,
   "id": "9a3195dd",
   "metadata": {
    "execution": {
     "iopub.execute_input": "2023-02-19T10:59:58.888880Z",
     "iopub.status.busy": "2023-02-19T10:59:58.888519Z",
     "iopub.status.idle": "2023-02-19T10:59:59.497766Z",
     "shell.execute_reply": "2023-02-19T10:59:59.496808Z"
    },
    "papermill": {
     "duration": 0.628979,
     "end_time": "2023-02-19T10:59:59.500160",
     "exception": false,
     "start_time": "2023-02-19T10:59:58.871181",
     "status": "completed"
    },
    "tags": []
   },
   "outputs": [
    {
     "data": {
      "image/png": "[encoded data removed]",
      "text/plain": [
       "<Figure size 1440x864 with 4 Axes>"
      ]
     },
     "metadata": {
      "needs_background": "light"
     },
     "output_type": "display_data"
    }
   ],
   "source": [
    "plt.figure(figsize=(20, 12))\n",
    "for index, company in enumerate(Companies):\n",
    "  plt.subplot(3, 2, index + 1)\n",
    "  plt.plot(company[\"Date\"], company[\"Close\"])\n",
    "  plt.title(Companies_Title[index])\n",
    "  plt.ylabel('Close')"
   ]
  },
  {
   "cell_type": "code",
   "execution_count": 23,
   "id": "cef60763",
   "metadata": {
    "execution": {
     "iopub.execute_input": "2023-02-19T10:59:59.535245Z",
     "iopub.status.busy": "2023-02-19T10:59:59.534928Z",
     "iopub.status.idle": "2023-02-19T10:59:59.546703Z",
     "shell.execute_reply": "2023-02-19T10:59:59.545670Z"
    },
    "papermill": {
     "duration": 0.032369,
     "end_time": "2023-02-19T10:59:59.549452",
     "exception": false,
     "start_time": "2023-02-19T10:59:59.517083",
     "status": "completed"
    },
    "tags": []
   },
   "outputs": [
    {
     "name": "stdout",
     "output_type": "stream",
     "text": [
      "           Date   Open   High    Low  Close  Adj Close        Volume\n",
      "0    2010-06-29   9.50   9.47   9.23   9.04       7.93  1.133345e+09\n",
      "1    2010-06-30   9.25   9.22   9.00   8.70       7.52  7.394520e+08\n",
      "2    2010-07-01   9.01   9.02   8.63   8.94       7.45  1.022896e+09\n",
      "3    2010-07-02   8.98   8.96   8.74   8.85       7.68  6.938428e+08\n",
      "4    2010-07-06   9.13   9.13   8.61   9.36       7.68  6.152356e+08\n",
      "...         ...    ...    ...    ...    ...        ...           ...\n",
      "2525 2020-07-10  95.36  95.86  94.83  95.53      94.51  9.025720e+07\n",
      "2526 2020-07-13  97.41  99.85  95.33  97.02      93.98  1.916492e+08\n",
      "2527 2020-07-14  94.81  97.15  93.66  97.58      95.63  1.709892e+08\n",
      "2528 2020-07-15  99.06  99.18  96.41  96.67      96.28  1.531980e+08\n",
      "2529 2020-07-16  96.49  97.55  95.94  96.17      95.18  1.105776e+08\n",
      "\n",
      "[2530 rows x 7 columns]\n"
     ]
    }
   ],
   "source": [
    "print(df1)"
   ]
  },
  {
   "cell_type": "code",
   "execution_count": 24,
   "id": "dbee6b5b",
   "metadata": {
    "execution": {
     "iopub.execute_input": "2023-02-19T10:59:59.584161Z",
     "iopub.status.busy": "2023-02-19T10:59:59.583854Z",
     "iopub.status.idle": "2023-02-19T10:59:59.597240Z",
     "shell.execute_reply": "2023-02-19T10:59:59.596235Z"
    },
    "papermill": {
     "duration": 0.033284,
     "end_time": "2023-02-19T10:59:59.599240",
     "exception": false,
     "start_time": "2023-02-19T10:59:59.565956",
     "status": "completed"
    },
    "tags": []
   },
   "outputs": [],
   "source": [
    "Moving_Average_Day = [10, 20, 50]\n",
    "for Moving_Average in Moving_Average_Day:\n",
    "  for company in Companies:\n",
    "    column_name = f'Moving Average for {Moving_Average} days'\n",
    "    company[column_name] = company[\"Close\"].rolling(Moving_Average).mean()"
   ]
  },
  {
   "cell_type": "code",
   "execution_count": 25,
   "id": "9feff4f0",
   "metadata": {
    "execution": {
     "iopub.execute_input": "2023-02-19T10:59:59.634320Z",
     "iopub.status.busy": "2023-02-19T10:59:59.633678Z",
     "iopub.status.idle": "2023-02-19T10:59:59.639941Z",
     "shell.execute_reply": "2023-02-19T10:59:59.638959Z"
    },
    "papermill": {
     "duration": 0.026113,
     "end_time": "2023-02-19T10:59:59.642040",
     "exception": false,
     "start_time": "2023-02-19T10:59:59.615927",
     "status": "completed"
    },
    "tags": []
   },
   "outputs": [],
   "source": [
    "trainset_1 = Companies[0].iloc[:,1:2].values\n",
    "trainset_2 = Companies[1].iloc[:,1:2].values\n",
    "trainset_3 = Companies[2].iloc[:,1:2].values\n",
    "trainset_4 = Companies[3].iloc[:,1:2].values"
   ]
  },
  {
   "cell_type": "code",
   "execution_count": 26,
   "id": "928fdf19",
   "metadata": {
    "execution": {
     "iopub.execute_input": "2023-02-19T10:59:59.680280Z",
     "iopub.status.busy": "2023-02-19T10:59:59.679339Z",
     "iopub.status.idle": "2023-02-19T10:59:59.687089Z",
     "shell.execute_reply": "2023-02-19T10:59:59.686256Z"
    },
    "papermill": {
     "duration": 0.027897,
     "end_time": "2023-02-19T10:59:59.689026",
     "exception": false,
     "start_time": "2023-02-19T10:59:59.661129",
     "status": "completed"
    },
    "tags": []
   },
   "outputs": [],
   "source": [
    "from sklearn.preprocessing import MinMaxScaler\n",
    "sc = MinMaxScaler(feature_range = (0,1))\n",
    "training_scaled_1 = sc.fit_transform(trainset_1)\n",
    "training_scaled_2 = sc.fit_transform(trainset_2)\n",
    "training_scaled_3 = sc.fit_transform(trainset_3)\n",
    "training_scaled_4 = sc.fit_transform(trainset_4)"
   ]
  },
  {
   "cell_type": "code",
   "execution_count": 27,
   "id": "1d7e6241",
   "metadata": {
    "execution": {
     "iopub.execute_input": "2023-02-19T10:59:59.723671Z",
     "iopub.status.busy": "2023-02-19T10:59:59.723353Z",
     "iopub.status.idle": "2023-02-19T10:59:59.728162Z",
     "shell.execute_reply": "2023-02-19T10:59:59.727203Z"
    },
    "papermill": {
     "duration": 0.024197,
     "end_time": "2023-02-19T10:59:59.730096",
     "exception": false,
     "start_time": "2023-02-19T10:59:59.705899",
     "status": "completed"
    },
    "tags": []
   },
   "outputs": [],
   "source": [
    "x_train_1 = []\n",
    "y_train_1 = []\n",
    "x_train_2 = []\n",
    "y_train_2 = []\n",
    "x_train_3 = []\n",
    "y_train_3 = []\n",
    "x_train_4 = []\n",
    "y_train_4 = []"
   ]
  },
  {
   "cell_type": "code",
   "execution_count": 28,
   "id": "c29c09ea",
   "metadata": {
    "execution": {
     "iopub.execute_input": "2023-02-19T10:59:59.764857Z",
     "iopub.status.busy": "2023-02-19T10:59:59.763960Z",
     "iopub.status.idle": "2023-02-19T10:59:59.784780Z",
     "shell.execute_reply": "2023-02-19T10:59:59.783884Z"
    },
    "papermill": {
     "duration": 0.040098,
     "end_time": "2023-02-19T10:59:59.786811",
     "exception": false,
     "start_time": "2023-02-19T10:59:59.746713",
     "status": "completed"
    },
    "tags": []
   },
   "outputs": [],
   "source": [
    "for i in range(60,2530):\n",
    "    x_train_1.append(training_scaled_1[i-60:i, 0])\n",
    "    y_train_1.append(training_scaled_1[i,0])\n",
    "x_train_1,y_train_1 = np.array(x_train_1),np.array(y_train_1)\n",
    "\n",
    "for i in range(60,2530):\n",
    "    x_train_2.append(training_scaled_2[i-60:i, 0])\n",
    "    y_train_2.append(training_scaled_2[i,0])\n",
    "x_train_2,y_train_2 = np.array(x_train_2),np.array(y_train_2)\n",
    "\n",
    "for i in range(60,2530):\n",
    "    x_train_3.append(training_scaled_3[i-60:i, 0])\n",
    "    y_train_3.append(training_scaled_3[i,0])\n",
    "x_train_3,y_train_3 = np.array(x_train_3),np.array(y_train_3)\n",
    "\n",
    "for i in range(60,2530):\n",
    "    x_train_4.append(training_scaled_4[i-60:i, 0])\n",
    "    y_train_4.append(training_scaled_4[i,0])\n",
    "x_train_4,y_train_4 = np.array(x_train_4),np.array(y_train_4)"
   ]
  },
  {
   "cell_type": "code",
   "execution_count": 29,
   "id": "61defa11",
   "metadata": {
    "execution": {
     "iopub.execute_input": "2023-02-19T10:59:59.821527Z",
     "iopub.status.busy": "2023-02-19T10:59:59.821173Z",
     "iopub.status.idle": "2023-02-19T10:59:59.826012Z",
     "shell.execute_reply": "2023-02-19T10:59:59.825065Z"
    },
    "papermill": {
     "duration": 0.025652,
     "end_time": "2023-02-19T10:59:59.828823",
     "exception": false,
     "start_time": "2023-02-19T10:59:59.803171",
     "status": "completed"
    },
    "tags": []
   },
   "outputs": [
    {
     "name": "stdout",
     "output_type": "stream",
     "text": [
      "(2470, 60)\n"
     ]
    }
   ],
   "source": [
    "print(x_train_1.shape)"
   ]
  },
  {
   "cell_type": "code",
   "execution_count": 30,
   "id": "f50a9415",
   "metadata": {
    "execution": {
     "iopub.execute_input": "2023-02-19T10:59:59.865117Z",
     "iopub.status.busy": "2023-02-19T10:59:59.864489Z",
     "iopub.status.idle": "2023-02-19T10:59:59.870527Z",
     "shell.execute_reply": "2023-02-19T10:59:59.869596Z"
    },
    "papermill": {
     "duration": 0.025867,
     "end_time": "2023-02-19T10:59:59.872516",
     "exception": false,
     "start_time": "2023-02-19T10:59:59.846649",
     "status": "completed"
    },
    "tags": []
   },
   "outputs": [
    {
     "data": {
      "text/plain": [
       "(2470,)"
      ]
     },
     "execution_count": 30,
     "metadata": {},
     "output_type": "execute_result"
    }
   ],
   "source": [
    "y_train_1.shape\n"
   ]
  },
  {
   "cell_type": "code",
   "execution_count": 31,
   "id": "f76ea6c8",
   "metadata": {
    "execution": {
     "iopub.execute_input": "2023-02-19T10:59:59.907717Z",
     "iopub.status.busy": "2023-02-19T10:59:59.907025Z",
     "iopub.status.idle": "2023-02-19T10:59:59.912718Z",
     "shell.execute_reply": "2023-02-19T10:59:59.911784Z"
    },
    "papermill": {
     "duration": 0.025469,
     "end_time": "2023-02-19T10:59:59.914685",
     "exception": false,
     "start_time": "2023-02-19T10:59:59.889216",
     "status": "completed"
    },
    "tags": []
   },
   "outputs": [],
   "source": [
    "x_train_1 = np.reshape(x_train_1, (x_train_1.shape[0],x_train_1.shape[1],1))\n",
    "x_train_2 = np.reshape(x_train_2, (x_train_2.shape[0],x_train_2.shape[1],1))\n",
    "x_train_3 = np.reshape(x_train_3, (x_train_3.shape[0],x_train_3.shape[1],1))\n",
    "x_train_4 = np.reshape(x_train_4, (x_train_4.shape[0],x_train_4.shape[1],1))\n",
    "#print(x_train_1.shape)"
   ]
  },
  {
   "cell_type": "code",
   "execution_count": 32,
   "id": "d9c0950b",
   "metadata": {
    "execution": {
     "iopub.execute_input": "2023-02-19T10:59:59.949551Z",
     "iopub.status.busy": "2023-02-19T10:59:59.948748Z",
     "iopub.status.idle": "2023-02-19T11:02:30.160442Z",
     "shell.execute_reply": "2023-02-19T11:02:30.159434Z"
    },
    "papermill": {
     "duration": 150.35584,
     "end_time": "2023-02-19T11:02:30.286934",
     "exception": false,
     "start_time": "2023-02-19T10:59:59.931094",
     "status": "completed"
    },
    "tags": []
   },
   "outputs": [
    {
     "name": "stderr",
     "output_type": "stream",
     "text": [
      "2023-02-19 11:00:00.507536: I tensorflow/stream_executor/cuda/cuda_gpu_executor.cc:937] successful NUMA node read from SysFS had negative value (-1), but there must be at least one NUMA node, so returning NUMA node zero\n",
      "2023-02-19 11:00:00.585529: I tensorflow/stream_executor/cuda/cuda_gpu_executor.cc:937] successful NUMA node read from SysFS had negative value (-1), but there must be at least one NUMA node, so returning NUMA node zero\n",
      "2023-02-19 11:00:00.586319: I tensorflow/stream_executor/cuda/cuda_gpu_executor.cc:937] successful NUMA node read from SysFS had negative value (-1), but there must be at least one NUMA node, so returning NUMA node zero\n",
      "2023-02-19 11:00:00.588451: I tensorflow/core/platform/cpu_feature_guard.cc:142] This TensorFlow binary is optimized with oneAPI Deep Neural Network Library (oneDNN) to use the following CPU instructions in performance-critical operations:  AVX2 AVX512F FMA\n",
      "To enable them in other operations, rebuild TensorFlow with the appropriate compiler flags.\n",
      "2023-02-19 11:00:00.588826: I tensorflow/stream_executor/cuda/cuda_gpu_executor.cc:937] successful NUMA node read from SysFS had negative value (-1), but there must be at least one NUMA node, so returning NUMA node zero\n",
      "2023-02-19 11:00:00.589753: I tensorflow/stream_executor/cuda/cuda_gpu_executor.cc:937] successful NUMA node read from SysFS had negative value (-1), but there must be at least one NUMA node, so returning NUMA node zero\n",
      "2023-02-19 11:00:00.590789: I tensorflow/stream_executor/cuda/cuda_gpu_executor.cc:937] successful NUMA node read from SysFS had negative value (-1), but there must be at least one NUMA node, so returning NUMA node zero\n",
      "2023-02-19 11:00:02.420364: I tensorflow/stream_executor/cuda/cuda_gpu_executor.cc:937] successful NUMA node read from SysFS had negative value (-1), but there must be at least one NUMA node, so returning NUMA node zero\n",
      "2023-02-19 11:00:02.421236: I tensorflow/stream_executor/cuda/cuda_gpu_executor.cc:937] successful NUMA node read from SysFS had negative value (-1), but there must be at least one NUMA node, so returning NUMA node zero\n",
      "2023-02-19 11:00:02.421912: I tensorflow/stream_executor/cuda/cuda_gpu_executor.cc:937] successful NUMA node read from SysFS had negative value (-1), but there must be at least one NUMA node, so returning NUMA node zero\n",
      "2023-02-19 11:00:02.422502: I tensorflow/core/common_runtime/gpu/gpu_device.cc:1510] Created device /job:localhost/replica:0/task:0/device:GPU:0 with 15401 MB memory:  -> device: 0, name: Tesla P100-PCIE-16GB, pci bus id: 0000:00:04.0, compute capability: 6.0\n",
      "2023-02-19 11:00:03.672822: I tensorflow/compiler/mlir/mlir_graph_optimization_pass.cc:185] None of the MLIR Optimization Passes are enabled (registered 2)\n"
     ]
    },
    {
     "name": "stdout",
     "output_type": "stream",
     "text": [
      "Epoch 1/100\n"
     ]
    },
    {
     "name": "stderr",
     "output_type": "stream",
     "text": [
      "2023-02-19 11:00:09.017956: I tensorflow/stream_executor/cuda/cuda_dnn.cc:369] Loaded cuDNN version 8005\n"
     ]
    },
    {
     "name": "stdout",
     "output_type": "stream",
     "text": [
      "78/78 [==============================] - 8s 13ms/step - loss: 0.0080\n",
      "Epoch 2/100\n",
      "78/78 [==============================] - 1s 13ms/step - loss: 0.0021\n",
      "Epoch 3/100\n",
      "78/78 [==============================] - 1s 16ms/step - loss: 0.0017\n",
      "Epoch 4/100\n",
      "78/78 [==============================] - 1s 14ms/step - loss: 0.0017\n",
      "Epoch 5/100\n",
      "78/78 [==============================] - 1s 13ms/step - loss: 0.0015\n",
      "Epoch 6/100\n",
      "78/78 [==============================] - 1s 13ms/step - loss: 0.0015\n",
      "Epoch 7/100\n",
      "78/78 [==============================] - 1s 13ms/step - loss: 0.0011\n",
      "Epoch 8/100\n",
      "78/78 [==============================] - 1s 13ms/step - loss: 0.0012\n",
      "Epoch 9/100\n",
      "78/78 [==============================] - 1s 14ms/step - loss: 0.0014\n",
      "Epoch 10/100\n",
      "78/78 [==============================] - 1s 13ms/step - loss: 0.0012\n",
      "Epoch 11/100\n",
      "78/78 [==============================] - 1s 13ms/step - loss: 9.7704e-04\n",
      "Epoch 12/100\n",
      "78/78 [==============================] - 1s 13ms/step - loss: 0.0012\n",
      "Epoch 13/100\n",
      "78/78 [==============================] - 1s 13ms/step - loss: 0.0010\n",
      "Epoch 14/100\n",
      "78/78 [==============================] - 1s 13ms/step - loss: 0.0011\n",
      "Epoch 15/100\n",
      "78/78 [==============================] - 1s 13ms/step - loss: 0.0010\n",
      "Epoch 16/100\n",
      "78/78 [==============================] - 1s 13ms/step - loss: 7.8689e-04\n",
      "Epoch 17/100\n",
      "78/78 [==============================] - 1s 13ms/step - loss: 7.5936e-04\n",
      "Epoch 18/100\n",
      "78/78 [==============================] - 1s 13ms/step - loss: 9.0294e-04\n",
      "Epoch 19/100\n",
      "78/78 [==============================] - 1s 15ms/step - loss: 7.3556e-04\n",
      "Epoch 20/100\n",
      "78/78 [==============================] - 1s 13ms/step - loss: 0.0011\n",
      "Epoch 21/100\n",
      "78/78 [==============================] - 1s 13ms/step - loss: 7.5081e-04\n",
      "Epoch 22/100\n",
      "78/78 [==============================] - 1s 13ms/step - loss: 8.0696e-04\n",
      "Epoch 23/100\n",
      "78/78 [==============================] - 1s 13ms/step - loss: 7.1091e-04\n",
      "Epoch 24/100\n",
      "78/78 [==============================] - 1s 13ms/step - loss: 7.6559e-04\n",
      "Epoch 25/100\n",
      "78/78 [==============================] - 1s 13ms/step - loss: 6.4439e-04\n",
      "Epoch 26/100\n",
      "78/78 [==============================] - 1s 13ms/step - loss: 6.2569e-04\n",
      "Epoch 27/100\n",
      "78/78 [==============================] - 1s 13ms/step - loss: 7.4324e-04\n",
      "Epoch 28/100\n",
      "78/78 [==============================] - 1s 13ms/step - loss: 6.9751e-04\n",
      "Epoch 29/100\n",
      "78/78 [==============================] - 1s 13ms/step - loss: 7.2935e-04\n",
      "Epoch 30/100\n",
      "78/78 [==============================] - 1s 15ms/step - loss: 7.5499e-04\n",
      "Epoch 31/100\n",
      "78/78 [==============================] - 1s 13ms/step - loss: 7.1154e-04\n",
      "Epoch 32/100\n",
      "78/78 [==============================] - 1s 13ms/step - loss: 5.9824e-04\n",
      "Epoch 33/100\n",
      "78/78 [==============================] - 1s 15ms/step - loss: 7.2498e-04\n",
      "Epoch 34/100\n",
      "78/78 [==============================] - 1s 15ms/step - loss: 6.7022e-04\n",
      "Epoch 35/100\n",
      "78/78 [==============================] - 1s 13ms/step - loss: 6.2349e-04\n",
      "Epoch 36/100\n",
      "78/78 [==============================] - 1s 13ms/step - loss: 6.1267e-04\n",
      "Epoch 37/100\n",
      "78/78 [==============================] - 1s 13ms/step - loss: 6.8903e-04\n",
      "Epoch 38/100\n",
      "78/78 [==============================] - 1s 13ms/step - loss: 6.3830e-04\n",
      "Epoch 39/100\n",
      "78/78 [==============================] - 1s 13ms/step - loss: 6.8541e-04\n",
      "Epoch 40/100\n",
      "78/78 [==============================] - 1s 15ms/step - loss: 6.1872e-04\n",
      "Epoch 41/100\n",
      "78/78 [==============================] - 1s 13ms/step - loss: 5.2355e-04\n",
      "Epoch 42/100\n",
      "78/78 [==============================] - 1s 13ms/step - loss: 6.2978e-04\n",
      "Epoch 43/100\n",
      "78/78 [==============================] - 1s 13ms/step - loss: 5.8718e-04\n",
      "Epoch 44/100\n",
      "78/78 [==============================] - 1s 13ms/step - loss: 5.7141e-04\n",
      "Epoch 45/100\n",
      "78/78 [==============================] - 1s 13ms/step - loss: 7.3260e-04\n",
      "Epoch 46/100\n",
      "78/78 [==============================] - 1s 13ms/step - loss: 6.0650e-04\n",
      "Epoch 47/100\n",
      "78/78 [==============================] - 1s 13ms/step - loss: 5.6648e-04\n",
      "Epoch 48/100\n",
      "78/78 [==============================] - 1s 13ms/step - loss: 5.8304e-04\n",
      "Epoch 49/100\n",
      "78/78 [==============================] - 1s 13ms/step - loss: 5.4520e-04\n",
      "Epoch 50/100\n",
      "78/78 [==============================] - 1s 13ms/step - loss: 4.7819e-04\n",
      "Epoch 51/100\n",
      "78/78 [==============================] - 1s 15ms/step - loss: 6.0499e-04\n",
      "Epoch 52/100\n",
      "78/78 [==============================] - 1s 13ms/step - loss: 5.2785e-04\n",
      "Epoch 53/100\n",
      "78/78 [==============================] - 1s 13ms/step - loss: 5.2611e-04\n",
      "Epoch 54/100\n",
      "78/78 [==============================] - 1s 13ms/step - loss: 5.9123e-04\n",
      "Epoch 55/100\n",
      "78/78 [==============================] - 1s 13ms/step - loss: 5.1150e-04\n",
      "Epoch 56/100\n",
      "78/78 [==============================] - 1s 13ms/step - loss: 5.0646e-04\n",
      "Epoch 57/100\n",
      "78/78 [==============================] - 1s 13ms/step - loss: 5.1613e-04\n",
      "Epoch 58/100\n",
      "78/78 [==============================] - 1s 13ms/step - loss: 4.9886e-04\n",
      "Epoch 59/100\n",
      "78/78 [==============================] - 1s 13ms/step - loss: 5.0344e-04\n",
      "Epoch 60/100\n",
      "78/78 [==============================] - 1s 13ms/step - loss: 5.8816e-04\n",
      "Epoch 61/100\n",
      "78/78 [==============================] - 1s 14ms/step - loss: 5.5093e-04\n",
      "Epoch 62/100\n",
      "78/78 [==============================] - 1s 14ms/step - loss: 5.2775e-04\n",
      "Epoch 63/100\n",
      "78/78 [==============================] - 1s 13ms/step - loss: 5.0769e-04\n",
      "Epoch 64/100\n",
      "78/78 [==============================] - 1s 16ms/step - loss: 6.8878e-04\n",
      "Epoch 65/100\n",
      "78/78 [==============================] - 1s 13ms/step - loss: 4.8960e-04\n",
      "Epoch 66/100\n",
      "78/78 [==============================] - 1s 13ms/step - loss: 5.2502e-04\n",
      "Epoch 67/100\n",
      "78/78 [==============================] - 1s 13ms/step - loss: 6.1327e-04\n",
      "Epoch 68/100\n",
      "78/78 [==============================] - 1s 13ms/step - loss: 5.5681e-04\n",
      "Epoch 69/100\n",
      "78/78 [==============================] - 1s 13ms/step - loss: 5.5999e-04\n",
      "Epoch 70/100\n",
      "78/78 [==============================] - 1s 13ms/step - loss: 4.7953e-04\n",
      "Epoch 71/100\n",
      "78/78 [==============================] - 1s 13ms/step - loss: 4.9519e-04\n",
      "Epoch 72/100\n",
      "78/78 [==============================] - 1s 15ms/step - loss: 4.8132e-04\n",
      "Epoch 73/100\n",
      "78/78 [==============================] - 1s 13ms/step - loss: 5.8391e-04\n",
      "Epoch 74/100\n",
      "78/78 [==============================] - 1s 13ms/step - loss: 4.9388e-04\n",
      "Epoch 75/100\n",
      "78/78 [==============================] - 1s 13ms/step - loss: 5.1177e-04\n",
      "Epoch 76/100\n",
      "78/78 [==============================] - 1s 13ms/step - loss: 5.2425e-04\n",
      "Epoch 77/100\n",
      "78/78 [==============================] - 1s 13ms/step - loss: 4.4141e-04\n",
      "Epoch 78/100\n",
      "78/78 [==============================] - 1s 13ms/step - loss: 4.8213e-04\n",
      "Epoch 79/100\n",
      "78/78 [==============================] - 1s 13ms/step - loss: 4.6701e-04\n",
      "Epoch 80/100\n",
      "78/78 [==============================] - 1s 13ms/step - loss: 4.6304e-04\n",
      "Epoch 81/100\n",
      "78/78 [==============================] - 1s 13ms/step - loss: 4.9316e-04\n",
      "Epoch 82/100\n",
      "78/78 [==============================] - 1s 14ms/step - loss: 4.9775e-04\n",
      "Epoch 83/100\n",
      "78/78 [==============================] - 1s 14ms/step - loss: 5.6044e-04\n",
      "Epoch 84/100\n",
      "78/78 [==============================] - 1s 13ms/step - loss: 4.7417e-04\n",
      "Epoch 85/100\n",
      "78/78 [==============================] - 1s 13ms/step - loss: 4.5475e-04\n",
      "Epoch 86/100\n",
      "78/78 [==============================] - 1s 13ms/step - loss: 5.3002e-04\n",
      "Epoch 87/100\n",
      "78/78 [==============================] - 1s 13ms/step - loss: 4.7090e-04\n",
      "Epoch 88/100\n",
      "78/78 [==============================] - 1s 13ms/step - loss: 4.5209e-04\n",
      "Epoch 89/100\n",
      "78/78 [==============================] - 1s 13ms/step - loss: 4.9608e-04\n",
      "Epoch 90/100\n",
      "78/78 [==============================] - 1s 13ms/step - loss: 4.4885e-04\n",
      "Epoch 91/100\n",
      "78/78 [==============================] - 1s 13ms/step - loss: 4.3004e-04\n",
      "Epoch 92/100\n",
      "78/78 [==============================] - 1s 13ms/step - loss: 5.6856e-04\n",
      "Epoch 93/100\n",
      "78/78 [==============================] - 1s 15ms/step - loss: 5.4387e-04\n",
      "Epoch 94/100\n",
      "78/78 [==============================] - 1s 15ms/step - loss: 4.6693e-04\n",
      "Epoch 95/100\n",
      "78/78 [==============================] - 1s 14ms/step - loss: 4.5536e-04\n",
      "Epoch 96/100\n",
      "78/78 [==============================] - 1s 13ms/step - loss: 4.3485e-04\n",
      "Epoch 97/100\n",
      "78/78 [==============================] - 1s 13ms/step - loss: 4.8984e-04\n",
      "Epoch 98/100\n",
      "78/78 [==============================] - 1s 13ms/step - loss: 5.1140e-04\n",
      "Epoch 99/100\n",
      "78/78 [==============================] - 1s 13ms/step - loss: 4.4949e-04\n",
      "Epoch 100/100\n",
      "78/78 [==============================] - 1s 13ms/step - loss: 4.7455e-04\n"
     ]
    },
    {
     "data": {
      "text/plain": [
       "<keras.callbacks.History at 0x7efe7806f590>"
      ]
     },
     "execution_count": 32,
     "metadata": {},
     "output_type": "execute_result"
    }
   ],
   "source": [
    "from keras.models import Sequential\n",
    "from keras.layers import Dense\n",
    "from keras.layers import LSTM\n",
    "from keras.layers import Dropout\n",
    "\n",
    "regressor_1= Sequential()\n",
    "regressor_1.add(LSTM(units = 50,return_sequences = True,input_shape = (x_train_1.shape[1],1)))\n",
    "\n",
    "regressor_1.add(Dropout(0.2))\n",
    "\n",
    "regressor_1.add(LSTM(units = 50,return_sequences = True))\n",
    "regressor_1.add(Dropout(0.2))\n",
    "\n",
    "regressor_1.add(LSTM(units = 50,return_sequences = True))\n",
    "regressor_1.add(Dropout(0.2))\n",
    "\n",
    "regressor_1.add(LSTM(units = 50))\n",
    "regressor_1.add(Dropout(0.2))\n",
    "\n",
    "regressor_1.add(Dense(units = 1))\n",
    "\n",
    "regressor_1.compile(optimizer = 'adam',loss = 'mean_squared_error')\n",
    "\n",
    "regressor_1.fit(x_train_1,y_train_1,epochs = 100, batch_size = 32)"
   ]
  },
  {
   "cell_type": "code",
   "execution_count": 33,
   "id": "03e0bbf7",
   "metadata": {
    "execution": {
     "iopub.execute_input": "2023-02-19T11:02:30.538920Z",
     "iopub.status.busy": "2023-02-19T11:02:30.538118Z",
     "iopub.status.idle": "2023-02-19T11:04:21.221525Z",
     "shell.execute_reply": "2023-02-19T11:04:21.220562Z"
    },
    "papermill": {
     "duration": 110.812935,
     "end_time": "2023-02-19T11:04:21.224289",
     "exception": false,
     "start_time": "2023-02-19T11:02:30.411354",
     "status": "completed"
    },
    "tags": []
   },
   "outputs": [
    {
     "name": "stdout",
     "output_type": "stream",
     "text": [
      "Epoch 1/100\n",
      "78/78 [==============================] - 6s 13ms/step - loss: 0.0076\n",
      "Epoch 2/100\n",
      "78/78 [==============================] - 1s 13ms/step - loss: 0.0017\n",
      "Epoch 3/100\n",
      "78/78 [==============================] - 1s 13ms/step - loss: 0.0015\n",
      "Epoch 4/100\n",
      "78/78 [==============================] - 1s 13ms/step - loss: 0.0014\n",
      "Epoch 5/100\n",
      "78/78 [==============================] - 1s 13ms/step - loss: 0.0013\n",
      "Epoch 6/100\n",
      "78/78 [==============================] - 1s 15ms/step - loss: 0.0012\n",
      "Epoch 7/100\n",
      "78/78 [==============================] - 1s 13ms/step - loss: 0.0014\n",
      "Epoch 8/100\n",
      "78/78 [==============================] - 1s 13ms/step - loss: 0.0014\n",
      "Epoch 9/100\n",
      "78/78 [==============================] - 1s 13ms/step - loss: 0.0011\n",
      "Epoch 10/100\n",
      "78/78 [==============================] - 1s 13ms/step - loss: 9.5042e-04\n",
      "Epoch 11/100\n",
      "78/78 [==============================] - 1s 13ms/step - loss: 0.0010\n",
      "Epoch 12/100\n",
      "78/78 [==============================] - 1s 13ms/step - loss: 9.5738e-04\n",
      "Epoch 13/100\n",
      "78/78 [==============================] - 1s 13ms/step - loss: 9.0818e-04\n",
      "Epoch 14/100\n",
      "78/78 [==============================] - 1s 13ms/step - loss: 0.0010\n",
      "Epoch 15/100\n",
      "78/78 [==============================] - 1s 14ms/step - loss: 8.4169e-04\n",
      "Epoch 16/100\n",
      "78/78 [==============================] - 1s 16ms/step - loss: 9.2393e-04\n",
      "Epoch 17/100\n",
      "78/78 [==============================] - 1s 14ms/step - loss: 9.6924e-04\n",
      "Epoch 18/100\n",
      "78/78 [==============================] - 1s 13ms/step - loss: 9.3962e-04\n",
      "Epoch 19/100\n",
      "78/78 [==============================] - 1s 13ms/step - loss: 7.9193e-04\n",
      "Epoch 20/100\n",
      "78/78 [==============================] - 1s 13ms/step - loss: 8.0914e-04\n",
      "Epoch 21/100\n",
      "78/78 [==============================] - 1s 13ms/step - loss: 7.6615e-04\n",
      "Epoch 22/100\n",
      "78/78 [==============================] - 1s 13ms/step - loss: 6.9107e-04\n",
      "Epoch 23/100\n",
      "78/78 [==============================] - 1s 13ms/step - loss: 7.8800e-04\n",
      "Epoch 24/100\n",
      "78/78 [==============================] - 1s 14ms/step - loss: 7.5456e-04\n",
      "Epoch 25/100\n",
      "78/78 [==============================] - 1s 13ms/step - loss: 8.1910e-04\n",
      "Epoch 26/100\n",
      "78/78 [==============================] - 1s 13ms/step - loss: 8.6175e-04\n",
      "Epoch 27/100\n",
      "78/78 [==============================] - 1s 15ms/step - loss: 7.4666e-04\n",
      "Epoch 28/100\n",
      "78/78 [==============================] - 1s 13ms/step - loss: 8.0963e-04\n",
      "Epoch 29/100\n",
      "78/78 [==============================] - 1s 13ms/step - loss: 8.0593e-04\n",
      "Epoch 30/100\n",
      "78/78 [==============================] - 1s 13ms/step - loss: 0.0010\n",
      "Epoch 31/100\n",
      "78/78 [==============================] - 1s 13ms/step - loss: 7.2903e-04\n",
      "Epoch 32/100\n",
      "78/78 [==============================] - 1s 13ms/step - loss: 6.7196e-04\n",
      "Epoch 33/100\n",
      "78/78 [==============================] - 1s 13ms/step - loss: 7.0801e-04\n",
      "Epoch 34/100\n",
      "78/78 [==============================] - 1s 13ms/step - loss: 7.0987e-04\n",
      "Epoch 35/100\n",
      "78/78 [==============================] - 1s 13ms/step - loss: 7.4480e-04\n",
      "Epoch 36/100\n",
      "78/78 [==============================] - 1s 13ms/step - loss: 6.6780e-04\n",
      "Epoch 37/100\n",
      "78/78 [==============================] - 1s 14ms/step - loss: 6.3888e-04\n",
      "Epoch 38/100\n",
      "78/78 [==============================] - 1s 14ms/step - loss: 7.1421e-04\n",
      "Epoch 39/100\n",
      "78/78 [==============================] - 1s 13ms/step - loss: 6.2160e-04\n",
      "Epoch 40/100\n",
      "78/78 [==============================] - 1s 13ms/step - loss: 6.4756e-04\n",
      "Epoch 41/100\n",
      "78/78 [==============================] - 1s 13ms/step - loss: 5.9477e-04\n",
      "Epoch 42/100\n",
      "78/78 [==============================] - 1s 13ms/step - loss: 6.2330e-04\n",
      "Epoch 43/100\n",
      "78/78 [==============================] - 1s 13ms/step - loss: 6.5005e-04\n",
      "Epoch 44/100\n",
      "78/78 [==============================] - 1s 13ms/step - loss: 5.2370e-04\n",
      "Epoch 45/100\n",
      "78/78 [==============================] - 1s 13ms/step - loss: 5.9001e-04\n",
      "Epoch 46/100\n",
      "78/78 [==============================] - 1s 16ms/step - loss: 6.0250e-04\n",
      "Epoch 47/100\n",
      "78/78 [==============================] - 1s 14ms/step - loss: 6.8019e-04\n",
      "Epoch 48/100\n",
      "78/78 [==============================] - 1s 15ms/step - loss: 5.8090e-04\n",
      "Epoch 49/100\n",
      "78/78 [==============================] - 1s 13ms/step - loss: 7.0353e-04\n",
      "Epoch 50/100\n",
      "78/78 [==============================] - 1s 13ms/step - loss: 5.8295e-04\n",
      "Epoch 51/100\n",
      "78/78 [==============================] - 1s 13ms/step - loss: 5.8515e-04\n",
      "Epoch 52/100\n",
      "78/78 [==============================] - 1s 13ms/step - loss: 5.6096e-04\n",
      "Epoch 53/100\n",
      "78/78 [==============================] - 1s 13ms/step - loss: 6.4863e-04\n",
      "Epoch 54/100\n",
      "78/78 [==============================] - 1s 13ms/step - loss: 5.6235e-04\n",
      "Epoch 55/100\n",
      "78/78 [==============================] - 1s 13ms/step - loss: 6.6792e-04\n",
      "Epoch 56/100\n",
      "78/78 [==============================] - 1s 13ms/step - loss: 6.0493e-04\n",
      "Epoch 57/100\n",
      "78/78 [==============================] - 1s 13ms/step - loss: 5.1677e-04\n",
      "Epoch 58/100\n",
      "78/78 [==============================] - 1s 15ms/step - loss: 6.0087e-04\n",
      "Epoch 59/100\n",
      "78/78 [==============================] - 1s 13ms/step - loss: 5.9368e-04\n",
      "Epoch 60/100\n",
      "78/78 [==============================] - 1s 13ms/step - loss: 5.8269e-04\n",
      "Epoch 61/100\n",
      "78/78 [==============================] - 1s 13ms/step - loss: 5.1039e-04\n",
      "Epoch 62/100\n",
      "78/78 [==============================] - 1s 13ms/step - loss: 6.1991e-04\n",
      "Epoch 63/100\n",
      "78/78 [==============================] - 1s 13ms/step - loss: 5.8988e-04\n",
      "Epoch 64/100\n",
      "78/78 [==============================] - 1s 13ms/step - loss: 5.8434e-04\n",
      "Epoch 65/100\n",
      "78/78 [==============================] - 1s 13ms/step - loss: 5.7893e-04\n",
      "Epoch 66/100\n",
      "78/78 [==============================] - 1s 13ms/step - loss: 5.3641e-04\n",
      "Epoch 67/100\n",
      "78/78 [==============================] - 1s 13ms/step - loss: 5.5609e-04\n",
      "Epoch 68/100\n",
      "78/78 [==============================] - 1s 13ms/step - loss: 5.9027e-04\n",
      "Epoch 69/100\n",
      "78/78 [==============================] - 1s 15ms/step - loss: 5.4588e-04\n",
      "Epoch 70/100\n",
      "78/78 [==============================] - 1s 13ms/step - loss: 5.4064e-04\n",
      "Epoch 71/100\n",
      "78/78 [==============================] - 1s 13ms/step - loss: 5.3960e-04\n",
      "Epoch 72/100\n",
      "78/78 [==============================] - 1s 13ms/step - loss: 6.7723e-04\n",
      "Epoch 73/100\n",
      "78/78 [==============================] - 1s 13ms/step - loss: 6.1695e-04\n",
      "Epoch 74/100\n",
      "78/78 [==============================] - 1s 13ms/step - loss: 5.0833e-04\n",
      "Epoch 75/100\n",
      "78/78 [==============================] - 1s 13ms/step - loss: 6.0677e-04\n",
      "Epoch 76/100\n",
      "78/78 [==============================] - 1s 16ms/step - loss: 5.3245e-04\n",
      "Epoch 77/100\n",
      "78/78 [==============================] - 1s 13ms/step - loss: 5.1525e-04\n",
      "Epoch 78/100\n",
      "78/78 [==============================] - 1s 13ms/step - loss: 5.4058e-04\n",
      "Epoch 79/100\n",
      "78/78 [==============================] - 1s 15ms/step - loss: 4.8237e-04\n",
      "Epoch 80/100\n",
      "78/78 [==============================] - 1s 14ms/step - loss: 5.1591e-04\n",
      "Epoch 81/100\n",
      "78/78 [==============================] - 1s 14ms/step - loss: 5.1290e-04\n",
      "Epoch 82/100\n",
      "78/78 [==============================] - 1s 13ms/step - loss: 5.4838e-04\n",
      "Epoch 83/100\n",
      "78/78 [==============================] - 1s 13ms/step - loss: 4.6938e-04\n",
      "Epoch 84/100\n",
      "78/78 [==============================] - 1s 13ms/step - loss: 5.2079e-04\n",
      "Epoch 85/100\n",
      "78/78 [==============================] - 1s 13ms/step - loss: 5.4460e-04\n",
      "Epoch 86/100\n",
      "78/78 [==============================] - 1s 13ms/step - loss: 6.5053e-04\n",
      "Epoch 87/100\n",
      "78/78 [==============================] - 1s 13ms/step - loss: 5.0569e-04\n",
      "Epoch 88/100\n",
      "78/78 [==============================] - 1s 13ms/step - loss: 6.9499e-04\n",
      "Epoch 89/100\n",
      "78/78 [==============================] - 1s 13ms/step - loss: 5.5220e-04\n",
      "Epoch 90/100\n",
      "78/78 [==============================] - 1s 15ms/step - loss: 4.9485e-04\n",
      "Epoch 91/100\n",
      "78/78 [==============================] - 1s 13ms/step - loss: 5.3414e-04\n",
      "Epoch 92/100\n",
      "78/78 [==============================] - 1s 13ms/step - loss: 6.8322e-04\n",
      "Epoch 93/100\n",
      "78/78 [==============================] - 1s 13ms/step - loss: 5.0240e-04\n",
      "Epoch 94/100\n",
      "78/78 [==============================] - 1s 13ms/step - loss: 5.5861e-04\n",
      "Epoch 95/100\n",
      "78/78 [==============================] - 1s 13ms/step - loss: 4.9259e-04\n",
      "Epoch 96/100\n",
      "78/78 [==============================] - 1s 13ms/step - loss: 5.2174e-04\n",
      "Epoch 97/100\n",
      "78/78 [==============================] - 1s 13ms/step - loss: 5.1420e-04\n",
      "Epoch 98/100\n",
      "78/78 [==============================] - 1s 13ms/step - loss: 4.6038e-04\n",
      "Epoch 99/100\n",
      "78/78 [==============================] - 1s 13ms/step - loss: 5.3702e-04\n",
      "Epoch 100/100\n",
      "78/78 [==============================] - 1s 14ms/step - loss: 5.3175e-04\n"
     ]
    },
    {
     "data": {
      "text/plain": [
       "<keras.callbacks.History at 0x7efe780a5810>"
      ]
     },
     "execution_count": 33,
     "metadata": {},
     "output_type": "execute_result"
    }
   ],
   "source": [
    "regressor_2= Sequential()\n",
    "regressor_2.add(LSTM(units = 50,return_sequences = True,input_shape = (x_train_2.shape[1],1)))\n",
    "\n",
    "regressor_2.add(Dropout(0.2))\n",
    "\n",
    "regressor_2.add(LSTM(units = 50,return_sequences = True))\n",
    "regressor_2.add(Dropout(0.2))\n",
    "\n",
    "regressor_2.add(LSTM(units = 50,return_sequences = True))\n",
    "regressor_2.add(Dropout(0.2))\n",
    "\n",
    "regressor_2.add(LSTM(units = 50))\n",
    "regressor_2.add(Dropout(0.2))\n",
    "\n",
    "regressor_2.add(Dense(units = 1))\n",
    "\n",
    "regressor_2.compile(optimizer = 'adam',loss = 'mean_squared_error')\n",
    "\n",
    "regressor_2.fit(x_train_2,y_train_2,epochs = 100, batch_size = 32)"
   ]
  },
  {
   "cell_type": "code",
   "execution_count": 34,
   "id": "9aaa46ea",
   "metadata": {
    "execution": {
     "iopub.execute_input": "2023-02-19T11:04:21.805036Z",
     "iopub.status.busy": "2023-02-19T11:04:21.804656Z",
     "iopub.status.idle": "2023-02-19T11:06:48.562001Z",
     "shell.execute_reply": "2023-02-19T11:06:48.560980Z"
    },
    "papermill": {
     "duration": 147.333073,
     "end_time": "2023-02-19T11:06:48.903425",
     "exception": false,
     "start_time": "2023-02-19T11:04:21.570352",
     "status": "completed"
    },
    "tags": []
   },
   "outputs": [
    {
     "name": "stdout",
     "output_type": "stream",
     "text": [
      "Epoch 1/100\n",
      "78/78 [==============================] - 5s 16ms/step - loss: 0.0073\n",
      "Epoch 2/100\n",
      "78/78 [==============================] - 1s 13ms/step - loss: 0.0022\n",
      "Epoch 3/100\n",
      "78/78 [==============================] - 1s 13ms/step - loss: 0.0019\n",
      "Epoch 4/100\n",
      "78/78 [==============================] - 1s 13ms/step - loss: 0.0015\n",
      "Epoch 5/100\n",
      "78/78 [==============================] - 1s 15ms/step - loss: 0.0014\n",
      "Epoch 6/100\n",
      "78/78 [==============================] - 1s 13ms/step - loss: 0.0015\n",
      "Epoch 7/100\n",
      "78/78 [==============================] - 1s 13ms/step - loss: 0.0014\n",
      "Epoch 8/100\n",
      "78/78 [==============================] - 1s 13ms/step - loss: 0.0012\n",
      "Epoch 9/100\n",
      "78/78 [==============================] - 1s 13ms/step - loss: 0.0013\n",
      "Epoch 10/100\n",
      "78/78 [==============================] - 1s 13ms/step - loss: 0.0013\n",
      "Epoch 11/100\n",
      "78/78 [==============================] - 1s 13ms/step - loss: 0.0013\n",
      "Epoch 12/100\n",
      "78/78 [==============================] - 1s 13ms/step - loss: 0.0013\n",
      "Epoch 13/100\n",
      "78/78 [==============================] - 1s 13ms/step - loss: 0.0018\n",
      "Epoch 14/100\n",
      "78/78 [==============================] - 1s 13ms/step - loss: 0.0010\n",
      "Epoch 15/100\n",
      "78/78 [==============================] - 1s 13ms/step - loss: 0.0011\n",
      "Epoch 16/100\n",
      "78/78 [==============================] - 1s 15ms/step - loss: 0.0011\n",
      "Epoch 17/100\n",
      "78/78 [==============================] - 1s 13ms/step - loss: 0.0010\n",
      "Epoch 18/100\n",
      "78/78 [==============================] - 1s 13ms/step - loss: 0.0012\n",
      "Epoch 19/100\n",
      "78/78 [==============================] - 1s 13ms/step - loss: 9.9716e-04\n",
      "Epoch 20/100\n",
      "78/78 [==============================] - 1s 13ms/step - loss: 0.0011\n",
      "Epoch 21/100\n",
      "78/78 [==============================] - 1s 13ms/step - loss: 9.7285e-04\n",
      "Epoch 22/100\n",
      "78/78 [==============================] - 1s 13ms/step - loss: 9.8712e-04\n",
      "Epoch 23/100\n",
      "78/78 [==============================] - 1s 13ms/step - loss: 8.6725e-04\n",
      "Epoch 24/100\n",
      "78/78 [==============================] - 1s 13ms/step - loss: 0.0010\n",
      "Epoch 25/100\n",
      "78/78 [==============================] - 1s 14ms/step - loss: 8.8459e-04\n",
      "Epoch 26/100\n",
      "78/78 [==============================] - 1s 14ms/step - loss: 9.3455e-04\n",
      "Epoch 27/100\n",
      "78/78 [==============================] - 1s 14ms/step - loss: 0.0010\n",
      "Epoch 28/100\n",
      "78/78 [==============================] - 1s 13ms/step - loss: 9.7179e-04\n",
      "Epoch 29/100\n",
      "78/78 [==============================] - 1s 13ms/step - loss: 8.7017e-04\n",
      "Epoch 30/100\n",
      "78/78 [==============================] - 1s 13ms/step - loss: 8.9671e-04\n",
      "Epoch 31/100\n",
      "78/78 [==============================] - 1s 16ms/step - loss: 8.2480e-04\n",
      "Epoch 32/100\n",
      "78/78 [==============================] - 1s 14ms/step - loss: 8.3326e-04\n",
      "Epoch 33/100\n",
      "78/78 [==============================] - 1s 13ms/step - loss: 9.3530e-04\n",
      "Epoch 34/100\n",
      "78/78 [==============================] - 1s 13ms/step - loss: 8.7477e-04\n",
      "Epoch 35/100\n",
      "78/78 [==============================] - 1s 13ms/step - loss: 8.9577e-04\n",
      "Epoch 36/100\n",
      "78/78 [==============================] - 1s 13ms/step - loss: 9.6135e-04\n",
      "Epoch 37/100\n",
      "78/78 [==============================] - 1s 15ms/step - loss: 7.3839e-04\n",
      "Epoch 38/100\n",
      "78/78 [==============================] - 1s 13ms/step - loss: 8.0073e-04\n",
      "Epoch 39/100\n",
      "78/78 [==============================] - 1s 13ms/step - loss: 7.6062e-04\n",
      "Epoch 40/100\n",
      "78/78 [==============================] - 1s 13ms/step - loss: 8.3014e-04\n",
      "Epoch 41/100\n",
      "78/78 [==============================] - 1s 13ms/step - loss: 7.2964e-04\n",
      "Epoch 42/100\n",
      "78/78 [==============================] - 1s 13ms/step - loss: 8.6761e-04\n",
      "Epoch 43/100\n",
      "78/78 [==============================] - 1s 13ms/step - loss: 7.8396e-04\n",
      "Epoch 44/100\n",
      "78/78 [==============================] - 1s 13ms/step - loss: 7.6757e-04\n",
      "Epoch 45/100\n",
      "78/78 [==============================] - 1s 13ms/step - loss: 7.2506e-04\n",
      "Epoch 46/100\n",
      "78/78 [==============================] - 1s 13ms/step - loss: 7.4179e-04\n",
      "Epoch 47/100\n",
      "78/78 [==============================] - 1s 14ms/step - loss: 7.6181e-04\n",
      "Epoch 48/100\n",
      "78/78 [==============================] - 1s 13ms/step - loss: 7.3452e-04\n",
      "Epoch 49/100\n",
      "78/78 [==============================] - 1s 13ms/step - loss: 7.4331e-04\n",
      "Epoch 50/100\n",
      "78/78 [==============================] - 1s 13ms/step - loss: 8.5457e-04\n",
      "Epoch 51/100\n",
      "78/78 [==============================] - 1s 13ms/step - loss: 8.3513e-04\n",
      "Epoch 52/100\n",
      "78/78 [==============================] - 1s 13ms/step - loss: 7.4856e-04\n",
      "Epoch 53/100\n",
      "78/78 [==============================] - 1s 13ms/step - loss: 6.4856e-04\n",
      "Epoch 54/100\n",
      "78/78 [==============================] - 1s 14ms/step - loss: 8.5525e-04\n",
      "Epoch 55/100\n",
      "78/78 [==============================] - 1s 13ms/step - loss: 6.7969e-04\n",
      "Epoch 56/100\n",
      "78/78 [==============================] - 1s 13ms/step - loss: 6.9532e-04\n",
      "Epoch 57/100\n",
      "78/78 [==============================] - 1s 13ms/step - loss: 6.9250e-04\n",
      "Epoch 58/100\n",
      "78/78 [==============================] - 1s 15ms/step - loss: 7.9159e-04\n",
      "Epoch 59/100\n",
      "78/78 [==============================] - 1s 13ms/step - loss: 7.9962e-04\n",
      "Epoch 60/100\n",
      "78/78 [==============================] - 1s 13ms/step - loss: 7.0330e-04\n",
      "Epoch 61/100\n",
      "78/78 [==============================] - 1s 15ms/step - loss: 7.2959e-04\n",
      "Epoch 62/100\n",
      "78/78 [==============================] - 1s 15ms/step - loss: 6.2625e-04\n",
      "Epoch 63/100\n",
      "78/78 [==============================] - 1s 13ms/step - loss: 7.1211e-04\n",
      "Epoch 64/100\n",
      "78/78 [==============================] - 1s 13ms/step - loss: 7.3716e-04\n",
      "Epoch 65/100\n",
      "78/78 [==============================] - 1s 13ms/step - loss: 6.6078e-04\n",
      "Epoch 66/100\n",
      "78/78 [==============================] - 1s 13ms/step - loss: 7.2101e-04\n",
      "Epoch 67/100\n",
      "78/78 [==============================] - 1s 13ms/step - loss: 6.8463e-04\n",
      "Epoch 68/100\n",
      "78/78 [==============================] - 1s 14ms/step - loss: 6.4671e-04\n",
      "Epoch 69/100\n",
      "78/78 [==============================] - 1s 14ms/step - loss: 6.5501e-04\n",
      "Epoch 70/100\n",
      "78/78 [==============================] - 1s 13ms/step - loss: 6.4060e-04\n",
      "Epoch 71/100\n",
      "78/78 [==============================] - 1s 13ms/step - loss: 7.0734e-04\n",
      "Epoch 72/100\n",
      "78/78 [==============================] - 1s 13ms/step - loss: 6.9097e-04\n",
      "Epoch 73/100\n",
      "78/78 [==============================] - 1s 13ms/step - loss: 6.3395e-04\n",
      "Epoch 74/100\n",
      "78/78 [==============================] - 1s 13ms/step - loss: 5.5091e-04\n",
      "Epoch 75/100\n",
      "78/78 [==============================] - 1s 13ms/step - loss: 5.9964e-04\n",
      "Epoch 76/100\n",
      "78/78 [==============================] - 1s 13ms/step - loss: 6.7488e-04\n",
      "Epoch 77/100\n",
      "78/78 [==============================] - 1s 13ms/step - loss: 7.6788e-04\n",
      "Epoch 78/100\n",
      "78/78 [==============================] - 1s 13ms/step - loss: 7.0948e-04\n",
      "Epoch 79/100\n",
      "78/78 [==============================] - 1s 15ms/step - loss: 6.8402e-04\n",
      "Epoch 80/100\n",
      "78/78 [==============================] - 1s 13ms/step - loss: 6.5796e-04\n",
      "Epoch 81/100\n",
      "78/78 [==============================] - 1s 13ms/step - loss: 7.0582e-04\n",
      "Epoch 82/100\n",
      "78/78 [==============================] - 1s 13ms/step - loss: 6.8934e-04\n",
      "Epoch 83/100\n",
      "78/78 [==============================] - 1s 14ms/step - loss: 6.7397e-04\n",
      "Epoch 84/100\n",
      "78/78 [==============================] - 1s 13ms/step - loss: 6.1441e-04\n",
      "Epoch 85/100\n",
      "78/78 [==============================] - 1s 13ms/step - loss: 6.9781e-04\n",
      "Epoch 86/100\n",
      "78/78 [==============================] - 1s 13ms/step - loss: 8.1432e-04\n",
      "Epoch 87/100\n",
      "78/78 [==============================] - 1s 13ms/step - loss: 6.3942e-04\n",
      "Epoch 88/100\n",
      "78/78 [==============================] - 1s 13ms/step - loss: 6.3249e-04\n",
      "Epoch 89/100\n",
      "78/78 [==============================] - 1s 14ms/step - loss: 5.6467e-04\n",
      "Epoch 90/100\n",
      "78/78 [==============================] - 1s 14ms/step - loss: 5.9588e-04\n",
      "Epoch 91/100\n",
      "78/78 [==============================] - 1s 13ms/step - loss: 6.3904e-04\n",
      "Epoch 92/100\n",
      "78/78 [==============================] - 1s 16ms/step - loss: 6.0596e-04\n",
      "Epoch 93/100\n",
      "78/78 [==============================] - 1s 13ms/step - loss: 7.0877e-04\n",
      "Epoch 94/100\n",
      "78/78 [==============================] - 1s 13ms/step - loss: 6.6749e-04\n",
      "Epoch 95/100\n",
      "78/78 [==============================] - 1s 13ms/step - loss: 5.7210e-04\n",
      "Epoch 96/100\n",
      "78/78 [==============================] - 1s 13ms/step - loss: 5.9750e-04\n",
      "Epoch 97/100\n",
      "78/78 [==============================] - 1s 13ms/step - loss: 5.7219e-04\n",
      "Epoch 98/100\n",
      "78/78 [==============================] - 1s 13ms/step - loss: 6.0713e-04\n",
      "Epoch 99/100\n",
      "78/78 [==============================] - 1s 13ms/step - loss: 6.6966e-04\n",
      "Epoch 100/100\n",
      "78/78 [==============================] - 1s 15ms/step - loss: 6.6792e-04\n"
     ]
    },
    {
     "data": {
      "text/plain": [
       "<keras.callbacks.History at 0x7efdf87530d0>"
      ]
     },
     "execution_count": 34,
     "metadata": {},
     "output_type": "execute_result"
    }
   ],
   "source": [
    "regressor_3= Sequential()\n",
    "regressor_3.add(LSTM(units = 50,return_sequences = True,input_shape = (x_train_3.shape[1],1)))\n",
    "\n",
    "regressor_3.add(Dropout(0.2))\n",
    "\n",
    "regressor_3.add(LSTM(units = 50,return_sequences = True))\n",
    "regressor_3.add(Dropout(0.2))\n",
    "\n",
    "regressor_3.add(LSTM(units = 50,return_sequences = True))\n",
    "regressor_3.add(Dropout(0.2))\n",
    "\n",
    "regressor_3.add(LSTM(units = 50))\n",
    "regressor_3.add(Dropout(0.2))\n",
    "\n",
    "regressor_3.add(Dense(units = 1))\n",
    "\n",
    "regressor_3.compile(optimizer = 'adam',loss = 'mean_squared_error')\n",
    "\n",
    "regressor_3.fit(x_train_3,y_train_3,epochs = 100, batch_size = 32)"
   ]
  },
  {
   "cell_type": "code",
   "execution_count": 35,
   "id": "8092f998",
   "metadata": {
    "execution": {
     "iopub.execute_input": "2023-02-19T11:06:49.635228Z",
     "iopub.status.busy": "2023-02-19T11:06:49.634876Z",
     "iopub.status.idle": "2023-02-19T11:08:40.693311Z",
     "shell.execute_reply": "2023-02-19T11:08:40.692285Z"
    },
    "papermill": {
     "duration": 111.452594,
     "end_time": "2023-02-19T11:08:40.695505",
     "exception": false,
     "start_time": "2023-02-19T11:06:49.242911",
     "status": "completed"
    },
    "tags": []
   },
   "outputs": [
    {
     "name": "stdout",
     "output_type": "stream",
     "text": [
      "Epoch 1/100\n",
      "78/78 [==============================] - 6s 14ms/step - loss: 0.0033\n",
      "Epoch 2/100\n",
      "78/78 [==============================] - 1s 13ms/step - loss: 0.0022\n",
      "Epoch 3/100\n",
      "78/78 [==============================] - 1s 13ms/step - loss: 0.0024\n",
      "Epoch 4/100\n",
      "78/78 [==============================] - 1s 13ms/step - loss: 0.0024\n",
      "Epoch 5/100\n",
      "78/78 [==============================] - 1s 13ms/step - loss: 0.0021\n",
      "Epoch 6/100\n",
      "78/78 [==============================] - 1s 13ms/step - loss: 0.0022\n",
      "Epoch 7/100\n",
      "78/78 [==============================] - 1s 13ms/step - loss: 0.0018\n",
      "Epoch 8/100\n",
      "78/78 [==============================] - 1s 13ms/step - loss: 0.0020\n",
      "Epoch 9/100\n",
      "78/78 [==============================] - 1s 13ms/step - loss: 0.0020\n",
      "Epoch 10/100\n",
      "78/78 [==============================] - 1s 14ms/step - loss: 0.0020\n",
      "Epoch 11/100\n",
      "78/78 [==============================] - 2s 21ms/step - loss: 0.0020\n",
      "Epoch 12/100\n",
      "78/78 [==============================] - 1s 13ms/step - loss: 0.0019\n",
      "Epoch 13/100\n",
      "78/78 [==============================] - 1s 13ms/step - loss: 0.0019\n",
      "Epoch 14/100\n",
      "78/78 [==============================] - 1s 13ms/step - loss: 0.0021\n",
      "Epoch 15/100\n",
      "78/78 [==============================] - 1s 13ms/step - loss: 0.0019\n",
      "Epoch 16/100\n",
      "78/78 [==============================] - 1s 13ms/step - loss: 0.0019\n",
      "Epoch 17/100\n",
      "78/78 [==============================] - 1s 13ms/step - loss: 0.0019\n",
      "Epoch 18/100\n",
      "78/78 [==============================] - 1s 13ms/step - loss: 0.0019\n",
      "Epoch 19/100\n",
      "78/78 [==============================] - 1s 13ms/step - loss: 0.0022\n",
      "Epoch 20/100\n",
      "78/78 [==============================] - 1s 13ms/step - loss: 0.0019\n",
      "Epoch 21/100\n",
      "78/78 [==============================] - 1s 15ms/step - loss: 0.0020\n",
      "Epoch 22/100\n",
      "78/78 [==============================] - 1s 13ms/step - loss: 0.0019\n",
      "Epoch 23/100\n",
      "78/78 [==============================] - 1s 13ms/step - loss: 0.0018\n",
      "Epoch 24/100\n",
      "78/78 [==============================] - 1s 14ms/step - loss: 0.0018\n",
      "Epoch 25/100\n",
      "78/78 [==============================] - 1s 13ms/step - loss: 0.0018\n",
      "Epoch 26/100\n",
      "78/78 [==============================] - 1s 13ms/step - loss: 0.0019\n",
      "Epoch 27/100\n",
      "78/78 [==============================] - 1s 13ms/step - loss: 0.0021\n",
      "Epoch 28/100\n",
      "78/78 [==============================] - 1s 13ms/step - loss: 0.0019\n",
      "Epoch 29/100\n",
      "78/78 [==============================] - 1s 13ms/step - loss: 0.0017\n",
      "Epoch 30/100\n",
      "78/78 [==============================] - 1s 13ms/step - loss: 0.0017\n",
      "Epoch 31/100\n",
      "78/78 [==============================] - 1s 14ms/step - loss: 0.0019\n",
      "Epoch 32/100\n",
      "78/78 [==============================] - 1s 14ms/step - loss: 0.0017\n",
      "Epoch 33/100\n",
      "78/78 [==============================] - 1s 13ms/step - loss: 0.0016\n",
      "Epoch 34/100\n",
      "78/78 [==============================] - 1s 13ms/step - loss: 0.0019\n",
      "Epoch 35/100\n",
      "78/78 [==============================] - 1s 13ms/step - loss: 0.0015\n",
      "Epoch 36/100\n",
      "78/78 [==============================] - 1s 13ms/step - loss: 0.0015\n",
      "Epoch 37/100\n",
      "78/78 [==============================] - 1s 13ms/step - loss: 0.0014\n",
      "Epoch 38/100\n",
      "78/78 [==============================] - 1s 13ms/step - loss: 0.0016\n",
      "Epoch 39/100\n",
      "78/78 [==============================] - 1s 13ms/step - loss: 0.0017\n",
      "Epoch 40/100\n",
      "78/78 [==============================] - 1s 13ms/step - loss: 0.0014\n",
      "Epoch 41/100\n",
      "78/78 [==============================] - 1s 16ms/step - loss: 0.0015\n",
      "Epoch 42/100\n",
      "78/78 [==============================] - 1s 15ms/step - loss: 0.0015\n",
      "Epoch 43/100\n",
      "78/78 [==============================] - 1s 13ms/step - loss: 0.0016\n",
      "Epoch 44/100\n",
      "78/78 [==============================] - 1s 13ms/step - loss: 0.0014\n",
      "Epoch 45/100\n",
      "78/78 [==============================] - 1s 13ms/step - loss: 0.0016\n",
      "Epoch 46/100\n",
      "78/78 [==============================] - 1s 13ms/step - loss: 0.0015\n",
      "Epoch 47/100\n",
      "78/78 [==============================] - 1s 13ms/step - loss: 0.0017\n",
      "Epoch 48/100\n",
      "78/78 [==============================] - 1s 13ms/step - loss: 0.0016\n",
      "Epoch 49/100\n",
      "78/78 [==============================] - 1s 13ms/step - loss: 0.0016\n",
      "Epoch 50/100\n",
      "78/78 [==============================] - 1s 13ms/step - loss: 0.0014\n",
      "Epoch 51/100\n",
      "78/78 [==============================] - 1s 13ms/step - loss: 0.0013\n",
      "Epoch 52/100\n",
      "78/78 [==============================] - 1s 15ms/step - loss: 0.0015\n",
      "Epoch 53/100\n",
      "78/78 [==============================] - 1s 15ms/step - loss: 0.0014\n",
      "Epoch 54/100\n",
      "78/78 [==============================] - 1s 13ms/step - loss: 0.0014\n",
      "Epoch 55/100\n",
      "78/78 [==============================] - 1s 13ms/step - loss: 0.0013\n",
      "Epoch 56/100\n",
      "78/78 [==============================] - 1s 13ms/step - loss: 0.0015\n",
      "Epoch 57/100\n",
      "78/78 [==============================] - 1s 13ms/step - loss: 0.0015\n",
      "Epoch 58/100\n",
      "78/78 [==============================] - 1s 13ms/step - loss: 0.0013\n",
      "Epoch 59/100\n",
      "78/78 [==============================] - 1s 13ms/step - loss: 0.0014\n",
      "Epoch 60/100\n",
      "78/78 [==============================] - 1s 13ms/step - loss: 0.0014\n",
      "Epoch 61/100\n",
      "78/78 [==============================] - 1s 13ms/step - loss: 0.0014\n",
      "Epoch 62/100\n",
      "78/78 [==============================] - 1s 13ms/step - loss: 0.0016\n",
      "Epoch 63/100\n",
      "78/78 [==============================] - 1s 15ms/step - loss: 0.0016\n",
      "Epoch 64/100\n",
      "78/78 [==============================] - 1s 13ms/step - loss: 0.0014\n",
      "Epoch 65/100\n",
      "78/78 [==============================] - 1s 13ms/step - loss: 0.0014\n",
      "Epoch 66/100\n",
      "78/78 [==============================] - 1s 13ms/step - loss: 0.0015\n",
      "Epoch 67/100\n",
      "78/78 [==============================] - 1s 13ms/step - loss: 0.0015\n",
      "Epoch 68/100\n",
      "78/78 [==============================] - 1s 13ms/step - loss: 0.0014\n",
      "Epoch 69/100\n",
      "78/78 [==============================] - 1s 13ms/step - loss: 0.0012\n",
      "Epoch 70/100\n",
      "78/78 [==============================] - 1s 13ms/step - loss: 0.0014\n",
      "Epoch 71/100\n",
      "78/78 [==============================] - 1s 16ms/step - loss: 0.0014\n",
      "Epoch 72/100\n",
      "78/78 [==============================] - 1s 14ms/step - loss: 0.0014\n",
      "Epoch 73/100\n",
      "78/78 [==============================] - 1s 15ms/step - loss: 0.0013\n",
      "Epoch 74/100\n",
      "78/78 [==============================] - 1s 13ms/step - loss: 0.0014\n",
      "Epoch 75/100\n",
      "78/78 [==============================] - 1s 13ms/step - loss: 0.0013\n",
      "Epoch 76/100\n",
      "78/78 [==============================] - 1s 13ms/step - loss: 0.0014\n",
      "Epoch 77/100\n",
      "78/78 [==============================] - 1s 13ms/step - loss: 0.0014\n",
      "Epoch 78/100\n",
      "78/78 [==============================] - 1s 13ms/step - loss: 0.0014\n",
      "Epoch 79/100\n",
      "78/78 [==============================] - 1s 13ms/step - loss: 0.0014\n",
      "Epoch 80/100\n",
      "78/78 [==============================] - 1s 13ms/step - loss: 0.0013\n",
      "Epoch 81/100\n",
      "78/78 [==============================] - 1s 13ms/step - loss: 0.0012\n",
      "Epoch 82/100\n",
      "78/78 [==============================] - 1s 15ms/step - loss: 0.0013\n",
      "Epoch 83/100\n",
      "78/78 [==============================] - 1s 14ms/step - loss: 0.0014\n",
      "Epoch 84/100\n",
      "78/78 [==============================] - 1s 14ms/step - loss: 0.0014\n",
      "Epoch 85/100\n",
      "78/78 [==============================] - 1s 13ms/step - loss: 0.0014\n",
      "Epoch 86/100\n",
      "78/78 [==============================] - 1s 13ms/step - loss: 0.0014\n",
      "Epoch 87/100\n",
      "78/78 [==============================] - 1s 13ms/step - loss: 0.0012\n",
      "Epoch 88/100\n",
      "78/78 [==============================] - 1s 13ms/step - loss: 0.0013\n",
      "Epoch 89/100\n",
      "78/78 [==============================] - 1s 13ms/step - loss: 0.0014\n",
      "Epoch 90/100\n",
      "78/78 [==============================] - 1s 13ms/step - loss: 0.0013\n",
      "Epoch 91/100\n",
      "78/78 [==============================] - 1s 13ms/step - loss: 0.0013\n",
      "Epoch 92/100\n",
      "78/78 [==============================] - 1s 13ms/step - loss: 0.0014\n",
      "Epoch 93/100\n",
      "78/78 [==============================] - 1s 13ms/step - loss: 0.0014\n",
      "Epoch 94/100\n",
      "78/78 [==============================] - 1s 15ms/step - loss: 0.0013\n",
      "Epoch 95/100\n",
      "78/78 [==============================] - 1s 13ms/step - loss: 0.0013\n",
      "Epoch 96/100\n",
      "78/78 [==============================] - 1s 13ms/step - loss: 0.0013\n",
      "Epoch 97/100\n",
      "78/78 [==============================] - 1s 13ms/step - loss: 0.0012\n",
      "Epoch 98/100\n",
      "78/78 [==============================] - 1s 13ms/step - loss: 0.0012\n",
      "Epoch 99/100\n",
      "78/78 [==============================] - 1s 13ms/step - loss: 0.0014\n",
      "Epoch 100/100\n",
      "78/78 [==============================] - 1s 13ms/step - loss: 0.0014\n"
     ]
    },
    {
     "data": {
      "text/plain": [
       "<keras.callbacks.History at 0x7ef9ec152b10>"
      ]
     },
     "execution_count": 35,
     "metadata": {},
     "output_type": "execute_result"
    }
   ],
   "source": [
    "regressor_4= Sequential()\n",
    "regressor_4.add(LSTM(units = 50,return_sequences = True,input_shape = (x_train_4.shape[1],1)))\n",
    "\n",
    "regressor_4.add(Dropout(0.2))\n",
    "\n",
    "regressor_4.add(LSTM(units = 50,return_sequences = True))\n",
    "regressor_4.add(Dropout(0.2))\n",
    "\n",
    "regressor_4.add(LSTM(units = 50,return_sequences = True))\n",
    "regressor_4.add(Dropout(0.2))\n",
    "\n",
    "regressor_4.add(LSTM(units = 50))\n",
    "regressor_4.add(Dropout(0.2))\n",
    "\n",
    "regressor_4.add(Dense(units = 1))\n",
    "\n",
    "regressor_4.compile(optimizer = 'adam',loss = 'mean_squared_error')\n",
    "\n",
    "regressor_4.fit(x_train_4,y_train_4,epochs = 100, batch_size = 32)"
   ]
  },
  {
   "cell_type": "code",
   "execution_count": 36,
   "id": "fe5b660a",
   "metadata": {
    "execution": {
     "iopub.execute_input": "2023-02-19T11:08:41.823190Z",
     "iopub.status.busy": "2023-02-19T11:08:41.822760Z",
     "iopub.status.idle": "2023-02-19T11:08:41.843784Z",
     "shell.execute_reply": "2023-02-19T11:08:41.842884Z"
    },
    "papermill": {
     "duration": 0.703643,
     "end_time": "2023-02-19T11:08:41.846526",
     "exception": false,
     "start_time": "2023-02-19T11:08:41.142883",
     "status": "completed"
    },
    "tags": []
   },
   "outputs": [],
   "source": [
    "TEST = pd.read_csv(\"/kaggle/input/kaggle-stock-market-prediction/test.csv\")"
   ]
  },
  {
   "cell_type": "code",
   "execution_count": 37,
   "id": "3a7362d1",
   "metadata": {
    "execution": {
     "iopub.execute_input": "2023-02-19T11:08:42.990971Z",
     "iopub.status.busy": "2023-02-19T11:08:42.990619Z",
     "iopub.status.idle": "2023-02-19T11:08:43.159733Z",
     "shell.execute_reply": "2023-02-19T11:08:43.158307Z"
    },
    "papermill": {
     "duration": 0.620644,
     "end_time": "2023-02-19T11:08:43.161836",
     "exception": false,
     "start_time": "2023-02-19T11:08:42.541192",
     "status": "completed"
    },
    "tags": []
   },
   "outputs": [
    {
     "name": "stdout",
     "output_type": "stream",
     "text": [
      "4.0\n"
     ]
    }
   ],
   "source": [
    "print(TEST[\"Company\"][45])\n",
    "opens_1 = []\n",
    "opens_2 = []\n",
    "opens_3 = []\n",
    "opens_4 = []\n",
    "High_1 = []\n",
    "High_2 = []\n",
    "High_3 = []\n",
    "High_4 = []\n",
    "\n",
    "Low_1 = []\n",
    "Low_2 = []\n",
    "Low_3 = []\n",
    "Low_4 = []\n",
    "Adj_1 = []\n",
    "Adj_2 = []\n",
    "Adj_3 = []\n",
    "Adj_4 = []\n",
    "Volume_1 = []\n",
    "Volume_2 = []\n",
    "Volume_3 = []\n",
    "Volume_4 = []\n",
    "dates_1 = []\n",
    "dates_2 = []\n",
    "dates_3 = []\n",
    "dates_4 = []\n",
    "\n",
    "\n",
    "dates_test= np.array(TEST[\"Date\"])\n",
    "for i in range(1, len(dates_test)):\n",
    "    if TEST[\"Company\"][i]== 1 :\n",
    "        opens_1.append(TEST[\"Open\"][i])\n",
    "        High_1.append(TEST[\"High\"][i])\n",
    "        Low_1.append(TEST[\"Low\"][i])\n",
    "        Volume_1.append(TEST[\"Volume\"][i])\n",
    "        dates_1.append(TEST[\"Date\"][i])\n",
    "        Adj_1.append(TEST[\"Adj Close\"][i])\n",
    "    if TEST[\"Company\"][i]== 2 :\n",
    "        opens_2.append(TEST[\"Open\"][i])\n",
    "        High_2.append(TEST[\"High\"][i])\n",
    "        Low_2.append(TEST[\"Low\"][i])\n",
    "        Volume_2.append(TEST[\"Volume\"][i])\n",
    "        dates_2.append(TEST[\"Date\"][i])\n",
    "        Adj_2.append(TEST[\"Adj Close\"][i])\n",
    "    if TEST[\"Company\"][i]== 3 :\n",
    "        opens_3.append(TEST[\"Open\"][i])\n",
    "        High_3.append(TEST[\"High\"][i])\n",
    "        Low_3.append(TEST[\"Low\"][i])\n",
    "        Volume_3.append(TEST[\"Volume\"][i])\n",
    "        dates_3.append(TEST[\"Date\"][i])\n",
    "        Adj_3.append(TEST[\"Adj Close\"][i])\n",
    "    if TEST[\"Company\"][i]== 4 :\n",
    "        opens_4.append(TEST[\"Open\"][i])\n",
    "        High_4.append(TEST[\"High\"][i])\n",
    "        Low_4.append(TEST[\"Low\"][i])\n",
    "        Volume_4.append(TEST[\"Volume\"][i])\n",
    "        dates_4.append(TEST[\"Date\"][i])\n",
    "        Adj_4.append(TEST[\"Adj Close\"][i])\n",
    "        \n",
    "TEST_1 = pd.DataFrame({\"Date\":dates_1,\"Open\":opens_1, \"High\":High_1, \"Low\":Low_1,\"Adj Close\":Adj_1,\"Volume\":Volume_1}) \n",
    "TEST_2 = pd.DataFrame({\"Date\":dates_2,\"Open\":opens_2, \"High\":High_2, \"Low\":Low_2,\"Adj Close\":Adj_2,\"Volume\":Volume_2})        \n",
    "TEST_3 = pd.DataFrame({\"Date\":dates_3,\"Open\":opens_3, \"High\":High_3, \"Low\":Low_3,\"Adj Close\":Adj_3,\"Volume\":Volume_3})        \n",
    "TEST_4 = pd.DataFrame({\"Date\":dates_4,\"Open\":opens_4, \"High\":High_4, \"Low\":Low_4,\"Adj Close\":Adj_4,\"Volume\":Volume_4})        "
   ]
  },
  {
   "cell_type": "code",
   "execution_count": 38,
   "id": "24de1a8c",
   "metadata": {
    "execution": {
     "iopub.execute_input": "2023-02-19T11:08:44.108838Z",
     "iopub.status.busy": "2023-02-19T11:08:44.108489Z",
     "iopub.status.idle": "2023-02-19T11:08:44.126720Z",
     "shell.execute_reply": "2023-02-19T11:08:44.125426Z"
    },
    "papermill": {
     "duration": 0.52124,
     "end_time": "2023-02-19T11:08:44.129065",
     "exception": false,
     "start_time": "2023-02-19T11:08:43.607825",
     "status": "completed"
    },
    "tags": []
   },
   "outputs": [
    {
     "data": {
      "text/html": [
       "<div>\n",
       "<style scoped>\n",
       "    .dataframe tbody tr th:only-of-type {\n",
       "        vertical-align: middle;\n",
       "    }\n",
       "\n",
       "    .dataframe tbody tr th {\n",
       "        vertical-align: top;\n",
       "    }\n",
       "\n",
       "    .dataframe thead th {\n",
       "        text-align: right;\n",
       "    }\n",
       "</style>\n",
       "<table border=\"1\" class=\"dataframe\">\n",
       "  <thead>\n",
       "    <tr style=\"text-align: right;\">\n",
       "      <th></th>\n",
       "      <th>Date</th>\n",
       "      <th>Open</th>\n",
       "      <th>High</th>\n",
       "      <th>Low</th>\n",
       "      <th>Adj Close</th>\n",
       "      <th>Volume</th>\n",
       "    </tr>\n",
       "  </thead>\n",
       "  <tbody>\n",
       "    <tr>\n",
       "      <th>0</th>\n",
       "      <td>2020-07-17</td>\n",
       "      <td>97.01</td>\n",
       "      <td>97.15</td>\n",
       "      <td>95.86</td>\n",
       "      <td>94.73</td>\n",
       "      <td>92186800.0</td>\n",
       "    </tr>\n",
       "    <tr>\n",
       "      <th>1</th>\n",
       "      <td>2020-07-20</td>\n",
       "      <td>96.56</td>\n",
       "      <td>98.67</td>\n",
       "      <td>96.04</td>\n",
       "      <td>96.68</td>\n",
       "      <td>90318000.0</td>\n",
       "    </tr>\n",
       "    <tr>\n",
       "      <th>2</th>\n",
       "      <td>2020-07-21</td>\n",
       "      <td>99.16</td>\n",
       "      <td>99.21</td>\n",
       "      <td>96.73</td>\n",
       "      <td>95.51</td>\n",
       "      <td>103433200.0</td>\n",
       "    </tr>\n",
       "    <tr>\n",
       "      <th>3</th>\n",
       "      <td>2020-07-22</td>\n",
       "      <td>96.68</td>\n",
       "      <td>98.15</td>\n",
       "      <td>96.74</td>\n",
       "      <td>95.74</td>\n",
       "      <td>89001600.0</td>\n",
       "    </tr>\n",
       "    <tr>\n",
       "      <th>4</th>\n",
       "      <td>2020-07-23</td>\n",
       "      <td>96.85</td>\n",
       "      <td>96.94</td>\n",
       "      <td>92.13</td>\n",
       "      <td>91.27</td>\n",
       "      <td>197004400.0</td>\n",
       "    </tr>\n",
       "    <tr>\n",
       "      <th>...</th>\n",
       "      <td>...</td>\n",
       "      <td>...</td>\n",
       "      <td>...</td>\n",
       "      <td>...</td>\n",
       "      <td>...</td>\n",
       "      <td>...</td>\n",
       "    </tr>\n",
       "    <tr>\n",
       "      <th>628</th>\n",
       "      <td>2023-01-13</td>\n",
       "      <td>132.12</td>\n",
       "      <td>134.89</td>\n",
       "      <td>131.71</td>\n",
       "      <td>134.75</td>\n",
       "      <td>57758000.0</td>\n",
       "    </tr>\n",
       "    <tr>\n",
       "      <th>629</th>\n",
       "      <td>2023-01-17</td>\n",
       "      <td>134.81</td>\n",
       "      <td>137.24</td>\n",
       "      <td>134.02</td>\n",
       "      <td>136.11</td>\n",
       "      <td>63646600.0</td>\n",
       "    </tr>\n",
       "    <tr>\n",
       "      <th>630</th>\n",
       "      <td>2023-01-18</td>\n",
       "      <td>136.82</td>\n",
       "      <td>138.61</td>\n",
       "      <td>135.19</td>\n",
       "      <td>135.12</td>\n",
       "      <td>69672800.0</td>\n",
       "    </tr>\n",
       "    <tr>\n",
       "      <th>631</th>\n",
       "      <td>2023-01-19</td>\n",
       "      <td>134.00</td>\n",
       "      <td>136.21</td>\n",
       "      <td>133.71</td>\n",
       "      <td>135.28</td>\n",
       "      <td>58280400.0</td>\n",
       "    </tr>\n",
       "    <tr>\n",
       "      <th>632</th>\n",
       "      <td>2023-01-20</td>\n",
       "      <td>135.35</td>\n",
       "      <td>137.96</td>\n",
       "      <td>134.35</td>\n",
       "      <td>137.89</td>\n",
       "      <td>79972200.0</td>\n",
       "    </tr>\n",
       "  </tbody>\n",
       "</table>\n",
       "<p>633 rows × 6 columns</p>\n",
       "</div>"
      ],
      "text/plain": [
       "           Date    Open    High     Low  Adj Close       Volume\n",
       "0    2020-07-17   97.01   97.15   95.86      94.73   92186800.0\n",
       "1    2020-07-20   96.56   98.67   96.04      96.68   90318000.0\n",
       "2    2020-07-21   99.16   99.21   96.73      95.51  103433200.0\n",
       "3    2020-07-22   96.68   98.15   96.74      95.74   89001600.0\n",
       "4    2020-07-23   96.85   96.94   92.13      91.27  197004400.0\n",
       "..          ...     ...     ...     ...        ...          ...\n",
       "628  2023-01-13  132.12  134.89  131.71     134.75   57758000.0\n",
       "629  2023-01-17  134.81  137.24  134.02     136.11   63646600.0\n",
       "630  2023-01-18  136.82  138.61  135.19     135.12   69672800.0\n",
       "631  2023-01-19  134.00  136.21  133.71     135.28   58280400.0\n",
       "632  2023-01-20  135.35  137.96  134.35     137.89   79972200.0\n",
       "\n",
       "[633 rows x 6 columns]"
      ]
     },
     "execution_count": 38,
     "metadata": {},
     "output_type": "execute_result"
    }
   ],
   "source": [
    "TEST_1"
   ]
  },
  {
   "cell_type": "code",
   "execution_count": 39,
   "id": "a33b9d43",
   "metadata": {
    "execution": {
     "iopub.execute_input": "2023-02-19T11:08:45.189074Z",
     "iopub.status.busy": "2023-02-19T11:08:45.188647Z",
     "iopub.status.idle": "2023-02-19T11:08:45.193534Z",
     "shell.execute_reply": "2023-02-19T11:08:45.192587Z"
    },
    "papermill": {
     "duration": 0.62089,
     "end_time": "2023-02-19T11:08:45.195839",
     "exception": false,
     "start_time": "2023-02-19T11:08:44.574949",
     "status": "completed"
    },
    "tags": []
   },
   "outputs": [],
   "source": [
    "# set_1 = TEST_1.iloc[:,1:2].values\n",
    "# set_2 = TEST_2.iloc[:,1:2].values\n",
    "# set_3 = TEST_3.iloc[:,1:2].values\n",
    "# set_4 = TEST_4.iloc[:,1:2].values"
   ]
  },
  {
   "cell_type": "code",
   "execution_count": 40,
   "id": "b9c6bc08",
   "metadata": {
    "execution": {
     "iopub.execute_input": "2023-02-19T11:08:46.233717Z",
     "iopub.status.busy": "2023-02-19T11:08:46.233301Z",
     "iopub.status.idle": "2023-02-19T11:08:46.238017Z",
     "shell.execute_reply": "2023-02-19T11:08:46.236792Z"
    },
    "papermill": {
     "duration": 0.457482,
     "end_time": "2023-02-19T11:08:46.240727",
     "exception": false,
     "start_time": "2023-02-19T11:08:45.783245",
     "status": "completed"
    },
    "tags": []
   },
   "outputs": [],
   "source": [
    "#  from sklearn.preprocessing import MinMaxScaler\n",
    "#  sc = MinMaxScaler(feature_range = (0,1))\n",
    "#  TEST_scaled_1 = sc.fit_transform(set_1)\n",
    "#  TEST_scaled_2 = sc.fit_transform(set_2)\n",
    "#  TEST_scaled_3 = sc.fit_transform(set_3)\n",
    "#  TEST_scaled_4 = sc.fit_transform(set_4)"
   ]
  },
  {
   "cell_type": "code",
   "execution_count": 41,
   "id": "25de61eb",
   "metadata": {
    "execution": {
     "iopub.execute_input": "2023-02-19T11:08:47.185274Z",
     "iopub.status.busy": "2023-02-19T11:08:47.184289Z",
     "iopub.status.idle": "2023-02-19T11:08:47.188966Z",
     "shell.execute_reply": "2023-02-19T11:08:47.188067Z"
    },
    "papermill": {
     "duration": 0.457218,
     "end_time": "2023-02-19T11:08:47.191019",
     "exception": false,
     "start_time": "2023-02-19T11:08:46.733801",
     "status": "completed"
    },
    "tags": []
   },
   "outputs": [],
   "source": [
    "# x_test_1 =np.array(TEST_scaled_1)\n",
    "# x_test_2 =np.array(TEST_scaled_2)\n",
    "# x_test_3 =np.array(TEST_scaled_3)\n",
    "# x_test_4 =np.array(TEST_scaled_4)\n",
    "\n",
    "\n",
    "\n"
   ]
  },
  {
   "cell_type": "code",
   "execution_count": 42,
   "id": "f089b319",
   "metadata": {
    "execution": {
     "iopub.execute_input": "2023-02-19T11:08:48.130856Z",
     "iopub.status.busy": "2023-02-19T11:08:48.129881Z",
     "iopub.status.idle": "2023-02-19T11:08:48.144527Z",
     "shell.execute_reply": "2023-02-19T11:08:48.143462Z"
    },
    "papermill": {
     "duration": 0.513738,
     "end_time": "2023-02-19T11:08:48.147121",
     "exception": false,
     "start_time": "2023-02-19T11:08:47.633383",
     "status": "completed"
    },
    "tags": []
   },
   "outputs": [
    {
     "data": {
      "text/plain": [
       "0        9.50\n",
       "1        9.25\n",
       "2        9.01\n",
       "3        8.98\n",
       "4        9.13\n",
       "        ...  \n",
       "628    132.12\n",
       "629    134.81\n",
       "630    136.82\n",
       "631    134.00\n",
       "632    135.35\n",
       "Name: Open, Length: 3163, dtype: float64"
      ]
     },
     "execution_count": 42,
     "metadata": {},
     "output_type": "execute_result"
    }
   ],
   "source": [
    "real_stock_price_1 = TEST_1.iloc[:,1:2].values\n",
    "real_stock_price_2 = TEST_2.iloc[:,1:2].values\n",
    "real_stock_price_3 = TEST_3.iloc[:,1:2].values\n",
    "real_stock_price_4 = TEST_4.iloc[:,1:2].values\n",
    "\n",
    "dataset_total_1 = pd.concat((Companies[0]['Open'],TEST_1['Open']),axis = 0)\n",
    "dataset_total_2 = pd.concat((Companies[1]['Open'],TEST_2['Open']),axis = 0)\n",
    "dataset_total_3 = pd.concat((Companies[2]['Open'],TEST_3['Open']),axis = 0)\n",
    "dataset_total_4 = pd.concat((Companies[3]['Open'],TEST_4['Open']),axis = 0)\n",
    "dataset_total_1 "
   ]
  },
  {
   "cell_type": "code",
   "execution_count": 43,
   "id": "0f6c6657",
   "metadata": {
    "execution": {
     "iopub.execute_input": "2023-02-19T11:08:49.029791Z",
     "iopub.status.busy": "2023-02-19T11:08:49.029386Z",
     "iopub.status.idle": "2023-02-19T11:08:49.043969Z",
     "shell.execute_reply": "2023-02-19T11:08:49.042985Z"
    },
    "papermill": {
     "duration": 0.460619,
     "end_time": "2023-02-19T11:08:49.045995",
     "exception": false,
     "start_time": "2023-02-19T11:08:48.585376",
     "status": "completed"
    },
    "tags": []
   },
   "outputs": [
    {
     "data": {
      "text/plain": [
       "array([ 68.51,  69.08,  69.31,  70.37,  71.27,  71.17,  72.53,  71.4 ,\n",
       "        72.4 ,  73.9 ,  74.99,  75.92,  76.42,  77.04,  79.47,  78.06,\n",
       "        76.01,  75.14,  78.22,  78.91,  79.16,  79.67,  78.86,  81.  ,\n",
       "        78.96,  79.08,  79.91,  79.48,  80.1 ,  81.28,  80.96,  80.89,\n",
       "        82.74,  83.  ,  87.02,  87.23,  86.34,  83.3 ,  87.86,  88.8 ,\n",
       "        87.77,  88.69,  87.87,  91.02,  91.21,  90.36,  91.2 ,  88.47,\n",
       "        89.99,  91.25,  91.89,  92.51,  93.86,  94.19,  96.18,  95.36,\n",
       "        97.41,  94.81,  99.06,  96.49,  97.01,  96.56,  99.16,  96.68,\n",
       "        96.85,  91.03,  93.78,  94.25,  93.79,  94.42, 103.08, 108.09,\n",
       "       109.17, 109.23, 110.53, 113.09, 112.46, 112.01, 110.52, 114.44,\n",
       "       114.85, 116.22, 114.31, 115.89, 115.66, 119.25, 128.59, 124.59,\n",
       "       126.28, 127.23, 125.96, 127.5 , 132.68, 137.53, 126.96, 120.05,\n",
       "       114.1 , 117.16, 120.31, 114.46, 114.75, 118.38, 115.23, 109.71,\n",
       "       110.45, 104.6 , 112.59, 111.42, 105.05, 108.55, 114.94, 114.55,\n",
       "       113.95, 117.58, 112.74, 113.91, 115.64, 114.89, 116.33, 115.3 ,\n",
       "       119.87, 125.24, 120.97, 118.48, 121.23, 120.1 , 116.04, 116.51,\n",
       "       117.38, 116.43, 113.87, 115.36, 115.09, 112.28, 111.11, 109.13,\n",
       "       109.53, 114.18, 118.08, 118.3 , 120.54, 115.5 , 117.19, 119.47,\n",
       "       119.58, 118.81, 119.54, 118.58, 117.7 , 118.72, 117.07, 113.83,\n",
       "       115.49, 116.43, 117.09, 121.21, 121.94, 123.65, 122.68, 122.02,\n",
       "       124.09, 124.57, 120.52, 122.37, 122.55, 124.29, 127.56, 128.9 ,\n",
       "       128.9 , 124.85, 131.58, 132.16, 131.38, 134.1 , 138.08, 135.58,\n",
       "       134.03, 133.63, 128.88, 127.76, 128.32, 132.54, 129.16, 128.51,\n",
       "       128.95, 130.81, 128.86, 127.83, 128.85, 133.79, 136.34, 143.1 ,\n",
       "       143.58, 143.4 , 139.6 , 135.85, 133.7 , 135.69, 135.71, 136.31,\n",
       "       137.37, 135.93, 136.72, 136.42, 136.01, 134.38, 135.39, 131.45,\n",
       "       129.33, 130.37, 127.89, 123.72, 125.12, 124.58, 122.67, 123.7 ,\n",
       "       128.32, 124.67, 121.81, 121.17, 120.83, 119.03, 121.72, 122.55,\n",
       "       120.48, 121.45, 125.59, 123.99, 122.65, 119.76, 120.29, 123.39,\n",
       "       122.81, 119.41, 120.31, 121.63, 120.09, 121.63, 123.73, 123.86,\n",
       "       126.67, 125.84, 128.89, 129.72, 132.55, 132.59, 134.64, 133.76,\n",
       "       134.24, 133.43, 134.93, 132.33, 132.88, 131.92, 135.02, 135.14,\n",
       "       134.42, 136.46, 131.62, 131.99, 131.05, 129.11, 127.92, 130.81,\n",
       "       129.35, 123.65, 123.13, 124.58, 126.14, 126.73, 126.53, 123.09,\n",
       "       125.3 , 127.75, 125.83, 128.07, 127.  , 126.49, 125.52, 124.95,\n",
       "       124.16, 124.6 , 124.1 , 126.14, 126.69, 127.33, 127.14, 126.45,\n",
       "       127.83, 130.09, 130.24, 129.69, 130.72, 130.4 , 132.03, 133.82,\n",
       "       134.34, 133.75, 133.35, 134.79, 136.18, 136.71, 137.82, 140.16,\n",
       "       143.51, 141.73, 142.83, 146.26, 143.99, 148.16, 149.17, 148.54,\n",
       "       143.78, 143.25, 145.46, 145.95, 147.67, 148.33, 149.07, 144.93,\n",
       "       144.68, 144.32, 146.51, 145.61, 147.32, 147.08, 146.17, 146.25,\n",
       "       146.47, 145.88, 145.95, 148.98, 148.56, 150.31, 149.74, 144.95,\n",
       "       147.35, 148.29, 149.55, 149.59, 148.36, 147.3 , 148.97, 152.65,\n",
       "       152.76, 153.84, 153.69, 154.9 , 156.96, 155.4 , 154.98, 150.46,\n",
       "       150.36, 148.62, 148.48, 148.79, 143.75, 144.02, 144.42, 146.74,\n",
       "       145.6 , 145.48, 143.2 , 142.44, 143.76, 141.83, 141.76, 139.44,\n",
       "       139.42, 143.29, 143.98, 142.19, 143.39, 141.41, 142.23, 143.76,\n",
       "       143.52, 146.95, 148.82, 148.79, 149.78, 148.81, 149.29, 149.34,\n",
       "       149.79, 147.32, 149.03, 148.8 , 150.41, 151.52, 152.06, 151.52,\n",
       "       150.  , 150.11, 149.01, 148.49, 150.46, 149.93, 151.03, 153.77,\n",
       "       157.63, 161.56, 161.09, 160.84, 159.71, 159.23, 160.  , 167.51,\n",
       "       158.77, 164.15, 164.4 , 168.97, 172.2 , 175.04, 175.26, 181.13,\n",
       "       175.21, 175.01, 179.14, 169.79, 168.26, 171.62, 173.06, 176.05,\n",
       "       177.16, 180.09, 179.29, 179.45, 178.06, 177.53, 182.41, 179.59,\n",
       "       172.8 , 172.74, 169.1 , 172.44, 176.14, 175.71, 171.34, 171.5 ,\n",
       "       170.16, 167.12, 164.38, 160.06, 159.23, 163.48, 162.51, 165.79,\n",
       "       170.16, 173.89, 174.71, 174.45, 171.75, 172.88, 171.66, 176.04,\n",
       "       174.2 , 172.37, 167.32, 170.96, 171.89, 171.04, 169.8 , 165.19,\n",
       "       165.47, 152.51, 163.89, 162.98, 164.57, 164.42, 168.34, 164.51,\n",
       "       163.36, 158.81, 161.37, 160.13, 159.09, 151.46, 150.79, 157.  ,\n",
       "       158.66, 160.41, 163.37, 165.67, 168.02, 171.22, 174.09, 172.11,\n",
       "       176.73, 178.64, 177.95, 174.02, 174.74, 177.52, 172.46, 171.09,\n",
       "       171.62, 168.69, 167.92, 167.48, 170.82, 163.82, 164.83, 168.8 ,\n",
       "       169.01, 166.48, 161.1 , 162.29, 155.87, 159.28, 161.84, 156.87,\n",
       "       158.27, 159.46, 163.95, 156.05, 154.9 , 155.55, 153.65, 142.82,\n",
       "       144.5 , 145.44, 148.95, 146.85, 139.94, 139.06, 137.77, 140.85,\n",
       "       138.47, 137.55, 145.42, 148.97, 149.87, 147.88, 146.97, 146.96,\n",
       "       144.34, 148.64, 147.17, 140.31, 132.79, 133.05, 134.39, 132.03,\n",
       "       130.14, 133.47, 134.75, 136.95, 140.07, 142.62, 142.28, 137.48,\n",
       "       137.15, 135.93, 137.74, 141.49, 143.19, 145.34, 145.55, 145.74,\n",
       "       142.95, 144.22, 149.89, 150.8 , 148.02, 151.15, 154.6 , 155.27,\n",
       "       154.1 , 152.27, 152.52, 157.07, 161.23, 161.06, 160.16, 160.82,\n",
       "       166.01, 163.09, 166.42, 163.96, 167.73, 170.04, 169.87, 171.51,\n",
       "       172.74, 172.75, 173.53, 172.86, 169.49, 166.96, 167.26, 168.61,\n",
       "       170.75, 161.25, 162.15, 160.26, 156.71, 159.82, 156.53, 154.75,\n",
       "       154.64, 155.59, 159.54, 159.78, 154.9 , 154.41, 151.2 , 149.35,\n",
       "       153.55, 157.25, 152.25, 151.11, 149.59, 152.75, 147.61, 146.  ,\n",
       "       141.23, 138.08, 145.09, 144.04, 145.85, 142.47, 140.55, 139.85,\n",
       "       138.97, 134.82, 144.42, 140.9 , 145.37, 141.71, 142.99, 142.82,\n",
       "       147.25, 150.33, 150.97, 147.97, 148.08, 153.02, 155.19, 148.95,\n",
       "       142.05, 142.05, 137.05, 140.69, 138.38, 141.28, 145.98, 148.97,\n",
       "       152.21, 149.13, 146.41, 152.2 , 150.25, 148.19, 149.41, 148.24,\n",
       "       145.07, 144.31, 141.3 , 148.18, 145.91, 147.74, 147.22, 142.08,\n",
       "       142.28, 142.47, 142.8 , 149.48, 145.3 , 141.18, 136.75, 135.07,\n",
       "       131.33, 132.89, 134.36, 130.86, 131.48, 129.7 , 128.16, 128.42,\n",
       "       130.31, 126.83, 127.19, 126.14, 130.59, 130.41, 131.2 , 133.78,\n",
       "       132.12, 134.81, 136.82, 134.  , 135.35])"
      ]
     },
     "execution_count": 43,
     "metadata": {},
     "output_type": "execute_result"
    }
   ],
   "source": [
    "inputs_1 = dataset_total_1[len(dataset_total_1) - len(TEST_1)-60:].values\n",
    "inputs_2 = dataset_total_2[len(dataset_total_2) - len(TEST_2)-60:].values\n",
    "inputs_3 = dataset_total_3[len(dataset_total_3) - len(TEST_3)-60:].values\n",
    "inputs_4 = dataset_total_4[len(dataset_total_4) - len(TEST_4)-60:].values\n",
    "inputs_1"
   ]
  },
  {
   "cell_type": "code",
   "execution_count": 44,
   "id": "1c2b5862",
   "metadata": {
    "execution": {
     "iopub.execute_input": "2023-02-19T11:08:49.990000Z",
     "iopub.status.busy": "2023-02-19T11:08:49.989069Z",
     "iopub.status.idle": "2023-02-19T11:08:49.994763Z",
     "shell.execute_reply": "2023-02-19T11:08:49.993895Z"
    },
    "papermill": {
     "duration": 0.455552,
     "end_time": "2023-02-19T11:08:49.996787",
     "exception": false,
     "start_time": "2023-02-19T11:08:49.541235",
     "status": "completed"
    },
    "tags": []
   },
   "outputs": [],
   "source": [
    "inputs_1 = inputs_1.reshape(-1,1)\n",
    "inputs_2 = inputs_2.reshape(-1,1)\n",
    "inputs_3 = inputs_3.reshape(-1,1)\n",
    "inputs_4 = inputs_4.reshape(-1,1)"
   ]
  },
  {
   "cell_type": "code",
   "execution_count": 45,
   "id": "ef17309f",
   "metadata": {
    "execution": {
     "iopub.execute_input": "2023-02-19T11:08:50.945916Z",
     "iopub.status.busy": "2023-02-19T11:08:50.945556Z",
     "iopub.status.idle": "2023-02-19T11:08:50.953546Z",
     "shell.execute_reply": "2023-02-19T11:08:50.952612Z"
    },
    "papermill": {
     "duration": 0.514211,
     "end_time": "2023-02-19T11:08:50.955505",
     "exception": false,
     "start_time": "2023-02-19T11:08:50.441294",
     "status": "completed"
    },
    "tags": []
   },
   "outputs": [
    {
     "data": {
      "text/plain": [
       "(693, 1)"
      ]
     },
     "execution_count": 45,
     "metadata": {},
     "output_type": "execute_result"
    }
   ],
   "source": [
    "inputs_1 = sc.transform(inputs_1)\n",
    "inputs_2 = sc.transform(inputs_2)\n",
    "inputs_3 = sc.transform(inputs_3)\n",
    "inputs_4 = sc.transform(inputs_4)\n",
    "inputs_1.shape"
   ]
  },
  {
   "cell_type": "code",
   "execution_count": 46,
   "id": "c05b0953",
   "metadata": {
    "execution": {
     "iopub.execute_input": "2023-02-19T11:08:51.919526Z",
     "iopub.status.busy": "2023-02-19T11:08:51.918535Z",
     "iopub.status.idle": "2023-02-19T11:08:56.739351Z",
     "shell.execute_reply": "2023-02-19T11:08:56.738391Z"
    },
    "papermill": {
     "duration": 5.333871,
     "end_time": "2023-02-19T11:08:56.741530",
     "exception": false,
     "start_time": "2023-02-19T11:08:51.407659",
     "status": "completed"
    },
    "tags": []
   },
   "outputs": [
    {
     "data": {
      "text/plain": [
       "(633, 1)"
      ]
     },
     "execution_count": 46,
     "metadata": {},
     "output_type": "execute_result"
    }
   ],
   "source": [
    "x_test_1 = []\n",
    "for i in range(60,693):\n",
    "    x_test_1.append(inputs_1[i-60:i,0])\n",
    "    \n",
    "x_test_1 = np.array(x_test_1)\n",
    "x_test_1 = np.reshape(x_test_1, (x_test_1.shape[0],x_test_1.shape[1],1))\n",
    "predicted_price_1 = regressor_1.predict(x_test_1)\n",
    "predicted_price_1 = sc.inverse_transform(predicted_price_1)\n",
    "\n",
    "x_test_2 = []\n",
    "for i in range(60,693):\n",
    "    x_test_2.append(inputs_2[i-60:i,0])\n",
    "    \n",
    "x_test_2 = np.array(x_test_2)\n",
    "x_test_2 = np.reshape(x_test_2, (x_test_2.shape[0],x_test_2.shape[1],1))\n",
    "predicted_price_2 = regressor_2.predict(x_test_2)\n",
    "predicted_price_2 = sc.inverse_transform(predicted_price_2)\n",
    "\n",
    "x_test_3 = []\n",
    "for i in range(60,693):\n",
    "    x_test_3.append(inputs_3[i-60:i,0])\n",
    "    \n",
    "x_test_3 = np.array(x_test_3)\n",
    "x_test_3 = np.reshape(x_test_3, (x_test_3.shape[0],x_test_3.shape[1],1))\n",
    "predicted_price_3 = regressor_3.predict(x_test_3)\n",
    "predicted_price_3 = sc.inverse_transform(predicted_price_3)\n",
    "\n",
    "x_test_4 = []\n",
    "for i in range(60,693):\n",
    "    x_test_4.append(inputs_4[i-60:i,0])\n",
    "    \n",
    "x_test_4 = np.array(x_test_4)\n",
    "x_test_4 = np.reshape(x_test_4, (x_test_4.shape[0],x_test_4.shape[1],1))\n",
    "predicted_price_4 = regressor_4.predict(x_test_4)\n",
    "predicted_price_4 = sc.inverse_transform(predicted_price_4)\n",
    "\n",
    "predicted_price_1.shape\n",
    "predicted_price_2.shape\n",
    "predicted_price_3.shape\n",
    "predicted_price_4.shape\n",
    "\n",
    "\n",
    "   "
   ]
  },
  {
   "cell_type": "code",
   "execution_count": 47,
   "id": "bbd7eeaf",
   "metadata": {
    "execution": {
     "iopub.execute_input": "2023-02-19T11:08:57.632023Z",
     "iopub.status.busy": "2023-02-19T11:08:57.631646Z",
     "iopub.status.idle": "2023-02-19T11:08:58.362820Z",
     "shell.execute_reply": "2023-02-19T11:08:58.361933Z"
    },
    "papermill": {
     "duration": 1.17723,
     "end_time": "2023-02-19T11:08:58.365678",
     "exception": false,
     "start_time": "2023-02-19T11:08:57.188448",
     "status": "completed"
    },
    "tags": []
   },
   "outputs": [
    {
     "data": {
      "image/png": "[encoded data removed]",
      "text/plain": [
       "<Figure size 1440x864 with 4 Axes>"
      ]
     },
     "metadata": {
      "needs_background": "light"
     },
     "output_type": "display_data"
    }
   ],
   "source": [
    "plt.figure(figsize=(20, 12))\n",
    "for index, company in enumerate(Companies):\n",
    "  plt.subplot(3, 2, index + 1)\n",
    "  plt.plot(company[\"Date\"], company[\"Close\"])\n",
    "  plt.plot(company[\"Date\"], company[\"Moving Average for 10 days\"])\n",
    "  plt.plot(company[\"Date\"], company[\"Moving Average for 20 days\"])\n",
    "  plt.plot(company[\"Date\"], company[\"Moving Average for 50 days\"])\n",
    "  plt.title(Companies_Title[index])\n",
    "  plt.legend((\"Adj Close\", \"Moving Average for 10 days\", \"Moving Average for 20 days\", \"Moving Average for 50 days\"))"
   ]
  },
  {
   "cell_type": "code",
   "execution_count": 48,
   "id": "3e740195",
   "metadata": {
    "execution": {
     "iopub.execute_input": "2023-02-19T11:08:59.309691Z",
     "iopub.status.busy": "2023-02-19T11:08:59.309323Z",
     "iopub.status.idle": "2023-02-19T11:08:59.323639Z",
     "shell.execute_reply": "2023-02-19T11:08:59.322674Z"
    },
    "papermill": {
     "duration": 0.467311,
     "end_time": "2023-02-19T11:08:59.325956",
     "exception": false,
     "start_time": "2023-02-19T11:08:58.858645",
     "status": "completed"
    },
    "tags": []
   },
   "outputs": [
    {
     "data": {
      "text/html": [
       "<div>\n",
       "<style scoped>\n",
       "    .dataframe tbody tr th:only-of-type {\n",
       "        vertical-align: middle;\n",
       "    }\n",
       "\n",
       "    .dataframe tbody tr th {\n",
       "        vertical-align: top;\n",
       "    }\n",
       "\n",
       "    .dataframe thead th {\n",
       "        text-align: right;\n",
       "    }\n",
       "</style>\n",
       "<table border=\"1\" class=\"dataframe\">\n",
       "  <thead>\n",
       "    <tr style=\"text-align: right;\">\n",
       "      <th></th>\n",
       "      <th>Id</th>\n",
       "      <th>Close</th>\n",
       "    </tr>\n",
       "  </thead>\n",
       "  <tbody>\n",
       "    <tr>\n",
       "      <th>0</th>\n",
       "      <td>0</td>\n",
       "      <td>57.699680</td>\n",
       "    </tr>\n",
       "    <tr>\n",
       "      <th>1</th>\n",
       "      <td>1</td>\n",
       "      <td>68.165161</td>\n",
       "    </tr>\n",
       "    <tr>\n",
       "      <th>2</th>\n",
       "      <td>2</td>\n",
       "      <td>70.398087</td>\n",
       "    </tr>\n",
       "    <tr>\n",
       "      <th>3</th>\n",
       "      <td>3</td>\n",
       "      <td>68.941154</td>\n",
       "    </tr>\n",
       "    <tr>\n",
       "      <th>4</th>\n",
       "      <td>4</td>\n",
       "      <td>69.722054</td>\n",
       "    </tr>\n",
       "    <tr>\n",
       "      <th>...</th>\n",
       "      <td>...</td>\n",
       "      <td>...</td>\n",
       "    </tr>\n",
       "    <tr>\n",
       "      <th>2527</th>\n",
       "      <td>2527</td>\n",
       "      <td>91.633476</td>\n",
       "    </tr>\n",
       "    <tr>\n",
       "      <th>2528</th>\n",
       "      <td>2528</td>\n",
       "      <td>94.410278</td>\n",
       "    </tr>\n",
       "    <tr>\n",
       "      <th>2529</th>\n",
       "      <td>2529</td>\n",
       "      <td>96.440536</td>\n",
       "    </tr>\n",
       "    <tr>\n",
       "      <th>2530</th>\n",
       "      <td>2530</td>\n",
       "      <td>96.783142</td>\n",
       "    </tr>\n",
       "    <tr>\n",
       "      <th>2531</th>\n",
       "      <td>2531</td>\n",
       "      <td>95.158546</td>\n",
       "    </tr>\n",
       "  </tbody>\n",
       "</table>\n",
       "<p>2532 rows × 2 columns</p>\n",
       "</div>"
      ],
      "text/plain": [
       "        Id      Close\n",
       "0        0  57.699680\n",
       "1        1  68.165161\n",
       "2        2  70.398087\n",
       "3        3  68.941154\n",
       "4        4  69.722054\n",
       "...    ...        ...\n",
       "2527  2527  91.633476\n",
       "2528  2528  94.410278\n",
       "2529  2529  96.440536\n",
       "2530  2530  96.783142\n",
       "2531  2531  95.158546\n",
       "\n",
       "[2532 rows x 2 columns]"
      ]
     },
     "execution_count": 48,
     "metadata": {},
     "output_type": "execute_result"
    }
   ],
   "source": [
    "pred = []\n",
    "pred= np.append(pred,predicted_price_4)\n",
    "pred= np.append(pred,predicted_price_3)\n",
    "pred=np.append(pred,predicted_price_1)\n",
    "pred= np.append(pred,predicted_price_2)\n",
    "#pred = np.array(pred)\n",
    "#pred.reshape(2530,1)\n",
    "Id = np.array(TEST[\"ID\"])\n",
    "submission_df= pd.DataFrame({\"Id\":Id, \"Close\":pred})\n",
    "submission_df\n",
    "#Companies[3] = pd.DataFrame({\"Date\":dates,\"Open\":opens, \"High\":High, \"Low\":Low,\"Adj Close\":Adj,\"Volume\":Volume, \"Close\": a})"
   ]
  },
  {
   "cell_type": "code",
   "execution_count": 49,
   "id": "4dd64092",
   "metadata": {
    "execution": {
     "iopub.execute_input": "2023-02-19T11:09:00.270165Z",
     "iopub.status.busy": "2023-02-19T11:09:00.269814Z",
     "iopub.status.idle": "2023-02-19T11:09:00.281958Z",
     "shell.execute_reply": "2023-02-19T11:09:00.281069Z"
    },
    "papermill": {
     "duration": 0.506595,
     "end_time": "2023-02-19T11:09:00.284164",
     "exception": false,
     "start_time": "2023-02-19T11:08:59.777569",
     "status": "completed"
    },
    "tags": []
   },
   "outputs": [],
   "source": [
    "submission_df.to_csv('submission.csv',index=False)"
   ]
  },
  {
   "cell_type": "code",
   "execution_count": 50,
   "id": "e553f58b",
   "metadata": {
    "execution": {
     "iopub.execute_input": "2023-02-19T11:09:01.243663Z",
     "iopub.status.busy": "2023-02-19T11:09:01.243300Z",
     "iopub.status.idle": "2023-02-19T11:09:01.248106Z",
     "shell.execute_reply": "2023-02-19T11:09:01.247141Z"
    },
    "papermill": {
     "duration": 0.50878,
     "end_time": "2023-02-19T11:09:01.250230",
     "exception": false,
     "start_time": "2023-02-19T11:09:00.741450",
     "status": "completed"
    },
    "tags": []
   },
   "outputs": [],
   "source": [
    "# train_data, test_data = df1[0:int(len(df1)*0.7)], df1[int(len(df1)*0.7):]\n",
    "# training_data = train_data['Close'].values\n",
    "# test_data = test_data['Close'].values\n",
    "# history = [x for x in training_data]\n",
    "# model_predictions = []\n",
    "# N_test_observations = len(test_data)\n",
    "# for time_point in range(N_test_observations):\n",
    "#     model = ARIMA(history, order=(4,1,0))\n",
    "#     model_fit = model.fit()\n",
    "#     output = model_fit.forecast()\n",
    "#     yhat = output[0]\n",
    "#     model_predictions.append(yhat)\n",
    "#     true_test_value = test_data[time_point]\n",
    "#     history.append(true_test_value)\n",
    "# MSE_error = mean_squared_error(test_data, model_predictions)\n",
    "# print('Testing Mean Squared Error is {}'.format(MSE_error))"
   ]
  },
  {
   "cell_type": "code",
   "execution_count": 51,
   "id": "7cfb0177",
   "metadata": {
    "execution": {
     "iopub.execute_input": "2023-02-19T11:09:02.142983Z",
     "iopub.status.busy": "2023-02-19T11:09:02.142625Z",
     "iopub.status.idle": "2023-02-19T11:09:02.146897Z",
     "shell.execute_reply": "2023-02-19T11:09:02.145925Z"
    },
    "papermill": {
     "duration": 0.457265,
     "end_time": "2023-02-19T11:09:02.149038",
     "exception": false,
     "start_time": "2023-02-19T11:09:01.691773",
     "status": "completed"
    },
    "tags": []
   },
   "outputs": [],
   "source": [
    "# AAPL = Companies[0]"
   ]
  },
  {
   "cell_type": "code",
   "execution_count": 52,
   "id": "92491a4e",
   "metadata": {
    "execution": {
     "iopub.execute_input": "2023-02-19T11:09:03.104938Z",
     "iopub.status.busy": "2023-02-19T11:09:03.104543Z",
     "iopub.status.idle": "2023-02-19T11:09:03.110088Z",
     "shell.execute_reply": "2023-02-19T11:09:03.109070Z"
    },
    "papermill": {
     "duration": 0.465415,
     "end_time": "2023-02-19T11:09:03.112249",
     "exception": false,
     "start_time": "2023-02-19T11:09:02.646834",
     "status": "completed"
    },
    "tags": []
   },
   "outputs": [],
   "source": [
    "# def Dataset(Data, Date):\n",
    "\n",
    "#   Train_Data = Data['Close'][Data['Date'] < Date].to_numpy()\n",
    "#   Data_Train = []\n",
    "#   Data_Train_X = []\n",
    "#   Data_Train_Y = []\n",
    "#   for i in range(0, len(Train_Data), 5):\n",
    "#     try:\n",
    "#       Data_Train.append(Train_Data[i : i + 5])\n",
    "#     except:\n",
    "#       pass\n",
    "\n",
    "#   if len(Data_Train[-1]) < 5:\n",
    "#     Data_Train.pop(-1)\n",
    "  \n",
    "#   Data_Train_X = Data_Train[0 : -1]\n",
    "#   Data_Train_X = np.array(Data_Train_X)\n",
    "#   Data_Train_X = Data_Train_X.reshape((-1, 5, 1))\n",
    "#   Data_Train_Y = Data_Train[1 : len(Data_Train)]\n",
    "#   Data_Train_Y = np.array(Data_Train_Y)\n",
    "#   Data_Train_Y = Data_Train_Y.reshape((-1, 5, 1))\n",
    "\n",
    "\n",
    "#   Test_Data = Data['Adj Close'][Data['Date'] >= Date].to_numpy()\n",
    "#   Data_Test = []\n",
    "#   Data_Test_X = []\n",
    "#   Data_Test_Y = []\n",
    "#   for i in range(0, len(Test_Data), 5):\n",
    "#     try:\n",
    "#       Data_Test.append(Test_Data[i : i + 5])\n",
    "#     except:\n",
    "#       pass\n",
    "\n",
    "#   if len(Data_Test[-1]) < 5:\n",
    "#     Data_Test.pop(-1)\n",
    "  \n",
    "#   Data_Test_X = Data_Test[0 : -1]\n",
    "#   Data_Test_X = np.array(Data_Test_X)\n",
    "#   Data_Test_X = Data_Test_X.reshape((-1, 5, 1))\n",
    "#   Data_Test_Y = Data_Test[1 : len(Data_Test)]\n",
    "#   Data_Test_Y = np.array(Data_Test_Y)\n",
    "#   Data_Test_Y = Data_Test_Y.reshape((-1, 5, 1))\n",
    "\n",
    "#   return Data_Train_X, Data_Train_Y, Data_Test_X, Data_Test_Y"
   ]
  },
  {
   "cell_type": "code",
   "execution_count": 53,
   "id": "5fbc2228",
   "metadata": {
    "execution": {
     "iopub.execute_input": "2023-02-19T11:09:04.098233Z",
     "iopub.status.busy": "2023-02-19T11:09:04.097881Z",
     "iopub.status.idle": "2023-02-19T11:09:04.102805Z",
     "shell.execute_reply": "2023-02-19T11:09:04.101725Z"
    },
    "papermill": {
     "duration": 0.527566,
     "end_time": "2023-02-19T11:09:04.105419",
     "exception": false,
     "start_time": "2023-02-19T11:09:03.577853",
     "status": "completed"
    },
    "tags": []
   },
   "outputs": [],
   "source": [
    "# def Model():\n",
    "#   model = tf.keras.models.Sequential([\n",
    "#                                       tf.keras.layers.LSTM(200, input_shape = (5, 1), activation = tf.nn.leaky_relu, return_sequences = True),\n",
    "#                                       tf.keras.layers.LSTM(200, activation = tf.nn.leaky_relu),\n",
    "#                                       tf.keras.layers.Dense(200, activation = tf.nn.leaky_relu),\n",
    "#                                       tf.keras.layers.Dense(100, activation = tf.nn.leaky_relu),\n",
    "#                                       tf.keras.layers.Dense(50, activation = tf.nn.leaky_relu),\n",
    "#                                       tf.keras.layers.Dense(5, activation = tf.nn.leaky_relu)\n",
    "#                                       ])\n",
    "#   return model"
   ]
  },
  {
   "cell_type": "code",
   "execution_count": 54,
   "id": "61118865",
   "metadata": {
    "execution": {
     "iopub.execute_input": "2023-02-19T11:09:05.071357Z",
     "iopub.status.busy": "2023-02-19T11:09:05.070444Z",
     "iopub.status.idle": "2023-02-19T11:09:05.075060Z",
     "shell.execute_reply": "2023-02-19T11:09:05.074048Z"
    },
    "papermill": {
     "duration": 0.52182,
     "end_time": "2023-02-19T11:09:05.077009",
     "exception": false,
     "start_time": "2023-02-19T11:09:04.555189",
     "status": "completed"
    },
    "tags": []
   },
   "outputs": [],
   "source": [
    "# model = Model()"
   ]
  },
  {
   "cell_type": "code",
   "execution_count": 55,
   "id": "eca98041",
   "metadata": {
    "execution": {
     "iopub.execute_input": "2023-02-19T11:09:05.991174Z",
     "iopub.status.busy": "2023-02-19T11:09:05.990820Z",
     "iopub.status.idle": "2023-02-19T11:09:05.995206Z",
     "shell.execute_reply": "2023-02-19T11:09:05.994239Z"
    },
    "papermill": {
     "duration": 0.468338,
     "end_time": "2023-02-19T11:09:05.997160",
     "exception": false,
     "start_time": "2023-02-19T11:09:05.528822",
     "status": "completed"
    },
    "tags": []
   },
   "outputs": [],
   "source": [
    "# tf.keras.utils.plot_model(model, show_shapes=True)"
   ]
  },
  {
   "cell_type": "code",
   "execution_count": 56,
   "id": "b03d4f9a",
   "metadata": {
    "execution": {
     "iopub.execute_input": "2023-02-19T11:09:07.067289Z",
     "iopub.status.busy": "2023-02-19T11:09:07.066938Z",
     "iopub.status.idle": "2023-02-19T11:09:07.071413Z",
     "shell.execute_reply": "2023-02-19T11:09:07.070450Z"
    },
    "papermill": {
     "duration": 0.577219,
     "end_time": "2023-02-19T11:09:07.074201",
     "exception": false,
     "start_time": "2023-02-19T11:09:06.496982",
     "status": "completed"
    },
    "tags": []
   },
   "outputs": [],
   "source": [
    "# model.summary()"
   ]
  },
  {
   "cell_type": "code",
   "execution_count": 57,
   "id": "9d7f3c05",
   "metadata": {
    "execution": {
     "iopub.execute_input": "2023-02-19T11:09:08.138883Z",
     "iopub.status.busy": "2023-02-19T11:09:08.138373Z",
     "iopub.status.idle": "2023-02-19T11:09:08.143786Z",
     "shell.execute_reply": "2023-02-19T11:09:08.142865Z"
    },
    "papermill": {
     "duration": 0.509917,
     "end_time": "2023-02-19T11:09:08.146032",
     "exception": false,
     "start_time": "2023-02-19T11:09:07.636115",
     "status": "completed"
    },
    "tags": []
   },
   "outputs": [],
   "source": [
    "# def scheduler(epoch):\n",
    "  \n",
    "#   if epoch <= 150:\n",
    "#     lrate = (10 ** -5) * (epoch / 150) \n",
    "#   elif epoch <= 400:\n",
    "#     initial_lrate = (10 ** -5)\n",
    "#     k = 0.01\n",
    "#     lrate = initial_lrate * math.exp(-k * (epoch - 150))\n",
    "#   else:\n",
    "#     lrate = (10 ** -6)\n",
    "  \n",
    "#   return lrate"
   ]
  },
  {
   "cell_type": "code",
   "execution_count": 58,
   "id": "772d8edc",
   "metadata": {
    "execution": {
     "iopub.execute_input": "2023-02-19T11:09:09.109580Z",
     "iopub.status.busy": "2023-02-19T11:09:09.109201Z",
     "iopub.status.idle": "2023-02-19T11:09:09.113465Z",
     "shell.execute_reply": "2023-02-19T11:09:09.112467Z"
    },
    "papermill": {
     "duration": 0.509959,
     "end_time": "2023-02-19T11:09:09.115502",
     "exception": false,
     "start_time": "2023-02-19T11:09:08.605543",
     "status": "completed"
    },
    "tags": []
   },
   "outputs": [],
   "source": [
    "# epochs = [i for i in range(1, 1001, 1)]\n",
    "# lrate = [scheduler(i) for i in range(1, 1001, 1)]\n",
    "# plt.plot(epochs, lrate)"
   ]
  },
  {
   "cell_type": "code",
   "execution_count": 59,
   "id": "ef1e26b2",
   "metadata": {
    "execution": {
     "iopub.execute_input": "2023-02-19T11:09:10.021540Z",
     "iopub.status.busy": "2023-02-19T11:09:10.021164Z",
     "iopub.status.idle": "2023-02-19T11:09:10.025582Z",
     "shell.execute_reply": "2023-02-19T11:09:10.024586Z"
    },
    "papermill": {
     "duration": 0.460396,
     "end_time": "2023-02-19T11:09:10.027721",
     "exception": false,
     "start_time": "2023-02-19T11:09:09.567325",
     "status": "completed"
    },
    "tags": []
   },
   "outputs": [],
   "source": [
    "# callback = tf.keras.callbacks.LearningRateScheduler(scheduler)"
   ]
  },
  {
   "cell_type": "code",
   "execution_count": 60,
   "id": "35867b64",
   "metadata": {
    "execution": {
     "iopub.execute_input": "2023-02-19T11:09:10.978264Z",
     "iopub.status.busy": "2023-02-19T11:09:10.977910Z",
     "iopub.status.idle": "2023-02-19T11:09:10.982217Z",
     "shell.execute_reply": "2023-02-19T11:09:10.981227Z"
    },
    "papermill": {
     "duration": 0.461493,
     "end_time": "2023-02-19T11:09:10.984224",
     "exception": false,
     "start_time": "2023-02-19T11:09:10.522731",
     "status": "completed"
    },
    "tags": []
   },
   "outputs": [],
   "source": [
    "# AAPL.head()"
   ]
  },
  {
   "cell_type": "code",
   "execution_count": 61,
   "id": "dd3a4285",
   "metadata": {
    "execution": {
     "iopub.execute_input": "2023-02-19T11:09:11.935967Z",
     "iopub.status.busy": "2023-02-19T11:09:11.935357Z",
     "iopub.status.idle": "2023-02-19T11:09:11.939522Z",
     "shell.execute_reply": "2023-02-19T11:09:11.938593Z"
    },
    "papermill": {
     "duration": 0.505178,
     "end_time": "2023-02-19T11:09:11.941412",
     "exception": false,
     "start_time": "2023-02-19T11:09:11.436234",
     "status": "completed"
    },
    "tags": []
   },
   "outputs": [],
   "source": [
    "# AAPL.info()"
   ]
  },
  {
   "cell_type": "code",
   "execution_count": 62,
   "id": "aac9d8b9",
   "metadata": {
    "execution": {
     "iopub.execute_input": "2023-02-19T11:09:12.932979Z",
     "iopub.status.busy": "2023-02-19T11:09:12.932629Z",
     "iopub.status.idle": "2023-02-19T11:09:12.937005Z",
     "shell.execute_reply": "2023-02-19T11:09:12.935976Z"
    },
    "papermill": {
     "duration": 0.515179,
     "end_time": "2023-02-19T11:09:12.939064",
     "exception": false,
     "start_time": "2023-02-19T11:09:12.423885",
     "status": "completed"
    },
    "tags": []
   },
   "outputs": [],
   "source": [
    "# AAPL[\"Date\"] = pd.to_datetime(AAPL[\"Date\"])"
   ]
  },
  {
   "cell_type": "code",
   "execution_count": 63,
   "id": "be047d88",
   "metadata": {
    "execution": {
     "iopub.execute_input": "2023-02-19T11:09:14.302061Z",
     "iopub.status.busy": "2023-02-19T11:09:14.301611Z",
     "iopub.status.idle": "2023-02-19T11:09:14.308323Z",
     "shell.execute_reply": "2023-02-19T11:09:14.307461Z"
    },
    "papermill": {
     "duration": 0.702018,
     "end_time": "2023-02-19T11:09:14.310962",
     "exception": false,
     "start_time": "2023-02-19T11:09:13.608944",
     "status": "completed"
    },
    "tags": []
   },
   "outputs": [],
   "source": [
    "# AAPL_Date = '2019-10-01'\n",
    "# AAPL_Train_X, AAPL_Train_Y, AAPL_Test_X, AAPL_Test_Y = Dataset(AAPL, AAPL_Date)"
   ]
  },
  {
   "cell_type": "code",
   "execution_count": 64,
   "id": "ee2a582f",
   "metadata": {
    "execution": {
     "iopub.execute_input": "2023-02-19T11:09:15.289945Z",
     "iopub.status.busy": "2023-02-19T11:09:15.289237Z",
     "iopub.status.idle": "2023-02-19T11:09:15.293723Z",
     "shell.execute_reply": "2023-02-19T11:09:15.292627Z"
    },
    "papermill": {
     "duration": 0.466485,
     "end_time": "2023-02-19T11:09:15.296033",
     "exception": false,
     "start_time": "2023-02-19T11:09:14.829548",
     "status": "completed"
    },
    "tags": []
   },
   "outputs": [],
   "source": [
    "# AAPL_Model = Model()"
   ]
  },
  {
   "cell_type": "code",
   "execution_count": 65,
   "id": "48136481",
   "metadata": {
    "execution": {
     "iopub.execute_input": "2023-02-19T11:09:16.251796Z",
     "iopub.status.busy": "2023-02-19T11:09:16.251416Z",
     "iopub.status.idle": "2023-02-19T11:09:16.255937Z",
     "shell.execute_reply": "2023-02-19T11:09:16.254896Z"
    },
    "papermill": {
     "duration": 0.511947,
     "end_time": "2023-02-19T11:09:16.258385",
     "exception": false,
     "start_time": "2023-02-19T11:09:15.746438",
     "status": "completed"
    },
    "tags": []
   },
   "outputs": [],
   "source": [
    "# AAPL_Model.compile(optimizer = tf.keras.optimizers.Adam(), loss = 'mse', metrics = tf.keras.metrics.RootMeanSquaredError())"
   ]
  },
  {
   "cell_type": "code",
   "execution_count": 66,
   "id": "00fb080a",
   "metadata": {
    "execution": {
     "iopub.execute_input": "2023-02-19T11:09:17.165561Z",
     "iopub.status.busy": "2023-02-19T11:09:17.165156Z",
     "iopub.status.idle": "2023-02-19T11:09:17.169936Z",
     "shell.execute_reply": "2023-02-19T11:09:17.168892Z"
    },
    "papermill": {
     "duration": 0.461236,
     "end_time": "2023-02-19T11:09:17.172273",
     "exception": false,
     "start_time": "2023-02-19T11:09:16.711037",
     "status": "completed"
    },
    "tags": []
   },
   "outputs": [],
   "source": [
    "# AAPL_hist = AAPL_Model.fit(AAPL_Train_X, AAPL_Train_Y, epochs = 1000, validation_data = (AAPL_Test_X, AAPL_Test_Y), callbacks=[callback])\n"
   ]
  },
  {
   "cell_type": "code",
   "execution_count": 67,
   "id": "01517e69",
   "metadata": {
    "execution": {
     "iopub.execute_input": "2023-02-19T11:09:18.316070Z",
     "iopub.status.busy": "2023-02-19T11:09:18.315626Z",
     "iopub.status.idle": "2023-02-19T11:09:18.320785Z",
     "shell.execute_reply": "2023-02-19T11:09:18.319464Z"
    },
    "papermill": {
     "duration": 0.642889,
     "end_time": "2023-02-19T11:09:18.323239",
     "exception": false,
     "start_time": "2023-02-19T11:09:17.680350",
     "status": "completed"
    },
    "tags": []
   },
   "outputs": [],
   "source": [
    "# history_dict = AAPL_hist.history\n",
    "\n",
    "# loss = history_dict[\"loss\"]\n",
    "# root_mean_squared_error = history_dict[\"root_mean_squared_error\"]\n",
    "# val_loss = history_dict[\"val_loss\"]\n",
    "# val_root_mean_squared_error = history_dict[\"val_root_mean_squared_error\"]\n",
    "\n",
    "# epochs = range(1, len(loss) + 1)"
   ]
  },
  {
   "cell_type": "code",
   "execution_count": 68,
   "id": "7eeac136",
   "metadata": {
    "execution": {
     "iopub.execute_input": "2023-02-19T11:09:19.307542Z",
     "iopub.status.busy": "2023-02-19T11:09:19.307156Z",
     "iopub.status.idle": "2023-02-19T11:09:19.312053Z",
     "shell.execute_reply": "2023-02-19T11:09:19.311052Z"
    },
    "papermill": {
     "duration": 0.463968,
     "end_time": "2023-02-19T11:09:19.314094",
     "exception": false,
     "start_time": "2023-02-19T11:09:18.850126",
     "status": "completed"
    },
    "tags": []
   },
   "outputs": [],
   "source": [
    "# fig, (ax1, ax2) = plt.subplots(1, 2)\n",
    "\n",
    "# fig.set_figheight(5)\n",
    "# fig.set_figwidth(15)\n",
    "\n",
    "# ax1.plot(epochs, loss, label = 'Training Loss')\n",
    "# ax1.plot(epochs, val_loss, label = 'Validation Loss')\n",
    "# ax1.set(xlabel = \"Epochs\", ylabel = \"Loss\")\n",
    "# ax1.legend()\n",
    "\n",
    "# ax2.plot(epochs, root_mean_squared_error, label = \"Training Root Mean Squared Error\")\n",
    "# ax2.plot(epochs, val_root_mean_squared_error, label = \"Validation Root Mean Squared Error\")\n",
    "# ax2.set(xlabel = \"Epochs\", ylabel = \"Loss\")\n",
    "# ax2.legend()\n",
    "\n",
    "# plt.show()"
   ]
  },
  {
   "cell_type": "code",
   "execution_count": 69,
   "id": "8c8a6f4a",
   "metadata": {
    "execution": {
     "iopub.execute_input": "2023-02-19T11:09:20.252371Z",
     "iopub.status.busy": "2023-02-19T11:09:20.251384Z",
     "iopub.status.idle": "2023-02-19T11:09:20.256281Z",
     "shell.execute_reply": "2023-02-19T11:09:20.255392Z"
    },
    "papermill": {
     "duration": 0.499217,
     "end_time": "2023-02-19T11:09:20.258331",
     "exception": false,
     "start_time": "2023-02-19T11:09:19.759114",
     "status": "completed"
    },
    "tags": []
   },
   "outputs": [],
   "source": [
    "# import pickle\n",
    "# filename = 'model_1.sav'\n",
    "# pickle.dump(AAPL_Model, open(filename, 'wb'))"
   ]
  },
  {
   "cell_type": "code",
   "execution_count": 70,
   "id": "4d597f6c",
   "metadata": {
    "execution": {
     "iopub.execute_input": "2023-02-19T11:09:21.210817Z",
     "iopub.status.busy": "2023-02-19T11:09:21.210445Z",
     "iopub.status.idle": "2023-02-19T11:09:21.214703Z",
     "shell.execute_reply": "2023-02-19T11:09:21.213666Z"
    },
    "papermill": {
     "duration": 0.507409,
     "end_time": "2023-02-19T11:09:21.216725",
     "exception": false,
     "start_time": "2023-02-19T11:09:20.709316",
     "status": "completed"
    },
    "tags": []
   },
   "outputs": [],
   "source": [
    "# AAPL_prediction = AAPL_Model.predict(AAPL_Test_X)"
   ]
  },
  {
   "cell_type": "code",
   "execution_count": 71,
   "id": "5ee5e942",
   "metadata": {
    "execution": {
     "iopub.execute_input": "2023-02-19T11:09:22.144691Z",
     "iopub.status.busy": "2023-02-19T11:09:22.144301Z",
     "iopub.status.idle": "2023-02-19T11:09:22.148762Z",
     "shell.execute_reply": "2023-02-19T11:09:22.147808Z"
    },
    "papermill": {
     "duration": 0.458724,
     "end_time": "2023-02-19T11:09:22.150806",
     "exception": false,
     "start_time": "2023-02-19T11:09:21.692082",
     "status": "completed"
    },
    "tags": []
   },
   "outputs": [],
   "source": [
    "# plt.figure(figsize=(20, 5))\n",
    "# plt.plot(AAPL['Date'][AAPL['Date'] < '2019-10-12'], AAPL['Close'][AAPL['Date'] < '2019-10-12'], label = 'Training')\n",
    "# plt.plot(AAPL['Date'][AAPL['Date'] >= '2019-10-09'], AAPL['Close'][AAPL['Date'] >= '2019-10-09'], label = 'Testing')\n",
    "# plt.plot(AAPL['Date'][AAPL['Date'] >= '2019-10-09'], AAPL_prediction.reshape(-1), label = 'Predictions')\n",
    "# plt.xlabel('Time')\n",
    "# plt.ylabel('Closing Price')\n",
    "# plt.legend(loc = 'best')"
   ]
  },
  {
   "cell_type": "code",
   "execution_count": 72,
   "id": "b2bb62f3",
   "metadata": {
    "execution": {
     "iopub.execute_input": "2023-02-19T11:09:23.094575Z",
     "iopub.status.busy": "2023-02-19T11:09:23.094200Z",
     "iopub.status.idle": "2023-02-19T11:09:23.099979Z",
     "shell.execute_reply": "2023-02-19T11:09:23.099085Z"
    },
    "papermill": {
     "duration": 0.456941,
     "end_time": "2023-02-19T11:09:23.102105",
     "exception": false,
     "start_time": "2023-02-19T11:09:22.645164",
     "status": "completed"
    },
    "tags": []
   },
   "outputs": [],
   "source": [
    "# rmse = math.sqrt(mean_squared_error(AAPL_Test_Y.reshape(-1, 5), AAPL_prediction))\n",
    "# mape = np.mean(np.abs(AAPL_prediction - AAPL_Test_Y.reshape(-1, 5))/np.abs(AAPL_Test_Y.reshape(-1, 5)))\n",
    "# print(f'RMSE: {rmse}')\n",
    "# print(f'MAPE: {mape}')"
   ]
  },
  {
   "cell_type": "code",
   "execution_count": 73,
   "id": "bb1865e2",
   "metadata": {
    "execution": {
     "iopub.execute_input": "2023-02-19T11:09:24.001425Z",
     "iopub.status.busy": "2023-02-19T11:09:24.000967Z",
     "iopub.status.idle": "2023-02-19T11:09:24.006810Z",
     "shell.execute_reply": "2023-02-19T11:09:24.005458Z"
    },
    "papermill": {
     "duration": 0.459346,
     "end_time": "2023-02-19T11:09:24.009157",
     "exception": false,
     "start_time": "2023-02-19T11:09:23.549811",
     "status": "completed"
    },
    "tags": []
   },
   "outputs": [],
   "source": [
    "# TSLA= Companies[1]"
   ]
  },
  {
   "cell_type": "code",
   "execution_count": 74,
   "id": "4924ccec",
   "metadata": {
    "execution": {
     "iopub.execute_input": "2023-02-19T11:09:24.976619Z",
     "iopub.status.busy": "2023-02-19T11:09:24.976245Z",
     "iopub.status.idle": "2023-02-19T11:09:24.981492Z",
     "shell.execute_reply": "2023-02-19T11:09:24.980581Z"
    },
    "papermill": {
     "duration": 0.469028,
     "end_time": "2023-02-19T11:09:24.983544",
     "exception": false,
     "start_time": "2023-02-19T11:09:24.514516",
     "status": "completed"
    },
    "tags": []
   },
   "outputs": [],
   "source": [
    "# TSLA[\"Date\"] = pd.to_datetime(TSLA[\"Date\"])\n",
    "# TSLA_Date = '2020-10-01'\n",
    "# TSLA_Train_X, TSLA_Train_Y, TSLA_Test_X, TSLA_Test_Y = Dataset(TSLA, TSLA_Date)\n",
    "# TSLA_Model = Model()\n",
    "     \n",
    "\n",
    "# TSLA_Model.compile(optimizer = tf.keras.optimizers.Adam(), loss = 'mse', metrics = tf.keras.metrics.RootMeanSquaredError())\n",
    "     \n",
    "\n",
    "# TSLA_hist = TSLA_Model.fit(TSLA_Train_X, TSLA_Train_Y, epochs = 200, validation_data = (TSLA_Test_X, TSLA_Test_Y), callbacks=[callback])\n",
    "     \n",
    "\n",
    "# history_dict = TSLA_hist.history\n",
    "\n",
    "# loss = history_dict[\"loss\"]\n",
    "# root_mean_squared_error = history_dict[\"root_mean_squared_error\"]\n",
    "# val_loss = history_dict[\"val_loss\"]\n",
    "# val_root_mean_squared_error = history_dict[\"val_root_mean_squared_error\"]\n",
    "\n",
    "# epochs = range(1, len(loss) + 1)\n",
    "     \n",
    "\n",
    "# fig, (ax1, ax2) = plt.subplots(1, 2)\n",
    "\n",
    "# fig.set_figheight(5)\n",
    "# fig.set_figwidth(15)\n",
    "\n",
    "# ax1.plot(epochs, loss, label = \"Training Loss\")\n",
    "# ax1.plot(epochs, val_loss, label = \"Validation Loss\")\n",
    "# ax1.set(xlabel = \"Epochs\", ylabel = \"Loss\")\n",
    "# ax1.legend()\n",
    "\n",
    "# ax2.plot(epochs, root_mean_squared_error, label = \"Training Root Mean Squared Error\")\n",
    "# ax2.plot(epochs, val_root_mean_squared_error, label = \"Validation Root Mean Squared Error\")\n",
    "# ax2.set(xlabel = \"Epochs\", ylabel = \"Loss\")\n",
    "# ax2.legend()\n",
    "\n",
    "# plt.show()"
   ]
  },
  {
   "cell_type": "code",
   "execution_count": 75,
   "id": "5a66799c",
   "metadata": {
    "execution": {
     "iopub.execute_input": "2023-02-19T11:09:25.928147Z",
     "iopub.status.busy": "2023-02-19T11:09:25.927794Z",
     "iopub.status.idle": "2023-02-19T11:09:25.931859Z",
     "shell.execute_reply": "2023-02-19T11:09:25.930884Z"
    },
    "papermill": {
     "duration": 0.456385,
     "end_time": "2023-02-19T11:09:25.933850",
     "exception": false,
     "start_time": "2023-02-19T11:09:25.477465",
     "status": "completed"
    },
    "tags": []
   },
   "outputs": [],
   "source": [
    "# import pickle\n",
    "# filename = 'model_2.sav'\n",
    "# pickle.dump(TSLA_Model, open(filename, 'wb'))"
   ]
  },
  {
   "cell_type": "code",
   "execution_count": 76,
   "id": "f33b24cc",
   "metadata": {
    "execution": {
     "iopub.execute_input": "2023-02-19T11:09:26.881454Z",
     "iopub.status.busy": "2023-02-19T11:09:26.881073Z",
     "iopub.status.idle": "2023-02-19T11:09:26.885362Z",
     "shell.execute_reply": "2023-02-19T11:09:26.884437Z"
    },
    "papermill": {
     "duration": 0.506769,
     "end_time": "2023-02-19T11:09:26.887451",
     "exception": false,
     "start_time": "2023-02-19T11:09:26.380682",
     "status": "completed"
    },
    "tags": []
   },
   "outputs": [],
   "source": [
    "# GOOG = Companies[2]\n",
    "# MSFT= Companies[3]"
   ]
  },
  {
   "cell_type": "code",
   "execution_count": 77,
   "id": "0abe20cf",
   "metadata": {
    "execution": {
     "iopub.execute_input": "2023-02-19T11:09:27.783890Z",
     "iopub.status.busy": "2023-02-19T11:09:27.783522Z",
     "iopub.status.idle": "2023-02-19T11:09:27.787738Z",
     "shell.execute_reply": "2023-02-19T11:09:27.786788Z"
    },
    "papermill": {
     "duration": 0.45645,
     "end_time": "2023-02-19T11:09:27.789662",
     "exception": false,
     "start_time": "2023-02-19T11:09:27.333212",
     "status": "completed"
    },
    "tags": []
   },
   "outputs": [],
   "source": [
    "# GOOG[\"Date\"] = pd.to_datetime(GOOG[\"Date\"])\n",
    "# GOOG_Date = '2020-11-01'\n",
    "# GOOG_Train_X, GOOG_Train_Y, GOOG_Test_X, GOOG_Test_Y = Dataset(GOOG, GOOG_Date)"
   ]
  },
  {
   "cell_type": "code",
   "execution_count": 78,
   "id": "5d88fe89",
   "metadata": {
    "execution": {
     "iopub.execute_input": "2023-02-19T11:09:28.739620Z",
     "iopub.status.busy": "2023-02-19T11:09:28.739249Z",
     "iopub.status.idle": "2023-02-19T11:09:28.744254Z",
     "shell.execute_reply": "2023-02-19T11:09:28.743304Z"
    },
    "papermill": {
     "duration": 0.456913,
     "end_time": "2023-02-19T11:09:28.746213",
     "exception": false,
     "start_time": "2023-02-19T11:09:28.289300",
     "status": "completed"
    },
    "tags": []
   },
   "outputs": [],
   "source": [
    "# GOOG_Model = Model()\n",
    "     \n",
    "\n",
    "# GOOG_Model.compile(optimizer = tf.keras.optimizers.Adam(), loss = 'mse', metrics = tf.keras.metrics.RootMeanSquaredError())\n",
    "     \n",
    "\n",
    "# GOOG_hist = GOOG_Model.fit(GOOG_Train_X, GOOG_Train_Y, epochs = 1000, validation_data = (GOOG_Test_X, GOOG_Test_Y), callbacks = [callback])\n",
    "     \n",
    "\n",
    "# history_dict = GOOG_hist.history\n",
    "\n",
    "# loss = history_dict[\"loss\"]\n",
    "# root_mean_squared_error = history_dict[\"root_mean_squared_error\"]\n",
    "# val_loss = history_dict[\"val_loss\"]\n",
    "# val_root_mean_squared_error = history_dict[\"val_root_mean_squared_error\"]\n",
    "\n",
    "# epochs = range(1, len(loss) + 1)\n",
    "     \n",
    "\n",
    "# fig, (ax1, ax2) = plt.subplots(1, 2)\n",
    "\n",
    "# fig.set_figheight(5)\n",
    "# fig.set_figwidth(15)\n",
    "\n",
    "# ax1.plot(epochs, loss, label = \"Training Loss\")\n",
    "# ax1.plot(epochs, val_loss, label = \"Validation Loss\")\n",
    "# ax1.set(xlabel = \"Epochs\", ylabel = \"Loss\")\n",
    "# ax1.legend()\n",
    "\n",
    "# ax2.plot(epochs, root_mean_squared_error, label = \"Training Root Mean Squared Error\")\n",
    "# ax2.plot(epochs, val_root_mean_squared_error, label = \"Validation Root Mean Squared Error\")\n",
    "# ax2.set(xlabel = \"Epochs\", ylabel = \"Loss\")\n",
    "# ax2.legend()\n",
    "\n",
    "# plt.show()"
   ]
  },
  {
   "cell_type": "code",
   "execution_count": 79,
   "id": "b5d85587",
   "metadata": {
    "execution": {
     "iopub.execute_input": "2023-02-19T11:09:29.945952Z",
     "iopub.status.busy": "2023-02-19T11:09:29.945591Z",
     "iopub.status.idle": "2023-02-19T11:09:29.950174Z",
     "shell.execute_reply": "2023-02-19T11:09:29.948930Z"
    },
    "papermill": {
     "duration": 0.511839,
     "end_time": "2023-02-19T11:09:29.952222",
     "exception": false,
     "start_time": "2023-02-19T11:09:29.440383",
     "status": "completed"
    },
    "tags": []
   },
   "outputs": [],
   "source": [
    "# import pickle\n",
    "# filename = 'model_3.sav'\n",
    "# pickle.dump(GOOG_Model, open(filename, 'wb'))"
   ]
  },
  {
   "cell_type": "code",
   "execution_count": 80,
   "id": "863da62c",
   "metadata": {
    "execution": {
     "iopub.execute_input": "2023-02-19T11:09:30.911230Z",
     "iopub.status.busy": "2023-02-19T11:09:30.910885Z",
     "iopub.status.idle": "2023-02-19T11:09:30.915143Z",
     "shell.execute_reply": "2023-02-19T11:09:30.914143Z"
    },
    "papermill": {
     "duration": 0.520246,
     "end_time": "2023-02-19T11:09:30.917131",
     "exception": false,
     "start_time": "2023-02-19T11:09:30.396885",
     "status": "completed"
    },
    "tags": []
   },
   "outputs": [],
   "source": [
    "# MSFT[\"Date\"] = pd.to_datetime(MSFT[\"Date\"])\n",
    "# MSFT_Date = '2020-10-01'\n",
    "# MSFT_Train_X, MSFT_Train_Y, MSFT_Test_X, MSFT_Test_Y = Dataset(MSFT, MSFT_Date)"
   ]
  },
  {
   "cell_type": "code",
   "execution_count": 81,
   "id": "68f92b2e",
   "metadata": {
    "execution": {
     "iopub.execute_input": "2023-02-19T11:09:31.813539Z",
     "iopub.status.busy": "2023-02-19T11:09:31.813147Z",
     "iopub.status.idle": "2023-02-19T11:09:31.818312Z",
     "shell.execute_reply": "2023-02-19T11:09:31.817273Z"
    },
    "papermill": {
     "duration": 0.458282,
     "end_time": "2023-02-19T11:09:31.820361",
     "exception": false,
     "start_time": "2023-02-19T11:09:31.362079",
     "status": "completed"
    },
    "tags": []
   },
   "outputs": [],
   "source": [
    "# MSFT_Model = Model()\n",
    "     \n",
    "\n",
    "# MSFT_Model.compile(optimizer = tf.keras.optimizers.Adam(), loss = 'mse', metrics = tf.keras.metrics.RootMeanSquaredError())\n",
    "     \n",
    "\n",
    "# MSFT_hist = MSFT_Model.fit(MSFT_Train_X, MSFT_Train_Y, epochs = 1000, validation_data = (MSFT_Test_X, MSFT_Test_Y), callbacks=[callback])\n",
    "     \n",
    "\n",
    "# history_dict = MSFT_hist.history\n",
    "\n",
    "# loss = history_dict[\"loss\"]\n",
    "# root_mean_squared_error = history_dict[\"root_mean_squared_error\"]\n",
    "# val_loss = history_dict[\"val_loss\"]\n",
    "# val_root_mean_squared_error = history_dict[\"val_root_mean_squared_error\"]\n",
    "\n",
    "# epochs = range(1, len(loss) + 1)\n",
    "     \n",
    "\n",
    "# fig, (ax1, ax2) = plt.subplots(1, 2)\n",
    "\n",
    "# fig.set_figheight(5)\n",
    "# fig.set_figwidth(15)\n",
    "\n",
    "# ax1.plot(epochs, loss, label = \"Training Loss\")\n",
    "# ax1.plot(epochs, val_loss, label = \"Validation Loss\")\n",
    "# ax1.set(xlabel = \"Epochs\", ylabel = \"Loss\")\n",
    "# ax1.legend()\n",
    "\n",
    "# ax2.plot(epochs, root_mean_squared_error, label = \"Training Root Mean Squared Error\")\n",
    "# ax2.plot(epochs, val_root_mean_squared_error, label = \"Validation Root Mean Squared Error\")\n",
    "# ax2.set(xlabel = \"Epochs\", ylabel = \"Loss\")\n",
    "# ax2.legend()\n",
    "\n",
    "# plt.show()"
   ]
  },
  {
   "cell_type": "code",
   "execution_count": 82,
   "id": "37f05a14",
   "metadata": {
    "execution": {
     "iopub.execute_input": "2023-02-19T11:09:32.765585Z",
     "iopub.status.busy": "2023-02-19T11:09:32.765203Z",
     "iopub.status.idle": "2023-02-19T11:09:32.769546Z",
     "shell.execute_reply": "2023-02-19T11:09:32.768592Z"
    },
    "papermill": {
     "duration": 0.457023,
     "end_time": "2023-02-19T11:09:32.771541",
     "exception": false,
     "start_time": "2023-02-19T11:09:32.314518",
     "status": "completed"
    },
    "tags": []
   },
   "outputs": [],
   "source": [
    "# import pickle\n",
    "# filename = 'model_4.sav'\n",
    "# pickle.dump(MSFT_Model, open(filename, 'wb'))"
   ]
  }
 ],
 "metadata": {
  "kernelspec": {
   "display_name": "Python 3",
   "language": "python",
   "name": "python3"
  },
  "language_info": {
   "codemirror_mode": {
    "name": "ipython",
    "version": 3
   },
   "file_extension": ".py",
   "mimetype": "text/x-python",
   "name": "python",
   "nbconvert_exporter": "python",
   "pygments_lexer": "ipython3",
   "version": "3.7.12"
  },
  "papermill": {
   "default_parameters": {},
   "duration": 591.36972,
   "end_time": "2023-02-19T11:09:36.603012",
   "environment_variables": {},
   "exception": null,
   "input_path": "__notebook__.ipynb",
   "output_path": "__notebook__.ipynb",
   "parameters": {},
   "start_time": "2023-02-19T10:59:45.233292",
   "version": "2.3.4"
  }
 },
 "nbformat": 4,
 "nbformat_minor": 5
}
